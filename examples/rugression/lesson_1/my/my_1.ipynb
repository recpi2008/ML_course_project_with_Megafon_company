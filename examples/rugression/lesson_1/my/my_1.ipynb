{
 "cells": [
  {
   "cell_type": "code",
   "execution_count": 1,
   "metadata": {},
   "outputs": [],
   "source": [
    "import pandas as pd\n",
    "import numpy as np\n",
    "\n",
    "from sklearn.linear_model import LinearRegression, Lasso, Ridge, LassoCV, RidgeCV\n",
    "from sklearn.preprocessing import StandardScaler\n",
    "from sklearn.metrics import mean_squared_error\n",
    "from sklearn.model_selection import train_test_split\n",
    "from sklearn.ensemble import RandomForestRegressor\n",
    "%matplotlib inline\n",
    "import seaborn as sns\n",
    "\n",
    "from scipy.stats import boxcox, probplot\n",
    "import matplotlib.pyplot as plt"
   ]
  },
  {
   "cell_type": "code",
   "execution_count": 2,
   "metadata": {},
   "outputs": [],
   "source": [
    "data = pd.read_csv('calls_dataset_with_features.csv')"
   ]
  },
  {
   "cell_type": "code",
   "execution_count": 3,
   "metadata": {},
   "outputs": [
    {
     "data": {
      "text/html": [
       "<div>\n",
       "<style scoped>\n",
       "    .dataframe tbody tr th:only-of-type {\n",
       "        vertical-align: middle;\n",
       "    }\n",
       "\n",
       "    .dataframe tbody tr th {\n",
       "        vertical-align: top;\n",
       "    }\n",
       "\n",
       "    .dataframe thead th {\n",
       "        text-align: right;\n",
       "    }\n",
       "</style>\n",
       "<table border=\"1\" class=\"dataframe\">\n",
       "  <thead>\n",
       "    <tr style=\"text-align: right;\">\n",
       "      <th></th>\n",
       "      <th>address</th>\n",
       "      <th>duration_minutes</th>\n",
       "      <th>feat_1</th>\n",
       "      <th>feat_2</th>\n",
       "      <th>geometry</th>\n",
       "      <th>poly_side</th>\n",
       "      <th>atm</th>\n",
       "      <th>bank</th>\n",
       "      <th>bus_station</th>\n",
       "      <th>bus_stop</th>\n",
       "      <th>cafe</th>\n",
       "      <th>device_charging_station</th>\n",
       "      <th>office</th>\n",
       "      <th>public_service</th>\n",
       "      <th>restaurant</th>\n",
       "      <th>shelter</th>\n",
       "      <th>station</th>\n",
       "      <th>traffic_signals</th>\n",
       "      <th>waste_basket</th>\n",
       "    </tr>\n",
       "  </thead>\n",
       "  <tbody>\n",
       "    <tr>\n",
       "      <th>0</th>\n",
       "      <td>8811aa602dfffff</td>\n",
       "      <td>5.092667</td>\n",
       "      <td>0.0</td>\n",
       "      <td>25.0</td>\n",
       "      <td>POLYGON ((37.75103240708841 55.80603592669851,...</td>\n",
       "      <td>poly3</td>\n",
       "      <td>1.0</td>\n",
       "      <td>0.0</td>\n",
       "      <td>0.0</td>\n",
       "      <td>8.0</td>\n",
       "      <td>1.0</td>\n",
       "      <td>0.0</td>\n",
       "      <td>0.0</td>\n",
       "      <td>0.0</td>\n",
       "      <td>1.0</td>\n",
       "      <td>0.0</td>\n",
       "      <td>0.0</td>\n",
       "      <td>0.0</td>\n",
       "      <td>0.0</td>\n",
       "    </tr>\n",
       "    <tr>\n",
       "      <th>1</th>\n",
       "      <td>8811aa45d9fffff</td>\n",
       "      <td>6.037037</td>\n",
       "      <td>0.0</td>\n",
       "      <td>63.0</td>\n",
       "      <td>POLYGON ((37.40263832553934 55.71842073952227,...</td>\n",
       "      <td>poly0</td>\n",
       "      <td>5.0</td>\n",
       "      <td>3.0</td>\n",
       "      <td>0.0</td>\n",
       "      <td>5.0</td>\n",
       "      <td>2.0</td>\n",
       "      <td>0.0</td>\n",
       "      <td>0.0</td>\n",
       "      <td>0.0</td>\n",
       "      <td>2.0</td>\n",
       "      <td>0.0</td>\n",
       "      <td>0.0</td>\n",
       "      <td>0.0</td>\n",
       "      <td>0.0</td>\n",
       "    </tr>\n",
       "    <tr>\n",
       "      <th>2</th>\n",
       "      <td>881181a235fffff</td>\n",
       "      <td>4.722727</td>\n",
       "      <td>0.0</td>\n",
       "      <td>11.0</td>\n",
       "      <td>POLYGON ((37.74271427608124 55.43691297888912,...</td>\n",
       "      <td>poly1</td>\n",
       "      <td>0.0</td>\n",
       "      <td>0.0</td>\n",
       "      <td>0.0</td>\n",
       "      <td>1.0</td>\n",
       "      <td>1.0</td>\n",
       "      <td>0.0</td>\n",
       "      <td>0.0</td>\n",
       "      <td>0.0</td>\n",
       "      <td>0.0</td>\n",
       "      <td>0.0</td>\n",
       "      <td>0.0</td>\n",
       "      <td>0.0</td>\n",
       "      <td>0.0</td>\n",
       "    </tr>\n",
       "    <tr>\n",
       "      <th>3</th>\n",
       "      <td>8811aa722bfffff</td>\n",
       "      <td>5.868982</td>\n",
       "      <td>0.0</td>\n",
       "      <td>36.0</td>\n",
       "      <td>POLYGON ((37.42241082476207 55.85767681439805,...</td>\n",
       "      <td>poly2</td>\n",
       "      <td>2.0</td>\n",
       "      <td>2.0</td>\n",
       "      <td>0.0</td>\n",
       "      <td>12.0</td>\n",
       "      <td>2.0</td>\n",
       "      <td>0.0</td>\n",
       "      <td>0.0</td>\n",
       "      <td>0.0</td>\n",
       "      <td>0.0</td>\n",
       "      <td>0.0</td>\n",
       "      <td>0.0</td>\n",
       "      <td>0.0</td>\n",
       "      <td>0.0</td>\n",
       "    </tr>\n",
       "    <tr>\n",
       "      <th>4</th>\n",
       "      <td>8811aa714dfffff</td>\n",
       "      <td>2.937719</td>\n",
       "      <td>0.0</td>\n",
       "      <td>19.0</td>\n",
       "      <td>POLYGON ((37.45469517717559 55.7843306893976, ...</td>\n",
       "      <td>poly2</td>\n",
       "      <td>1.0</td>\n",
       "      <td>0.0</td>\n",
       "      <td>0.0</td>\n",
       "      <td>9.0</td>\n",
       "      <td>1.0</td>\n",
       "      <td>0.0</td>\n",
       "      <td>0.0</td>\n",
       "      <td>0.0</td>\n",
       "      <td>2.0</td>\n",
       "      <td>0.0</td>\n",
       "      <td>0.0</td>\n",
       "      <td>0.0</td>\n",
       "      <td>0.0</td>\n",
       "    </tr>\n",
       "  </tbody>\n",
       "</table>\n",
       "</div>"
      ],
      "text/plain": [
       "           address  duration_minutes  feat_1  feat_2  \\\n",
       "0  8811aa602dfffff          5.092667     0.0    25.0   \n",
       "1  8811aa45d9fffff          6.037037     0.0    63.0   \n",
       "2  881181a235fffff          4.722727     0.0    11.0   \n",
       "3  8811aa722bfffff          5.868982     0.0    36.0   \n",
       "4  8811aa714dfffff          2.937719     0.0    19.0   \n",
       "\n",
       "                                            geometry poly_side  atm  bank  \\\n",
       "0  POLYGON ((37.75103240708841 55.80603592669851,...     poly3  1.0   0.0   \n",
       "1  POLYGON ((37.40263832553934 55.71842073952227,...     poly0  5.0   3.0   \n",
       "2  POLYGON ((37.74271427608124 55.43691297888912,...     poly1  0.0   0.0   \n",
       "3  POLYGON ((37.42241082476207 55.85767681439805,...     poly2  2.0   2.0   \n",
       "4  POLYGON ((37.45469517717559 55.7843306893976, ...     poly2  1.0   0.0   \n",
       "\n",
       "   bus_station  bus_stop  cafe  device_charging_station  office  \\\n",
       "0          0.0       8.0   1.0                      0.0     0.0   \n",
       "1          0.0       5.0   2.0                      0.0     0.0   \n",
       "2          0.0       1.0   1.0                      0.0     0.0   \n",
       "3          0.0      12.0   2.0                      0.0     0.0   \n",
       "4          0.0       9.0   1.0                      0.0     0.0   \n",
       "\n",
       "   public_service  restaurant  shelter  station  traffic_signals  waste_basket  \n",
       "0             0.0         1.0      0.0      0.0              0.0           0.0  \n",
       "1             0.0         2.0      0.0      0.0              0.0           0.0  \n",
       "2             0.0         0.0      0.0      0.0              0.0           0.0  \n",
       "3             0.0         0.0      0.0      0.0              0.0           0.0  \n",
       "4             0.0         2.0      0.0      0.0              0.0           0.0  "
      ]
     },
     "execution_count": 3,
     "metadata": {},
     "output_type": "execute_result"
    }
   ],
   "source": [
    "data.head()"
   ]
  },
  {
   "cell_type": "code",
   "execution_count": 4,
   "metadata": {},
   "outputs": [],
   "source": [
    "### 1.Целевая переменная"
   ]
  },
  {
   "cell_type": "code",
   "execution_count": 5,
   "metadata": {},
   "outputs": [
    {
     "data": {
      "text/plain": [
       "<AxesSubplot:>"
      ]
     },
     "execution_count": 5,
     "metadata": {},
     "output_type": "execute_result"
    },
    {
     "data": {
      "image/png": "[encoded data removed]",
      "text/plain": [
       "<Figure size 432x288 with 1 Axes>"
      ]
     },
     "metadata": {
      "needs_background": "light"
     },
     "output_type": "display_data"
    }
   ],
   "source": [
    "data['duration_minutes'].hist()"
   ]
  },
  {
   "cell_type": "code",
   "execution_count": 6,
   "metadata": {},
   "outputs": [],
   "source": [
    "data = data[data['duration_minutes'] != 0]\n",
    "X = data.drop(['address', 'geometry', 'poly_side', 'duration_minutes'],axis=1)\n",
    "y = (data['duration_minutes'])"
   ]
  },
  {
   "cell_type": "code",
   "execution_count": 7,
   "metadata": {},
   "outputs": [
    {
     "data": {
      "image/png": "[encoded data removed]",
      "text/plain": [
       "<Figure size 432x288 with 1 Axes>"
      ]
     },
     "metadata": {
      "needs_background": "light"
     },
     "output_type": "display_data"
    }
   ],
   "source": [
    "f, ax = plt.subplots()\n",
    "probplot(y, plot=ax);"
   ]
  },
  {
   "cell_type": "markdown",
   "metadata": {},
   "source": [
    "Матрица корреляZции"
   ]
  },
  {
   "cell_type": "code",
   "execution_count": 8,
   "metadata": {},
   "outputs": [
    {
     "data": {
      "image/png": "[encoded data removed]",
      "text/plain": [
       "<Figure size 864x720 with 2 Axes>"
      ]
     },
     "metadata": {
      "needs_background": "light"
     },
     "output_type": "display_data"
    }
   ],
   "source": [
    "plt, ax = plt.subplots(figsize=(12, 10))\n",
    "sns.heatmap(data.drop(['address', 'geometry', 'poly_side'],axis=1).corr(),ax=ax);"
   ]
  },
  {
   "cell_type": "code",
   "execution_count": 33,
   "metadata": {},
   "outputs": [],
   "source": [
    "# # коффициэнт корриляции Пирсона\n",
    "# corr_matrix = data.drop(['address', 'geometry', 'poly_side'],axis=1).corr().round(2)\n",
    "# corr_matrix"
   ]
  },
  {
   "cell_type": "markdown",
   "metadata": {},
   "source": [
    "### Случайное разбиение на обучение и тест"
   ]
  },
  {
   "cell_type": "code",
   "execution_count": 9,
   "metadata": {},
   "outputs": [],
   "source": [
    "X_train, X_valid, y_train, y_valid = train_test_split(X, y, test_size=0.3, random_state=42)"
   ]
  },
  {
   "cell_type": "code",
   "execution_count": 10,
   "metadata": {},
   "outputs": [],
   "source": [
    "# y_train = np.log1p(y_train)\n",
    "# y_valid = np.log1p(y_valid)"
   ]
  },
  {
   "cell_type": "code",
   "execution_count": 11,
   "metadata": {},
   "outputs": [],
   "source": [
    "scarler = StandardScaler()"
   ]
  },
  {
   "cell_type": "code",
   "execution_count": 12,
   "metadata": {},
   "outputs": [],
   "source": [
    "X_train_scale = scarler.fit_transform(X_train)\n",
    "X_valid_scale = scarler.transform(X_valid)"
   ]
  },
  {
   "cell_type": "markdown",
   "metadata": {},
   "source": [
    "### Линейные модели"
   ]
  },
  {
   "cell_type": "code",
   "execution_count": 13,
   "metadata": {},
   "outputs": [],
   "source": [
    "def train_model(model, X_train, y_train, X_valid, y_valid, feature_names):\n",
    "    \n",
    "    model.fit(X_train, y_train)\n",
    "    y_pred = model.predict(X_valid)\n",
    "    \n",
    "    print(\"RMSE: {}\".format(np.sqrt(mean_squared_error((y_valid), (y_pred)))))\n",
    "    \n",
    "    print(pd.DataFrame(model.coef_, index=feature_names, \n",
    "                       columns=['weight']).sort_values(by='weight', ascending=False))"
   ]
  },
  {
   "cell_type": "code",
   "execution_count": 14,
   "metadata": {},
   "outputs": [],
   "source": [
    "linreg = LinearRegression()"
   ]
  },
  {
   "cell_type": "code",
   "execution_count": 15,
   "metadata": {},
   "outputs": [
    {
     "name": "stdout",
     "output_type": "stream",
     "text": [
      "RMSE: 2.299850232043268\n",
      "                           weight\n",
      "feat_2                   1.219015\n",
      "bus_stop                 0.269037\n",
      "shelter                  0.077378\n",
      "atm                      0.062218\n",
      "office                   0.026977\n",
      "public_service          -0.018815\n",
      "bank                    -0.022050\n",
      "bus_station             -0.026627\n",
      "waste_basket            -0.034112\n",
      "traffic_signals         -0.053984\n",
      "device_charging_station -0.095208\n",
      "feat_1                  -0.116711\n",
      "station                 -0.124792\n",
      "restaurant              -0.126111\n",
      "cafe                    -0.195151\n"
     ]
    }
   ],
   "source": [
    "train_model(linreg, X_train_scale, y_train, X_valid_scale, y_valid, X_train.columns)"
   ]
  },
  {
   "cell_type": "code",
   "execution_count": 16,
   "metadata": {},
   "outputs": [],
   "source": [
    "lasso = Lasso(alpha=0.01,random_state=42)"
   ]
  },
  {
   "cell_type": "code",
   "execution_count": 17,
   "metadata": {},
   "outputs": [
    {
     "name": "stdout",
     "output_type": "stream",
     "text": [
      "RMSE: 2.29807638192155\n",
      "                           weight\n",
      "feat_2                   1.198914\n",
      "bus_stop                 0.258404\n",
      "shelter                  0.067345\n",
      "atm                      0.030058\n",
      "office                   0.017874\n",
      "bank                    -0.000000\n",
      "public_service          -0.008848\n",
      "bus_station             -0.016555\n",
      "waste_basket            -0.024015\n",
      "traffic_signals         -0.044464\n",
      "device_charging_station -0.085088\n",
      "feat_1                  -0.101454\n",
      "station                 -0.116356\n",
      "restaurant              -0.119477\n",
      "cafe                    -0.183661\n"
     ]
    }
   ],
   "source": [
    "train_model(lasso, X_train_scale, y_train, X_valid_scale, y_valid, X_train.columns)"
   ]
  },
  {
   "cell_type": "code",
   "execution_count": 18,
   "metadata": {},
   "outputs": [],
   "source": [
    "lasso_cv = LassoCV(random_state=42)"
   ]
  },
  {
   "cell_type": "code",
   "execution_count": 19,
   "metadata": {},
   "outputs": [
    {
     "name": "stdout",
     "output_type": "stream",
     "text": [
      "RMSE: 2.2968254350467574\n",
      "                           weight\n",
      "feat_2                   1.183000\n",
      "bus_stop                 0.252200\n",
      "shelter                  0.059053\n",
      "office                   0.010539\n",
      "atm                      0.008597\n",
      "bank                    -0.000000\n",
      "public_service          -0.000321\n",
      "bus_station             -0.007990\n",
      "waste_basket            -0.015582\n",
      "traffic_signals         -0.035945\n",
      "device_charging_station -0.076997\n",
      "feat_1                  -0.087490\n",
      "station                 -0.109345\n",
      "restaurant              -0.111715\n",
      "cafe                    -0.167176\n"
     ]
    }
   ],
   "source": [
    "train_model(lasso_cv, X_train_scale, y_train, X_valid_scale, y_valid, X_train.columns)"
   ]
  },
  {
   "cell_type": "code",
   "execution_count": 20,
   "metadata": {},
   "outputs": [],
   "source": [
    "ridge = Ridge(random_state=42)"
   ]
  },
  {
   "cell_type": "code",
   "execution_count": 21,
   "metadata": {},
   "outputs": [
    {
     "name": "stdout",
     "output_type": "stream",
     "text": [
      "RMSE: 2.299833283322731\n",
      "                           weight\n",
      "feat_2                   1.217970\n",
      "bus_stop                 0.269244\n",
      "shelter                  0.077346\n",
      "atm                      0.062171\n",
      "office                   0.026973\n",
      "public_service          -0.018794\n",
      "bank                    -0.022007\n",
      "bus_station             -0.026640\n",
      "waste_basket            -0.034107\n",
      "traffic_signals         -0.053923\n",
      "device_charging_station -0.095121\n",
      "feat_1                  -0.116521\n",
      "station                 -0.124683\n",
      "restaurant              -0.126091\n",
      "cafe                    -0.194731\n"
     ]
    }
   ],
   "source": [
    "train_model(ridge, X_train_scale, y_train, X_valid_scale, y_valid, X_train.columns)"
   ]
  },
  {
   "cell_type": "code",
   "execution_count": 22,
   "metadata": {},
   "outputs": [],
   "source": [
    "ridge_cv = RidgeCV()"
   ]
  },
  {
   "cell_type": "code",
   "execution_count": 23,
   "metadata": {},
   "outputs": [
    {
     "name": "stdout",
     "output_type": "stream",
     "text": [
      "RMSE: 2.299696519559955\n",
      "                           weight\n",
      "feat_2                   1.208654\n",
      "bus_stop                 0.271062\n",
      "shelter                  0.077058\n",
      "atm                      0.061762\n",
      "office                   0.026932\n",
      "public_service          -0.018611\n",
      "bank                    -0.021608\n",
      "bus_station             -0.026746\n",
      "waste_basket            -0.034061\n",
      "traffic_signals         -0.053378\n",
      "device_charging_station -0.094346\n",
      "feat_1                  -0.114825\n",
      "station                 -0.123703\n",
      "restaurant              -0.125887\n",
      "cafe                    -0.191043\n"
     ]
    }
   ],
   "source": [
    "train_model(ridge_cv, X_train_scale, y_train, X_valid_scale, y_valid, X_train.columns)"
   ]
  },
  {
   "cell_type": "markdown",
   "metadata": {},
   "source": [
    "### Другое разбиение для обучения и валидации"
   ]
  },
  {
   "cell_type": "code",
   "execution_count": 24,
   "metadata": {},
   "outputs": [],
   "source": [
    "X_train = data.drop(['address', 'geometry', \n",
    "                     'poly_side','duration_minutes'],axis=1)[data['poly_side'].isin(['poly1','poly2'])]\n",
    "\n",
    "y_train = np.log1p(data['duration_minutes'][data['poly_side'].isin(['poly1','poly2'])])"
   ]
  },
  {
   "cell_type": "code",
   "execution_count": 25,
   "metadata": {},
   "outputs": [],
   "source": [
    "X_train = data.drop(['address', 'geometry', \n",
    "                     'poly_side','duration_minutes'],axis=1)[data['poly_side'].isin(['poly1','poly2'])]\n",
    "\n",
    "y_train = np.log1p(data['duration_minutes'][data['poly_side'].isin(['poly1','poly2'])])"
   ]
  },
  {
   "cell_type": "code",
   "execution_count": 26,
   "metadata": {},
   "outputs": [],
   "source": [
    "scaler = StandardScaler()\n",
    "X_train_scale = scaler.fit_transform(X_train)\n",
    "X_valid_scale = scaler.transform(X_valid)"
   ]
  },
  {
   "cell_type": "code",
   "execution_count": 27,
   "metadata": {},
   "outputs": [
    {
     "name": "stdout",
     "output_type": "stream",
     "text": [
      "RMSE: 0.5538624499258692\n",
      "                           weight\n",
      "feat_2                   0.328994\n",
      "bus_stop                 0.126649\n",
      "shelter                  0.019983\n",
      "atm                      0.017034\n",
      "office                   0.003421\n",
      "public_service           0.000000\n",
      "traffic_signals          0.000000\n",
      "waste_basket            -0.005696\n",
      "bus_station             -0.009257\n",
      "feat_1                  -0.013137\n",
      "station                 -0.019780\n",
      "cafe                    -0.025804\n",
      "device_charging_station -0.026641\n",
      "restaurant              -0.034017\n",
      "bank                    -0.046948\n"
     ]
    }
   ],
   "source": [
    "lasso = LassoCV(random_state=16)\n",
    "train_model(lasso, X_train_scale, y_train, X_valid_scale, y_valid, X.columns)"
   ]
  },
  {
   "cell_type": "code",
   "execution_count": 28,
   "metadata": {},
   "outputs": [
    {
     "name": "stdout",
     "output_type": "stream",
     "text": [
      "RMSE: 0.5540470621126868\n",
      "                           weight\n",
      "feat_2                   0.326808\n",
      "bus_stop                 0.127451\n",
      "shelter                  0.020504\n",
      "atm                      0.018905\n",
      "office                   0.003905\n",
      "public_service           0.000000\n",
      "traffic_signals          0.000000\n",
      "waste_basket            -0.006344\n",
      "bus_station             -0.009915\n",
      "feat_1                  -0.013605\n",
      "station                 -0.020106\n",
      "cafe                    -0.025949\n",
      "device_charging_station -0.026894\n",
      "restaurant              -0.034020\n",
      "bank                    -0.047267\n"
     ]
    }
   ],
   "source": [
    "ridge = RidgeCV()\n",
    "train_model(ridge, X_train_scale, y_train, X_valid_scale, y_valid, X.columns)"
   ]
  },
  {
   "cell_type": "code",
   "execution_count": null,
   "metadata": {},
   "outputs": [],
   "source": []
  },
  {
   "cell_type": "code",
   "execution_count": null,
   "metadata": {},
   "outputs": [],
   "source": []
  }
 ],
 "metadata": {
  "kernelspec": {
   "display_name": "Python 3",
   "language": "python",
   "name": "python3"
  },
  "language_info": {
   "codemirror_mode": {
    "name": "ipython",
    "version": 3
   },
   "file_extension": ".py",
   "mimetype": "text/x-python",
   "name": "python",
   "nbconvert_exporter": "python",
   "pygments_lexer": "ipython3",
   "version": "3.8.5"
  }
 },
 "nbformat": 4,
 "nbformat_minor": 5
}
