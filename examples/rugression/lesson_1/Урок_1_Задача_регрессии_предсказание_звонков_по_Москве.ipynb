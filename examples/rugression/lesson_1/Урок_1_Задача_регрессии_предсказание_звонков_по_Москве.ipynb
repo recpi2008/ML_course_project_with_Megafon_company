{
 "cells": [
  {
   "cell_type": "code",
   "execution_count": 1,
   "metadata": {
    "id": "mxf2LlNh1DgH"
   },
   "outputs": [],
   "source": [
    "import pandas as pd\n",
    "import numpy as np\n",
    "\n",
    "from sklearn.linear_model import LinearRegression, Lasso, Ridge, LassoCV, RidgeCV\n",
    "from sklearn.preprocessing import StandardScaler\n",
    "from sklearn.metrics import mean_squared_error\n",
    "from sklearn.model_selection import train_test_split\n",
    "from sklearn.ensemble import RandomForestRegressor\n",
    "%matplotlib inline\n",
    "import seaborn as sns\n",
    "\n",
    "from scipy.stats import boxcox, probplot\n",
    "import matplotlib.pyplot as plt"
   ]
  },
  {
   "cell_type": "markdown",
   "metadata": {
    "id": "VIgBQblD1DgX",
    "toc": true
   },
   "source": [
    "<h1>Table of Contents<span class=\"tocSkip\"></span></h1>\n",
    "<div class=\"toc\" style=\"margin-top: 1em;\"><ul class=\"toc-item\"><li><ul class=\"toc-item\"><li><ul class=\"toc-item\"><li><span><a href=\"#Обзор-данных\" data-toc-modified-id=\"Обзор-данных-0.0.1\">Обзор данных</a></span></li><li><span><a href=\"#Целевая-переменная\" data-toc-modified-id=\"Целевая-переменная-0.0.2\">Целевая переменная</a></span></li><li><span><a href=\"#Случайное-разбиение-на-обучение-и-тест\" data-toc-modified-id=\"Случайное-разбиение-на-обучение-и-тест-0.0.3\">Случайное разбиение на обучение и тест</a></span></li><li><span><a href=\"#Линейные-модели\" data-toc-modified-id=\"Линейные-модели-0.0.4\">Линейные модели</a></span></li><li><span><a href=\"#Другое-разбиение-для-обучения-и-валидации\" data-toc-modified-id=\"Другое-разбиение-для-обучения-и-валидации-0.0.5\">Другое разбиение для обучения и валидации</a></span></li></ul></li></ul></li></ul></div>"
   ]
  },
  {
   "cell_type": "markdown",
   "metadata": {
    "id": "yny5vorf1DgZ"
   },
   "source": [
    "### Обзор данных"
   ]
  },
  {
   "cell_type": "code",
   "execution_count": 2,
   "metadata": {
    "id": "fJggEwCl1Dga"
   },
   "outputs": [],
   "source": [
    "data = pd.read_csv('calls_dataset_with_features.csv')"
   ]
  },
  {
   "cell_type": "code",
   "execution_count": 3,
   "metadata": {
    "id": "N7NMTm6u1Dga",
    "outputId": "77b344be-60df-4f65-c886-1d4970af346c"
   },
   "outputs": [
    {
     "data": {
      "text/html": [
       "<div>\n",
       "<style scoped>\n",
       "    .dataframe tbody tr th:only-of-type {\n",
       "        vertical-align: middle;\n",
       "    }\n",
       "\n",
       "    .dataframe tbody tr th {\n",
       "        vertical-align: top;\n",
       "    }\n",
       "\n",
       "    .dataframe thead th {\n",
       "        text-align: right;\n",
       "    }\n",
       "</style>\n",
       "<table border=\"1\" class=\"dataframe\">\n",
       "  <thead>\n",
       "    <tr style=\"text-align: right;\">\n",
       "      <th></th>\n",
       "      <th>address</th>\n",
       "      <th>duration_minutes</th>\n",
       "      <th>feat_1</th>\n",
       "      <th>feat_2</th>\n",
       "      <th>geometry</th>\n",
       "      <th>poly_side</th>\n",
       "      <th>atm</th>\n",
       "      <th>bank</th>\n",
       "      <th>bus_station</th>\n",
       "      <th>bus_stop</th>\n",
       "      <th>cafe</th>\n",
       "      <th>device_charging_station</th>\n",
       "      <th>office</th>\n",
       "      <th>public_service</th>\n",
       "      <th>restaurant</th>\n",
       "      <th>shelter</th>\n",
       "      <th>station</th>\n",
       "      <th>traffic_signals</th>\n",
       "      <th>waste_basket</th>\n",
       "    </tr>\n",
       "  </thead>\n",
       "  <tbody>\n",
       "    <tr>\n",
       "      <th>0</th>\n",
       "      <td>8811aa602dfffff</td>\n",
       "      <td>5.092667</td>\n",
       "      <td>0.0</td>\n",
       "      <td>25.0</td>\n",
       "      <td>POLYGON ((37.75103240708841 55.80603592669851,...</td>\n",
       "      <td>poly3</td>\n",
       "      <td>1.0</td>\n",
       "      <td>0.0</td>\n",
       "      <td>0.0</td>\n",
       "      <td>8.0</td>\n",
       "      <td>1.0</td>\n",
       "      <td>0.0</td>\n",
       "      <td>0.0</td>\n",
       "      <td>0.0</td>\n",
       "      <td>1.0</td>\n",
       "      <td>0.0</td>\n",
       "      <td>0.0</td>\n",
       "      <td>0.0</td>\n",
       "      <td>0.0</td>\n",
       "    </tr>\n",
       "    <tr>\n",
       "      <th>1</th>\n",
       "      <td>8811aa45d9fffff</td>\n",
       "      <td>6.037037</td>\n",
       "      <td>0.0</td>\n",
       "      <td>63.0</td>\n",
       "      <td>POLYGON ((37.40263832553934 55.71842073952227,...</td>\n",
       "      <td>poly0</td>\n",
       "      <td>5.0</td>\n",
       "      <td>3.0</td>\n",
       "      <td>0.0</td>\n",
       "      <td>5.0</td>\n",
       "      <td>2.0</td>\n",
       "      <td>0.0</td>\n",
       "      <td>0.0</td>\n",
       "      <td>0.0</td>\n",
       "      <td>2.0</td>\n",
       "      <td>0.0</td>\n",
       "      <td>0.0</td>\n",
       "      <td>0.0</td>\n",
       "      <td>0.0</td>\n",
       "    </tr>\n",
       "    <tr>\n",
       "      <th>2</th>\n",
       "      <td>881181a235fffff</td>\n",
       "      <td>4.722727</td>\n",
       "      <td>0.0</td>\n",
       "      <td>11.0</td>\n",
       "      <td>POLYGON ((37.74271427608124 55.43691297888912,...</td>\n",
       "      <td>poly1</td>\n",
       "      <td>0.0</td>\n",
       "      <td>0.0</td>\n",
       "      <td>0.0</td>\n",
       "      <td>1.0</td>\n",
       "      <td>1.0</td>\n",
       "      <td>0.0</td>\n",
       "      <td>0.0</td>\n",
       "      <td>0.0</td>\n",
       "      <td>0.0</td>\n",
       "      <td>0.0</td>\n",
       "      <td>0.0</td>\n",
       "      <td>0.0</td>\n",
       "      <td>0.0</td>\n",
       "    </tr>\n",
       "    <tr>\n",
       "      <th>3</th>\n",
       "      <td>8811aa722bfffff</td>\n",
       "      <td>5.868982</td>\n",
       "      <td>0.0</td>\n",
       "      <td>36.0</td>\n",
       "      <td>POLYGON ((37.42241082476207 55.85767681439805,...</td>\n",
       "      <td>poly2</td>\n",
       "      <td>2.0</td>\n",
       "      <td>2.0</td>\n",
       "      <td>0.0</td>\n",
       "      <td>12.0</td>\n",
       "      <td>2.0</td>\n",
       "      <td>0.0</td>\n",
       "      <td>0.0</td>\n",
       "      <td>0.0</td>\n",
       "      <td>0.0</td>\n",
       "      <td>0.0</td>\n",
       "      <td>0.0</td>\n",
       "      <td>0.0</td>\n",
       "      <td>0.0</td>\n",
       "    </tr>\n",
       "    <tr>\n",
       "      <th>4</th>\n",
       "      <td>8811aa714dfffff</td>\n",
       "      <td>2.937719</td>\n",
       "      <td>0.0</td>\n",
       "      <td>19.0</td>\n",
       "      <td>POLYGON ((37.45469517717559 55.7843306893976, ...</td>\n",
       "      <td>poly2</td>\n",
       "      <td>1.0</td>\n",
       "      <td>0.0</td>\n",
       "      <td>0.0</td>\n",
       "      <td>9.0</td>\n",
       "      <td>1.0</td>\n",
       "      <td>0.0</td>\n",
       "      <td>0.0</td>\n",
       "      <td>0.0</td>\n",
       "      <td>2.0</td>\n",
       "      <td>0.0</td>\n",
       "      <td>0.0</td>\n",
       "      <td>0.0</td>\n",
       "      <td>0.0</td>\n",
       "    </tr>\n",
       "  </tbody>\n",
       "</table>\n",
       "</div>"
      ],
      "text/plain": [
       "           address  duration_minutes  feat_1  feat_2  \\\n",
       "0  8811aa602dfffff          5.092667     0.0    25.0   \n",
       "1  8811aa45d9fffff          6.037037     0.0    63.0   \n",
       "2  881181a235fffff          4.722727     0.0    11.0   \n",
       "3  8811aa722bfffff          5.868982     0.0    36.0   \n",
       "4  8811aa714dfffff          2.937719     0.0    19.0   \n",
       "\n",
       "                                            geometry poly_side  atm  bank  \\\n",
       "0  POLYGON ((37.75103240708841 55.80603592669851,...     poly3  1.0   0.0   \n",
       "1  POLYGON ((37.40263832553934 55.71842073952227,...     poly0  5.0   3.0   \n",
       "2  POLYGON ((37.74271427608124 55.43691297888912,...     poly1  0.0   0.0   \n",
       "3  POLYGON ((37.42241082476207 55.85767681439805,...     poly2  2.0   2.0   \n",
       "4  POLYGON ((37.45469517717559 55.7843306893976, ...     poly2  1.0   0.0   \n",
       "\n",
       "   bus_station  bus_stop  cafe  device_charging_station  office  \\\n",
       "0          0.0       8.0   1.0                      0.0     0.0   \n",
       "1          0.0       5.0   2.0                      0.0     0.0   \n",
       "2          0.0       1.0   1.0                      0.0     0.0   \n",
       "3          0.0      12.0   2.0                      0.0     0.0   \n",
       "4          0.0       9.0   1.0                      0.0     0.0   \n",
       "\n",
       "   public_service  restaurant  shelter  station  traffic_signals  waste_basket  \n",
       "0             0.0         1.0      0.0      0.0              0.0           0.0  \n",
       "1             0.0         2.0      0.0      0.0              0.0           0.0  \n",
       "2             0.0         0.0      0.0      0.0              0.0           0.0  \n",
       "3             0.0         0.0      0.0      0.0              0.0           0.0  \n",
       "4             0.0         2.0      0.0      0.0              0.0           0.0  "
      ]
     },
     "execution_count": 3,
     "metadata": {},
     "output_type": "execute_result"
    }
   ],
   "source": [
    "data.head()"
   ]
  },
  {
   "cell_type": "markdown",
   "metadata": {
    "id": "B7fFTdI51Dgc"
   },
   "source": [
    "### Целевая переменная"
   ]
  },
  {
   "cell_type": "code",
   "execution_count": 4,
   "metadata": {
    "id": "hrgkCkXl1Dgd"
   },
   "outputs": [],
   "source": [
    "data = data[data['duration_minutes'] != 0]\n",
    "X = data.drop(['address', 'geometry', 'poly_side', 'duration_minutes'],axis=1)\n",
    "y = (data['duration_minutes'])"
   ]
  },
  {
   "cell_type": "code",
   "execution_count": 5,
   "metadata": {
    "id": "FqQ3_9PB1Dgd",
    "outputId": "46055b82-e979-4b15-e76d-484ce3d3e1ba",
    "scrolled": true
   },
   "outputs": [
    {
     "data": {
      "text/plain": [
       "<AxesSubplot:>"
      ]
     },
     "execution_count": 5,
     "metadata": {},
     "output_type": "execute_result"
    },
    {
     "data": {
      "image/png": "[encoded data removed]",
      "text/plain": [
       "<Figure size 432x288 with 1 Axes>"
      ]
     },
     "metadata": {
      "needs_background": "light"
     },
     "output_type": "display_data"
    }
   ],
   "source": [
    "data['duration_minutes'].hist()"
   ]
  },
  {
   "cell_type": "markdown",
   "metadata": {
    "id": "KeiHc75J1Dge"
   },
   "source": [
    "QQ plot для сравнения с нормальным распределением"
   ]
  },
  {
   "cell_type": "code",
   "execution_count": 6,
   "metadata": {
    "id": "Uvlkfe_j1Dgf",
    "outputId": "20195d5b-a797-4855-e240-77a528c60692",
    "scrolled": true
   },
   "outputs": [
    {
     "data": {
      "image/png": "[encoded data removed]",
      "text/plain": [
       "<Figure size 432x288 with 1 Axes>"
      ]
     },
     "metadata": {
      "needs_background": "light"
     },
     "output_type": "display_data"
    }
   ],
   "source": [
    "f, ax = plt.subplots()\n",
    "probplot(y, plot=ax);"
   ]
  },
  {
   "cell_type": "markdown",
   "metadata": {
    "id": "JFsp7ebq1Dgg"
   },
   "source": [
    "Преобразование логарифм"
   ]
  },
  {
   "cell_type": "code",
   "execution_count": 7,
   "metadata": {
    "id": "6P3KJRcN1Dgg",
    "outputId": "9a2bdb82-91b7-40bb-93bb-44661a3ea580"
   },
   "outputs": [
    {
     "data": {
      "image/png": "[encoded data removed]",
      "text/plain": [
       "<Figure size 432x288 with 1 Axes>"
      ]
     },
     "metadata": {
      "needs_background": "light"
     },
     "output_type": "display_data"
    }
   ],
   "source": [
    "f, ax = plt.subplots()\n",
    "probplot(np.log(y),plot=ax);"
   ]
  },
  {
   "cell_type": "markdown",
   "metadata": {
    "id": "sGcVVVRI1Dgh"
   },
   "source": [
    "преобразование Бокса-Кокса"
   ]
  },
  {
   "cell_type": "code",
   "execution_count": 8,
   "metadata": {
    "id": "VYwG_KLV1Dgh",
    "outputId": "78cabb28-c910-4b06-ac62-76347b6dfcce"
   },
   "outputs": [
    {
     "data": {
      "image/png": "[encoded data removed]",
      "text/plain": [
       "<Figure size 432x288 with 1 Axes>"
      ]
     },
     "metadata": {
      "needs_background": "light"
     },
     "output_type": "display_data"
    }
   ],
   "source": [
    "f, ax = plt.subplots()\n",
    "probplot(boxcox(y)[0],plot=ax);"
   ]
  },
  {
   "cell_type": "markdown",
   "metadata": {
    "id": "DiCvaJsj1Dgi"
   },
   "source": [
    "Матрица корреляции"
   ]
  },
  {
   "cell_type": "code",
   "execution_count": 9,
   "metadata": {
    "id": "JnBjfviN1Dgi",
    "outputId": "941e7270-d4d0-47f8-f5e4-c4950d17d89f"
   },
   "outputs": [
    {
     "data": {
      "image/png": "[encoded data removed]",
      "text/plain": [
       "<Figure size 864x720 with 2 Axes>"
      ]
     },
     "metadata": {
      "needs_background": "light"
     },
     "output_type": "display_data"
    }
   ],
   "source": [
    "plt, ax = plt.subplots(figsize=(12, 10))\n",
    "sns.heatmap(data.drop(['address', 'geometry', 'poly_side'],axis=1).corr(),ax=ax);"
   ]
  },
  {
   "cell_type": "markdown",
   "metadata": {
    "id": "zcPHinDb1Dgi"
   },
   "source": [
    "### Случайное разбиение на обучение и тест"
   ]
  },
  {
   "cell_type": "code",
   "execution_count": 10,
   "metadata": {
    "id": "ViUhG6xb1Dgj"
   },
   "outputs": [],
   "source": [
    "X_train, X_valid, y_train, y_valid = train_test_split(X, y, test_size=0.3, random_state=18)"
   ]
  },
  {
   "cell_type": "code",
   "execution_count": 11,
   "metadata": {
    "id": "z9QowDqn1Dgj"
   },
   "outputs": [],
   "source": [
    "scaler = StandardScaler()"
   ]
  },
  {
   "cell_type": "code",
   "execution_count": 12,
   "metadata": {
    "id": "37Sk_XuT1Dgj"
   },
   "outputs": [],
   "source": [
    "X_train_scale = scaler.fit_transform(X_train)\n",
    "X_valid_scale = scaler.transform(X_valid)"
   ]
  },
  {
   "cell_type": "markdown",
   "metadata": {
    "id": "BpsBOlV81Dgk"
   },
   "source": [
    "### Линейные модели"
   ]
  },
  {
   "cell_type": "code",
   "execution_count": 26,
   "metadata": {
    "id": "UqLY7dxE1Dgk"
   },
   "outputs": [],
   "source": [
    "def train_model(model, X_train, y_train, X_valid, y_valid, feature_names):\n",
    "    \n",
    "    model.fit(X_train, y_train)\n",
    "    y_pred = model.predict(X_valid)\n",
    "    \n",
    "    print(f\"вес {model.coef_}\")\n",
    "    print(f\"интерсепт {model.intercept_}\")\n",
    "    \n",
    "    print(\"RMSE: {}\".format(np.sqrt(mean_squared_error((y_valid), (y_pred)))))\n",
    "    \n",
    "    print(pd.DataFrame(model.coef_, index=feature_names, \n",
    "                       columns=['weight']).sort_values(by='weight', ascending=False))"
   ]
  },
  {
   "cell_type": "code",
   "execution_count": 27,
   "metadata": {
    "id": "vZgVRZsk1Dgl"
   },
   "outputs": [],
   "source": [
    "linreg = LinearRegression()"
   ]
  },
  {
   "cell_type": "code",
   "execution_count": 28,
   "metadata": {
    "id": "yoAzvFg31Dgl",
    "outputId": "2f3d936d-82ec-457c-ec11-b6165eaa2fd2"
   },
   "outputs": [
    {
     "name": "stdout",
     "output_type": "stream",
     "text": [
      "вес [-1.26433988e-01  1.23528239e+00  1.93034878e-02 -7.23746507e-02\n",
      "  1.66533454e-16  2.63093647e-01 -1.04379633e-01 -1.13730796e-01\n",
      "  2.48478246e-03 -1.86526449e-02 -1.49229056e-01  7.75730689e-02\n",
      " -6.84561766e-02  0.00000000e+00 -3.18071428e-02]\n",
      "интерсепт 3.6756642397062254\n",
      "RMSE: 2.290509406242995\n",
      "                               weight\n",
      "feat_2                   1.235282e+00\n",
      "bus_stop                 2.630936e-01\n",
      "shelter                  7.757307e-02\n",
      "atm                      1.930349e-02\n",
      "office                   2.484782e-03\n",
      "bus_station              1.665335e-16\n",
      "traffic_signals          0.000000e+00\n",
      "public_service          -1.865264e-02\n",
      "waste_basket            -3.180714e-02\n",
      "station                 -6.845618e-02\n",
      "bank                    -7.237465e-02\n",
      "cafe                    -1.043796e-01\n",
      "device_charging_station -1.137308e-01\n",
      "feat_1                  -1.264340e-01\n",
      "restaurant              -1.492291e-01\n"
     ]
    }
   ],
   "source": [
    "train_model(linreg, X_train_scale, y_train, X_valid_scale, y_valid, X_train.columns)"
   ]
  },
  {
   "cell_type": "code",
   "execution_count": 16,
   "metadata": {},
   "outputs": [
    {
     "ename": "NameError",
     "evalue": "name 'model' is not defined",
     "output_type": "error",
     "traceback": [
      "\u001b[0;31m---------------------------------------------------------------------------\u001b[0m",
      "\u001b[0;31mNameError\u001b[0m                                 Traceback (most recent call last)",
      "\u001b[0;32m<ipython-input-16-2d84f76413fa>\u001b[0m in \u001b[0;36m<module>\u001b[0;34m\u001b[0m\n\u001b[0;32m----> 1\u001b[0;31m \u001b[0mmodel\u001b[0m\u001b[0;34m.\u001b[0m\u001b[0mcoev_\u001b[0m\u001b[0;34m\u001b[0m\u001b[0;34m\u001b[0m\u001b[0m\n\u001b[0m",
      "\u001b[0;31mNameError\u001b[0m: name 'model' is not defined"
     ]
    }
   ],
   "source": [
    "model.coev_"
   ]
  },
  {
   "cell_type": "code",
   "execution_count": 16,
   "metadata": {
    "id": "fg9Abrto1Dgl",
    "outputId": "e0299156-8fe3-4764-b799-d6d8eda6c3be"
   },
   "outputs": [
    {
     "name": "stdout",
     "output_type": "stream",
     "text": [
      "RMSE: 2.2889677994234274\n",
      "                           weight\n",
      "feat_2                   1.215399\n",
      "bus_stop                 0.252435\n",
      "shelter                  0.067575\n",
      "atm                      0.000000\n",
      "bus_station              0.000000\n",
      "office                   0.000000\n",
      "traffic_signals          0.000000\n",
      "public_service          -0.008562\n",
      "waste_basket            -0.021852\n",
      "bank                    -0.052539\n",
      "station                 -0.059840\n",
      "cafe                    -0.099036\n",
      "device_charging_station -0.103964\n",
      "feat_1                  -0.112683\n",
      "restaurant              -0.143008\n"
     ]
    }
   ],
   "source": [
    "lasso = Lasso(random_state=16, alpha=0.01)\n",
    "train_model(lasso, X_train_scale, y_train, X_valid_scale, y_valid, X_train.columns)"
   ]
  },
  {
   "cell_type": "code",
   "execution_count": 17,
   "metadata": {
    "id": "_RoNj9X71Dgm",
    "outputId": "8775c133-e697-4451-c9d0-0159c49aca78"
   },
   "outputs": [
    {
     "name": "stdout",
     "output_type": "stream",
     "text": [
      "RMSE: 2.2882477144098416\n",
      "                           weight\n",
      "feat_2                   1.201973\n",
      "bus_stop                 0.244370\n",
      "shelter                  0.061277\n",
      "atm                      0.000000\n",
      "bus_station              0.000000\n",
      "office                   0.000000\n",
      "traffic_signals          0.000000\n",
      "public_service          -0.001919\n",
      "waste_basket            -0.015639\n",
      "bank                    -0.044148\n",
      "station                 -0.055747\n",
      "cafe                    -0.097255\n",
      "device_charging_station -0.097736\n",
      "feat_1                  -0.105424\n",
      "restaurant              -0.139621\n"
     ]
    }
   ],
   "source": [
    "lasso_cv = LassoCV(random_state=16)\n",
    "train_model(lasso_cv, X_train_scale, y_train, X_valid_scale, y_valid, X_train.columns)"
   ]
  },
  {
   "cell_type": "code",
   "execution_count": 18,
   "metadata": {
    "id": "rPmldCCi1Dgm",
    "outputId": "92464de8-28dc-4bea-9c31-89982978e72f"
   },
   "outputs": [
    {
     "name": "stdout",
     "output_type": "stream",
     "text": [
      "RMSE: 2.290440861336707\n",
      "                           weight\n",
      "feat_2                   1.234264\n",
      "bus_stop                 0.263285\n",
      "shelter                  0.077541\n",
      "atm                      0.019330\n",
      "office                   0.002496\n",
      "bus_station              0.000000\n",
      "traffic_signals          0.000000\n",
      "public_service          -0.018634\n",
      "waste_basket            -0.031805\n",
      "station                 -0.068390\n",
      "bank                    -0.072226\n",
      "cafe                    -0.104249\n",
      "device_charging_station -0.113619\n",
      "feat_1                  -0.126263\n",
      "restaurant              -0.149047\n"
     ]
    }
   ],
   "source": [
    "ridge = Ridge(random_state=16)\n",
    "train_model(ridge, X_train_scale, y_train, X_valid_scale, y_valid, X.columns)"
   ]
  },
  {
   "cell_type": "code",
   "execution_count": 19,
   "metadata": {
    "id": "9S79PeDj1Dgn",
    "outputId": "6f956325-584c-4a4b-c0d9-45761fbe254e",
    "scrolled": true
   },
   "outputs": [
    {
     "name": "stdout",
     "output_type": "stream",
     "text": [
      "RMSE: 2.2898443523065417\n",
      "                           weight\n",
      "feat_2                   1.225182\n",
      "bus_stop                 0.264966\n",
      "shelter                  0.077250\n",
      "atm                      0.019576\n",
      "office                   0.002593\n",
      "bus_station              0.000000\n",
      "traffic_signals          0.000000\n",
      "public_service          -0.018470\n",
      "waste_basket            -0.031789\n",
      "station                 -0.067793\n",
      "bank                    -0.070901\n",
      "cafe                    -0.103080\n",
      "device_charging_station -0.112623\n",
      "feat_1                  -0.124734\n",
      "restaurant              -0.147427\n"
     ]
    }
   ],
   "source": [
    "ridge_cv = RidgeCV()\n",
    "train_model(ridge_cv, X_train_scale, y_train, X_valid_scale, y_valid, X.columns)"
   ]
  },
  {
   "cell_type": "markdown",
   "metadata": {
    "id": "a2p7qcHe1Dgn"
   },
   "source": [
    "### Другое разбиение для обучения и валидации"
   ]
  },
  {
   "cell_type": "code",
   "execution_count": 20,
   "metadata": {
    "id": "TkdlSu4d1Dgo"
   },
   "outputs": [],
   "source": [
    "X_train = data.drop(['address', 'geometry', \n",
    "                     'poly_side','duration_minutes'],axis=1)[data['poly_side'].isin(['poly1','poly2'])]\n",
    "\n",
    "y_train = (data['duration_minutes'][data['poly_side'].isin(['poly1','poly2'])])"
   ]
  },
  {
   "cell_type": "code",
   "execution_count": 21,
   "metadata": {
    "id": "_ukqRRi-1Dgo",
    "scrolled": true
   },
   "outputs": [],
   "source": [
    "X_valid = data.drop(['address', 'geometry', \n",
    "                     'poly_side','duration_minutes'],axis=1)[data['poly_side'].isin(['poly0','poly3'])]\n",
    "\n",
    "y_valid = (data['duration_minutes'][data['poly_side'].isin(['poly0','poly3'])])"
   ]
  },
  {
   "cell_type": "markdown",
   "metadata": {
    "id": "KblJrCDz1Dgo"
   },
   "source": [
    "Фиксируем данное разбиение и будем его использовать в дальнейшем"
   ]
  },
  {
   "cell_type": "code",
   "execution_count": 22,
   "metadata": {
    "id": "q4BjPCKy1Dgp"
   },
   "outputs": [],
   "source": [
    "scaler = StandardScaler()\n",
    "X_train_scale = scaler.fit_transform(X_train)\n",
    "X_valid_scale = scaler.transform(X_valid)"
   ]
  },
  {
   "cell_type": "code",
   "execution_count": 23,
   "metadata": {
    "id": "oWQ-eahv1Dgp",
    "outputId": "ca44ebc9-b1ee-48cf-b1be-7fdfa657dac9"
   },
   "outputs": [
    {
     "name": "stdout",
     "output_type": "stream",
     "text": [
      "RMSE: 2.339193911855391\n",
      "                           weight\n",
      "feat_2                   1.070939\n",
      "bus_stop                 0.437980\n",
      "shelter                  0.074464\n",
      "atm                      0.000000\n",
      "office                  -0.000000\n",
      "public_service           0.000000\n",
      "traffic_signals          0.000000\n",
      "waste_basket            -0.023015\n",
      "bus_station             -0.025701\n",
      "feat_1                  -0.035793\n",
      "station                 -0.059550\n",
      "device_charging_station -0.088731\n",
      "bank                    -0.102413\n",
      "restaurant              -0.102477\n",
      "cafe                    -0.135653\n"
     ]
    }
   ],
   "source": [
    "lasso = LassoCV(random_state=16)\n",
    "train_model(lasso, X_train_scale, y_train, X_valid_scale, y_valid, X.columns)"
   ]
  },
  {
   "cell_type": "code",
   "execution_count": 24,
   "metadata": {
    "id": "svN14mNY1Dgp",
    "outputId": "0156f21d-7420-4444-86ef-bed2368f71e7",
    "scrolled": true
   },
   "outputs": [
    {
     "name": "stdout",
     "output_type": "stream",
     "text": [
      "RMSE: 2.3409479221944665\n",
      "                           weight\n",
      "feat_2                   1.091139\n",
      "bus_stop                 0.459396\n",
      "shelter                  0.090896\n",
      "atm                      0.032191\n",
      "public_service           0.000000\n",
      "traffic_signals          0.000000\n",
      "office                  -0.004292\n",
      "waste_basket            -0.039776\n",
      "bus_station             -0.043209\n",
      "feat_1                  -0.055045\n",
      "station                 -0.068539\n",
      "device_charging_station -0.104465\n",
      "restaurant              -0.108601\n",
      "bank                    -0.133766\n",
      "cafe                    -0.146877\n"
     ]
    }
   ],
   "source": [
    "ridge = RidgeCV()\n",
    "train_model(ridge, X_train_scale, y_train, X_valid_scale, y_valid, X.columns)"
   ]
  },
  {
   "cell_type": "code",
   "execution_count": null,
   "metadata": {},
   "outputs": [],
   "source": []
  },
  {
   "cell_type": "code",
   "execution_count": null,
   "metadata": {},
   "outputs": [],
   "source": []
  }
 ],
 "metadata": {
  "colab": {
   "collapsed_sections": [],
   "name": "Урок 1.Задача регрессии - предсказание звонков по Москве.ipynb",
   "provenance": []
  },
  "kernelspec": {
   "display_name": "Python 3",
   "language": "python",
   "name": "python3"
  },
  "language_info": {
   "codemirror_mode": {
    "name": "ipython",
    "version": 3
   },
   "file_extension": ".py",
   "mimetype": "text/x-python",
   "name": "python",
   "nbconvert_exporter": "python",
   "pygments_lexer": "ipython3",
   "version": "3.8.5"
  },
  "toc": {
   "nav_menu": {},
   "number_sections": false,
   "sideBar": true,
   "skip_h1_title": false,
   "toc_cell": true,
   "toc_position": {
    "height": "755px",
    "left": "0px",
    "right": "1293px",
    "top": "66px",
    "width": "147px"
   },
   "toc_section_display": "none",
   "toc_window_display": false
  },
  "varInspector": {
   "cols": {
    "lenName": 16,
    "lenType": 16,
    "lenVar": 40
   },
   "kernels_config": {
    "python": {
     "delete_cmd_postfix": "",
     "delete_cmd_prefix": "del ",
     "library": "var_list.py",
     "varRefreshCmd": "print(var_dic_list())"
    },
    "r": {
     "delete_cmd_postfix": ") ",
     "delete_cmd_prefix": "rm(",
     "library": "var_list.r",
     "varRefreshCmd": "cat(var_dic_list()) "
    }
   },
   "types_to_exclude": [
    "module",
    "function",
    "builtin_function_or_method",
    "instance",
    "_Feature"
   ],
   "window_display": false
  }
 },
 "nbformat": 4,
 "nbformat_minor": 1
}
