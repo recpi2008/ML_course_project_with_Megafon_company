{
 "cells": [
  {
   "cell_type": "code",
   "execution_count": 1,
   "metadata": {},
   "outputs": [],
   "source": [
    "import pandas as pd\n",
    "import numpy as np\n",
    "\n",
    "from sklearn.linear_model import LinearRegression, Lasso, Ridge, LassoCV, RidgeCV\n",
    "from sklearn.preprocessing import StandardScaler\n",
    "from sklearn.metrics import mean_squared_error\n",
    "from sklearn.model_selection import train_test_split\n",
    "from sklearn.ensemble import RandomForestRegressor, GradientBoostingRegressor\n",
    "%matplotlib inline\n",
    "import seaborn as sns\n",
    "\n",
    "from scipy.stats import boxcox, probplot\n",
    "import matplotlib.pyplot as plt"
   ]
  },
  {
   "cell_type": "code",
   "execution_count": 2,
   "metadata": {},
   "outputs": [],
   "source": [
    "data = pd.read_csv('calls_dataset_with_features.csv')"
   ]
  },
  {
   "cell_type": "code",
   "execution_count": 13,
   "metadata": {},
   "outputs": [
    {
     "data": {
      "text/html": [
       "<div>\n",
       "<style scoped>\n",
       "    .dataframe tbody tr th:only-of-type {\n",
       "        vertical-align: middle;\n",
       "    }\n",
       "\n",
       "    .dataframe tbody tr th {\n",
       "        vertical-align: top;\n",
       "    }\n",
       "\n",
       "    .dataframe thead th {\n",
       "        text-align: right;\n",
       "    }\n",
       "</style>\n",
       "<table border=\"1\" class=\"dataframe\">\n",
       "  <thead>\n",
       "    <tr style=\"text-align: right;\">\n",
       "      <th></th>\n",
       "      <th>address</th>\n",
       "      <th>duration_minutes</th>\n",
       "      <th>feat_1</th>\n",
       "      <th>feat_2</th>\n",
       "      <th>geometry</th>\n",
       "      <th>poly_side</th>\n",
       "      <th>atm</th>\n",
       "      <th>bank</th>\n",
       "      <th>bus_station</th>\n",
       "      <th>bus_stop</th>\n",
       "      <th>cafe</th>\n",
       "      <th>device_charging_station</th>\n",
       "      <th>office</th>\n",
       "      <th>public_service</th>\n",
       "      <th>restaurant</th>\n",
       "      <th>shelter</th>\n",
       "      <th>station</th>\n",
       "      <th>traffic_signals</th>\n",
       "      <th>waste_basket</th>\n",
       "    </tr>\n",
       "  </thead>\n",
       "  <tbody>\n",
       "    <tr>\n",
       "      <th>0</th>\n",
       "      <td>8811aa602dfffff</td>\n",
       "      <td>5.092667</td>\n",
       "      <td>0.0</td>\n",
       "      <td>25.0</td>\n",
       "      <td>POLYGON ((37.75103240708841 55.80603592669851,...</td>\n",
       "      <td>poly3</td>\n",
       "      <td>1.0</td>\n",
       "      <td>0.0</td>\n",
       "      <td>0.0</td>\n",
       "      <td>8.0</td>\n",
       "      <td>1.0</td>\n",
       "      <td>0.0</td>\n",
       "      <td>0.0</td>\n",
       "      <td>0.0</td>\n",
       "      <td>1.0</td>\n",
       "      <td>0.0</td>\n",
       "      <td>0.0</td>\n",
       "      <td>0.0</td>\n",
       "      <td>0.0</td>\n",
       "    </tr>\n",
       "    <tr>\n",
       "      <th>1</th>\n",
       "      <td>8811aa45d9fffff</td>\n",
       "      <td>6.037037</td>\n",
       "      <td>0.0</td>\n",
       "      <td>63.0</td>\n",
       "      <td>POLYGON ((37.40263832553934 55.71842073952227,...</td>\n",
       "      <td>poly0</td>\n",
       "      <td>5.0</td>\n",
       "      <td>3.0</td>\n",
       "      <td>0.0</td>\n",
       "      <td>5.0</td>\n",
       "      <td>2.0</td>\n",
       "      <td>0.0</td>\n",
       "      <td>0.0</td>\n",
       "      <td>0.0</td>\n",
       "      <td>2.0</td>\n",
       "      <td>0.0</td>\n",
       "      <td>0.0</td>\n",
       "      <td>0.0</td>\n",
       "      <td>0.0</td>\n",
       "    </tr>\n",
       "    <tr>\n",
       "      <th>2</th>\n",
       "      <td>881181a235fffff</td>\n",
       "      <td>4.722727</td>\n",
       "      <td>0.0</td>\n",
       "      <td>11.0</td>\n",
       "      <td>POLYGON ((37.74271427608124 55.43691297888912,...</td>\n",
       "      <td>poly1</td>\n",
       "      <td>0.0</td>\n",
       "      <td>0.0</td>\n",
       "      <td>0.0</td>\n",
       "      <td>1.0</td>\n",
       "      <td>1.0</td>\n",
       "      <td>0.0</td>\n",
       "      <td>0.0</td>\n",
       "      <td>0.0</td>\n",
       "      <td>0.0</td>\n",
       "      <td>0.0</td>\n",
       "      <td>0.0</td>\n",
       "      <td>0.0</td>\n",
       "      <td>0.0</td>\n",
       "    </tr>\n",
       "    <tr>\n",
       "      <th>3</th>\n",
       "      <td>8811aa722bfffff</td>\n",
       "      <td>5.868982</td>\n",
       "      <td>0.0</td>\n",
       "      <td>36.0</td>\n",
       "      <td>POLYGON ((37.42241082476207 55.85767681439805,...</td>\n",
       "      <td>poly2</td>\n",
       "      <td>2.0</td>\n",
       "      <td>2.0</td>\n",
       "      <td>0.0</td>\n",
       "      <td>12.0</td>\n",
       "      <td>2.0</td>\n",
       "      <td>0.0</td>\n",
       "      <td>0.0</td>\n",
       "      <td>0.0</td>\n",
       "      <td>0.0</td>\n",
       "      <td>0.0</td>\n",
       "      <td>0.0</td>\n",
       "      <td>0.0</td>\n",
       "      <td>0.0</td>\n",
       "    </tr>\n",
       "    <tr>\n",
       "      <th>4</th>\n",
       "      <td>8811aa714dfffff</td>\n",
       "      <td>2.937719</td>\n",
       "      <td>0.0</td>\n",
       "      <td>19.0</td>\n",
       "      <td>POLYGON ((37.45469517717559 55.7843306893976, ...</td>\n",
       "      <td>poly2</td>\n",
       "      <td>1.0</td>\n",
       "      <td>0.0</td>\n",
       "      <td>0.0</td>\n",
       "      <td>9.0</td>\n",
       "      <td>1.0</td>\n",
       "      <td>0.0</td>\n",
       "      <td>0.0</td>\n",
       "      <td>0.0</td>\n",
       "      <td>2.0</td>\n",
       "      <td>0.0</td>\n",
       "      <td>0.0</td>\n",
       "      <td>0.0</td>\n",
       "      <td>0.0</td>\n",
       "    </tr>\n",
       "  </tbody>\n",
       "</table>\n",
       "</div>"
      ],
      "text/plain": [
       "           address  duration_minutes  feat_1  feat_2  \\\n",
       "0  8811aa602dfffff          5.092667     0.0    25.0   \n",
       "1  8811aa45d9fffff          6.037037     0.0    63.0   \n",
       "2  881181a235fffff          4.722727     0.0    11.0   \n",
       "3  8811aa722bfffff          5.868982     0.0    36.0   \n",
       "4  8811aa714dfffff          2.937719     0.0    19.0   \n",
       "\n",
       "                                            geometry poly_side  atm  bank  \\\n",
       "0  POLYGON ((37.75103240708841 55.80603592669851,...     poly3  1.0   0.0   \n",
       "1  POLYGON ((37.40263832553934 55.71842073952227,...     poly0  5.0   3.0   \n",
       "2  POLYGON ((37.74271427608124 55.43691297888912,...     poly1  0.0   0.0   \n",
       "3  POLYGON ((37.42241082476207 55.85767681439805,...     poly2  2.0   2.0   \n",
       "4  POLYGON ((37.45469517717559 55.7843306893976, ...     poly2  1.0   0.0   \n",
       "\n",
       "   bus_station  bus_stop  cafe  device_charging_station  office  \\\n",
       "0          0.0       8.0   1.0                      0.0     0.0   \n",
       "1          0.0       5.0   2.0                      0.0     0.0   \n",
       "2          0.0       1.0   1.0                      0.0     0.0   \n",
       "3          0.0      12.0   2.0                      0.0     0.0   \n",
       "4          0.0       9.0   1.0                      0.0     0.0   \n",
       "\n",
       "   public_service  restaurant  shelter  station  traffic_signals  waste_basket  \n",
       "0             0.0         1.0      0.0      0.0              0.0           0.0  \n",
       "1             0.0         2.0      0.0      0.0              0.0           0.0  \n",
       "2             0.0         0.0      0.0      0.0              0.0           0.0  \n",
       "3             0.0         0.0      0.0      0.0              0.0           0.0  \n",
       "4             0.0         2.0      0.0      0.0              0.0           0.0  "
      ]
     },
     "execution_count": 13,
     "metadata": {},
     "output_type": "execute_result"
    }
   ],
   "source": [
    "data.head()"
   ]
  },
  {
   "cell_type": "code",
   "execution_count": 14,
   "metadata": {},
   "outputs": [],
   "source": [
    "X_train = data.drop(['address', 'geometry', \n",
    "                     'poly_side','duration_minutes'],axis=1)[data['poly_side'].isin(['poly1','poly2'])]\n",
    "\n",
    "y_train = np.log1p(data['duration_minutes'][data['poly_side'].isin(['poly1','poly2'])])"
   ]
  },
  {
   "cell_type": "code",
   "execution_count": 15,
   "metadata": {},
   "outputs": [],
   "source": [
    "X_valid = data.drop(['address', 'geometry', \n",
    "                     'poly_side','duration_minutes'],axis=1)[data['poly_side'].isin(['poly0','poly3'])]\n",
    "\n",
    "y_valid = np.log1p(data['duration_minutes'][data['poly_side'].isin(['poly0','poly3'])])"
   ]
  },
  {
   "cell_type": "markdown",
   "metadata": {},
   "source": [
    "### Оценим качество случайного леса на кросвалидации"
   ]
  },
  {
   "cell_type": "code",
   "execution_count": 16,
   "metadata": {},
   "outputs": [
    {
     "name": "stdout",
     "output_type": "stream",
     "text": [
      "Metric: 1.9384284336113071\n"
     ]
    }
   ],
   "source": [
    "from sklearn.model_selection import cross_val_predict\n",
    "\n",
    "y_pred = cross_val_predict(RandomForestRegressor(n_estimators=100, bootstrap=True),\n",
    "    X_train, y_train, cv=5, n_jobs=-1)\n",
    "\n",
    "print('Metric:', np.sqrt(mean_squared_error(np.exp(y_train), np.exp(y_pred))))"
   ]
  },
  {
   "cell_type": "markdown",
   "metadata": {},
   "source": [
    "Мы применяли различные алгоритмы для обучения и мы можем выбрать тот алгоритм, который минимизирует ошибку. На практике нам часто не требуется бесконечно улучшать качество алгоритма, например можно зафиксировать модель случайного леса и далее сосредоточиться на интерпретации результата. \n",
    "\n",
    "В задаче регрессии алгоритм возвращает одно число, \n",
    "но на практике нам достаточно с какой-то степенью уверенности сказать, что предсказываемое значение меньше какого-то порога. Для этого нам нужно найти интервал предсказания - такой интервал, в который с некоторой уверенностью попадает значение целевой переменной."
   ]
  },
  {
   "cell_type": "markdown",
   "metadata": {},
   "source": [
    "### Квантильная регрессия"
   ]
  },
  {
   "cell_type": "markdown",
   "metadata": {},
   "source": [
    "в scikit-learn можно найти реализацию квантильной регрессии в алгоритме `Gradient Boosted Regressor`: для обучения нужно задать квантиль какого порядка мы хотим получить "
   ]
  },
  {
   "cell_type": "code",
   "execution_count": 26,
   "metadata": {},
   "outputs": [],
   "source": [
    "alpha = 0.95\n",
    "clf = GradientBoostingRegressor(loss='quantile', alpha=alpha,\n",
    "                                n_estimators=100, max_depth=3,\n",
    "                                learning_rate=.1, min_samples_leaf=9,\n",
    "                                min_samples_split=9)\n",
    "\n",
    "#обучаем 1-ю модель для предсказания верхней границы\n",
    "clf.fit(X_train, y_train)\n",
    "y_upper = clf.predict(X_valid)\n",
    "\n",
    "\n",
    "\n",
    "#обучаем 2-ю модель для предсказания нижней границы\n",
    "clf.set_params(alpha=1.0 - alpha)\n",
    "clf.fit(X_train, y_train)\n",
    "y_lower = clf.predict(X_valid)\n",
    "\n",
    "\n",
    "#обучаем модель для предсказания целевой переменной\n",
    "clf.set_params(loss='ls')\n",
    "clf.fit(X_train, y_train)\n",
    "\n",
    "#предсказание\n",
    "\n",
    "\n",
    "y_pred = clf.predict(X_valid)"
   ]
  },
  {
   "cell_type": "code",
   "execution_count": 27,
   "metadata": {},
   "outputs": [
    {
     "data": {
      "text/plain": [
       "array([1.33926559, 1.59678794, 1.36765253, ..., 1.65547355, 0.03581088,\n",
       "       1.19041505])"
      ]
     },
     "execution_count": 27,
     "metadata": {},
     "output_type": "execute_result"
    }
   ],
   "source": [
    "y_lower"
   ]
  },
  {
   "cell_type": "code",
   "execution_count": 28,
   "metadata": {},
   "outputs": [
    {
     "data": {
      "text/plain": [
       "array([2.17985635, 1.98205634, 2.18803718, ..., 2.03905797, 1.45447791,\n",
       "       2.26712314])"
      ]
     },
     "execution_count": 28,
     "metadata": {},
     "output_type": "execute_result"
    }
   ],
   "source": [
    "y_upper"
   ]
  },
  {
   "cell_type": "code",
   "execution_count": 29,
   "metadata": {},
   "outputs": [
    {
     "data": {
      "text/plain": [
       "array([1.75048278, 1.78923622, 1.80973212, ..., 1.92812469, 0.59308831,\n",
       "       1.76738495])"
      ]
     },
     "execution_count": 29,
     "metadata": {},
     "output_type": "execute_result"
    }
   ],
   "source": [
    "y_pred"
   ]
  },
  {
   "cell_type": "markdown",
   "metadata": {},
   "source": [
    "В итоге получаем, что с 90% вероятностью предсказанные значения будут лежать в этих интервалах:"
   ]
  },
  {
   "cell_type": "code",
   "execution_count": 30,
   "metadata": {},
   "outputs": [],
   "source": [
    "results = pd.DataFrame()\n",
    "\n",
    "results['y_lower'] = y_lower\n",
    "results['pred'] = y_pred\n",
    "results['y_upper'] = y_upper"
   ]
  },
  {
   "cell_type": "code",
   "execution_count": 31,
   "metadata": {},
   "outputs": [
    {
     "data": {
      "text/html": [
       "<div>\n",
       "<style scoped>\n",
       "    .dataframe tbody tr th:only-of-type {\n",
       "        vertical-align: middle;\n",
       "    }\n",
       "\n",
       "    .dataframe tbody tr th {\n",
       "        vertical-align: top;\n",
       "    }\n",
       "\n",
       "    .dataframe thead th {\n",
       "        text-align: right;\n",
       "    }\n",
       "</style>\n",
       "<table border=\"1\" class=\"dataframe\">\n",
       "  <thead>\n",
       "    <tr style=\"text-align: right;\">\n",
       "      <th></th>\n",
       "      <th>y_lower</th>\n",
       "      <th>pred</th>\n",
       "      <th>y_upper</th>\n",
       "    </tr>\n",
       "  </thead>\n",
       "  <tbody>\n",
       "    <tr>\n",
       "      <th>0</th>\n",
       "      <td>1.339266</td>\n",
       "      <td>1.750483</td>\n",
       "      <td>2.179856</td>\n",
       "    </tr>\n",
       "    <tr>\n",
       "      <th>1</th>\n",
       "      <td>1.596788</td>\n",
       "      <td>1.789236</td>\n",
       "      <td>1.982056</td>\n",
       "    </tr>\n",
       "    <tr>\n",
       "      <th>2</th>\n",
       "      <td>1.367653</td>\n",
       "      <td>1.809732</td>\n",
       "      <td>2.188037</td>\n",
       "    </tr>\n",
       "    <tr>\n",
       "      <th>3</th>\n",
       "      <td>1.148286</td>\n",
       "      <td>1.739170</td>\n",
       "      <td>2.131560</td>\n",
       "    </tr>\n",
       "    <tr>\n",
       "      <th>4</th>\n",
       "      <td>0.696299</td>\n",
       "      <td>1.694541</td>\n",
       "      <td>2.142563</td>\n",
       "    </tr>\n",
       "  </tbody>\n",
       "</table>\n",
       "</div>"
      ],
      "text/plain": [
       "    y_lower      pred   y_upper\n",
       "0  1.339266  1.750483  2.179856\n",
       "1  1.596788  1.789236  1.982056\n",
       "2  1.367653  1.809732  2.188037\n",
       "3  1.148286  1.739170  2.131560\n",
       "4  0.696299  1.694541  2.142563"
      ]
     },
     "execution_count": 31,
     "metadata": {},
     "output_type": "execute_result"
    }
   ],
   "source": [
    "results.head()"
   ]
  },
  {
   "cell_type": "markdown",
   "metadata": {},
   "source": [
    "Основной минус данного подхода - для разных квантилей нужно обучать отдельные модели. Поэтому ниже мы рассмотрим подход, который позволит сократить количество моделей и с помощью этого подхода можно находить интервал предсказания для разных квантилей."
   ]
  },
  {
   "cell_type": "markdown",
   "metadata": {},
   "source": [
    "### Другой подход - предсказание ошибки"
   ]
  },
  {
   "cell_type": "markdown",
   "metadata": {},
   "source": [
    "Делаем две модели - первая модель предсказывает целевую переменную, а вторая модель предсказывает ошибку"
   ]
  },
  {
   "cell_type": "code",
   "execution_count": 33,
   "metadata": {},
   "outputs": [],
   "source": [
    "X1, X2, y1, y2 = train_test_split(X_train, y_train, test_size=0.2)"
   ]
  },
  {
   "cell_type": "code",
   "execution_count": 34,
   "metadata": {},
   "outputs": [
    {
     "data": {
      "text/plain": [
       "RandomForestRegressor()"
      ]
     },
     "execution_count": 34,
     "metadata": {},
     "output_type": "execute_result"
    }
   ],
   "source": [
    "clf_mean = RandomForestRegressor(criterion='mae')\n",
    "clf_mean.fit(X1, y1)\n",
    "\n",
    "y2_pred = clf_mean.predict(X2)\n",
    "y2_pred_error = (y2 - y2_pred)**2\n",
    "\n",
    "clf_std = RandomForestRegressor(criterion='mse')\n",
    "\n",
    "clf_std.fit(X2, y2_pred_error)"
   ]
  },
  {
   "cell_type": "markdown",
   "metadata": {},
   "source": [
    "Находим интервалы на отложенной выборке"
   ]
  },
  {
   "cell_type": "code",
   "execution_count": 35,
   "metadata": {},
   "outputs": [],
   "source": [
    "y_test_mean = clf_mean.predict(X_valid)\n",
    "y_test_stdev = clf_std.predict(X_valid)"
   ]
  },
  {
   "cell_type": "markdown",
   "metadata": {},
   "source": [
    "Далее находим интервал +/- 2 сигмы"
   ]
  },
  {
   "cell_type": "code",
   "execution_count": 36,
   "metadata": {},
   "outputs": [],
   "source": [
    "results = pd.DataFrame()\n",
    "results['predict_lower'] = y_test_mean - (2*(y_test_stdev)**0.5)\n",
    "results['predict'] = y_test_mean\n",
    "results['predict_upper'] = y_test_mean + (2*(y_test_stdev)**0.5)"
   ]
  },
  {
   "cell_type": "code",
   "execution_count": 37,
   "metadata": {},
   "outputs": [
    {
     "data": {
      "text/html": [
       "<div>\n",
       "<style scoped>\n",
       "    .dataframe tbody tr th:only-of-type {\n",
       "        vertical-align: middle;\n",
       "    }\n",
       "\n",
       "    .dataframe tbody tr th {\n",
       "        vertical-align: top;\n",
       "    }\n",
       "\n",
       "    .dataframe thead th {\n",
       "        text-align: right;\n",
       "    }\n",
       "</style>\n",
       "<table border=\"1\" class=\"dataframe\">\n",
       "  <thead>\n",
       "    <tr style=\"text-align: right;\">\n",
       "      <th></th>\n",
       "      <th>predict_lower</th>\n",
       "      <th>predict</th>\n",
       "      <th>predict_upper</th>\n",
       "    </tr>\n",
       "  </thead>\n",
       "  <tbody>\n",
       "    <tr>\n",
       "      <th>0</th>\n",
       "      <td>1.090612</td>\n",
       "      <td>1.708694</td>\n",
       "      <td>2.326776</td>\n",
       "    </tr>\n",
       "    <tr>\n",
       "      <th>1</th>\n",
       "      <td>1.566045</td>\n",
       "      <td>1.836233</td>\n",
       "      <td>2.106421</td>\n",
       "    </tr>\n",
       "    <tr>\n",
       "      <th>2</th>\n",
       "      <td>1.162194</td>\n",
       "      <td>1.820929</td>\n",
       "      <td>2.479664</td>\n",
       "    </tr>\n",
       "    <tr>\n",
       "      <th>3</th>\n",
       "      <td>1.011539</td>\n",
       "      <td>1.685589</td>\n",
       "      <td>2.359639</td>\n",
       "    </tr>\n",
       "    <tr>\n",
       "      <th>4</th>\n",
       "      <td>0.532206</td>\n",
       "      <td>1.817120</td>\n",
       "      <td>3.102034</td>\n",
       "    </tr>\n",
       "  </tbody>\n",
       "</table>\n",
       "</div>"
      ],
      "text/plain": [
       "   predict_lower   predict  predict_upper\n",
       "0       1.090612  1.708694       2.326776\n",
       "1       1.566045  1.836233       2.106421\n",
       "2       1.162194  1.820929       2.479664\n",
       "3       1.011539  1.685589       2.359639\n",
       "4       0.532206  1.817120       3.102034"
      ]
     },
     "execution_count": 37,
     "metadata": {},
     "output_type": "execute_result"
    }
   ],
   "source": [
    "results.head()"
   ]
  },
  {
   "cell_type": "code",
   "execution_count": null,
   "metadata": {},
   "outputs": [],
   "source": []
  }
 ],
 "metadata": {
  "kernelspec": {
   "display_name": "Python 3",
   "language": "python",
   "name": "python3"
  },
  "language_info": {
   "codemirror_mode": {
    "name": "ipython",
    "version": 3
   },
   "file_extension": ".py",
   "mimetype": "text/x-python",
   "name": "python",
   "nbconvert_exporter": "python",
   "pygments_lexer": "ipython3",
   "version": "3.8.5"
  }
 },
 "nbformat": 4,
 "nbformat_minor": 4
}
