{
 "cells": [
  {
   "cell_type": "code",
   "execution_count": 1,
   "metadata": {},
   "outputs": [],
   "source": [
    "import numpy as np\n",
    "import pandas as pd\n",
    "\n",
    "from datetime import date\n",
    "import pickle\n",
    "import seaborn as sns\n",
    "from matplotlib import pyplot as plt\n",
    "%matplotlib inline\n",
    "\n",
    "import warnings\n",
    "warnings.simplefilter('ignore')\n",
    "\n",
    "import gc # сборщик мусора"
   ]
  },
  {
   "cell_type": "code",
   "execution_count": 2,
   "metadata": {},
   "outputs": [],
   "source": [
    "from sklearn.pipeline import Pipeline, make_pipeline\n",
    "from sklearn.pipeline import FeatureUnion\n",
    "from sklearn.base import BaseEstimator, TransformerMixin\n",
    "from sklearn.model_selection import cross_val_score, train_test_split\n",
    "from sklearn.preprocessing import StandardScaler\n",
    "from catboost import CatBoostClassifier\n",
    "\n",
    "from sklift.metrics import uplift_at_k\n",
    "from sklift.viz import plot_uplift_preds\n",
    "from sklift.models import SoloModel\n",
    "from sklift.viz import plot_qini_curve\n",
    "from sklift.viz import plot_uplift_curve\n",
    "from sklift.models import ClassTransformation\n",
    "from sklift.models import TwoModels"
   ]
  },
  {
   "cell_type": "code",
   "execution_count": 3,
   "metadata": {},
   "outputs": [],
   "source": [
    "from sklearn.metrics import classification_report, f1_score, precision_score, recall_score\n",
    "from sklearn.model_selection import StratifiedKFold, GridSearchCV, RandomizedSearchCV"
   ]
  },
  {
   "cell_type": "code",
   "execution_count": 4,
   "metadata": {},
   "outputs": [],
   "source": [
    "from sklearn.tree import DecisionTreeClassifier\n",
    "from sklearn.linear_model import LogisticRegression\n",
    "from sklearn.neighbors import KNeighborsClassifier\n",
    "import xgboost as xgb, lightgbm as lgbm, catboost as catb"
   ]
  },
  {
   "cell_type": "code",
   "execution_count": 5,
   "metadata": {},
   "outputs": [],
   "source": [
    "def evaluate_preds(model, X_train, X_test, y_train, y_test):\n",
    "    y_train_pred = model.predict(X_train)\n",
    "    y_test_pred = model.predict(X_test)\n",
    "\n",
    "    get_classification_report(y_train, y_train_pred, y_test, y_test_pred)"
   ]
  },
  {
   "cell_type": "code",
   "execution_count": 6,
   "metadata": {},
   "outputs": [],
   "source": [
    "def get_classification_report(y_train_true, y_train_pred, y_test_true, y_test_pred):\n",
    "    print('TRAIN\\n\\n' + classification_report(y_train_true, y_train_pred))\n",
    "    print('TEST\\n\\n' + classification_report(y_test_true, y_test_pred))\n",
    "    print('CONFUSION MATRIX\\n')\n",
    "    print(pd.crosstab(y_test_true, y_test_pred))"
   ]
  },
  {
   "cell_type": "code",
   "execution_count": 7,
   "metadata": {},
   "outputs": [],
   "source": [
    "def show_proba_calibration_plots(y_predicted_probs, y_true_labels):\n",
    "    preds_with_true_labels = np.array(list(zip(y_predicted_probs, y_true_labels)))\n",
    "\n",
    "    thresholds = []\n",
    "    precisions = []\n",
    "    recalls = []\n",
    "    f1_scores = []\n",
    "\n",
    "    for threshold in np.linspace(0.1, 0.9, 9):\n",
    "        thresholds.append(threshold)\n",
    "        precisions.append(precision_score(y_true_labels, list(map(int, y_predicted_probs > threshold))))\n",
    "        recalls.append(recall_score(y_true_labels, list(map(int, y_predicted_probs > threshold))))\n",
    "        f1_scores.append(f1_score(y_true_labels, list(map(int, y_predicted_probs > threshold))))\n",
    "\n",
    "    scores_table = pd.DataFrame({'f1':f1_scores,\n",
    "                                 'precision':precisions,\n",
    "                                 'recall':recalls,\n",
    "                                 'probability':thresholds}).sort_values('f1', ascending=False).round(3)\n",
    "  \n",
    "    figure = plt.figure(figsize = (15, 5))\n",
    "\n",
    "    plt1 = figure.add_subplot(121)\n",
    "    plt1.plot(thresholds, precisions, label='Precision', linewidth=4)\n",
    "    plt1.plot(thresholds, recalls, label='Recall', linewidth=4)\n",
    "    plt1.plot(thresholds, f1_scores, label='F1', linewidth=4)\n",
    "    plt1.set_ylabel('Scores')\n",
    "    plt1.set_xlabel('Probability threshold')\n",
    "    plt1.set_title('Probabilities threshold calibration')\n",
    "    plt1.legend(bbox_to_anchor=(0.25, 0.25))   \n",
    "    plt1.table(cellText = scores_table.values,\n",
    "               colLabels = scores_table.columns, \n",
    "               colLoc = 'center', cellLoc = 'center', loc = 'bottom', bbox = [0, -1.3, 1, 1])\n",
    "\n",
    "    plt2 = figure.add_subplot(122)\n",
    "    plt2.hist(preds_with_true_labels[preds_with_true_labels[:, 1] == 0][:, 0], \n",
    "              label='Another class', color='royalblue', alpha=1)\n",
    "    plt2.hist(preds_with_true_labels[preds_with_true_labels[:, 1] == 1][:, 0], \n",
    "              label='Main class', color='darkcyan', alpha=0.8)\n",
    "    plt2.set_ylabel('Number of examples')\n",
    "    plt2.set_xlabel('Probabilities')\n",
    "    plt2.set_title('Probability histogram')\n",
    "    plt2.legend(bbox_to_anchor=(1, 1))\n",
    "\n",
    "    plt.show()"
   ]
  },
  {
   "cell_type": "code",
   "execution_count": 8,
   "metadata": {},
   "outputs": [],
   "source": [
    "from pathlib import Path\n",
    "import os\n",
    "\n",
    "\n",
    "DATA_ROOT = Path('./data/')\n",
    "MODELS_PATH = Path('./models/')\n",
    "\n",
    "# input\n",
    "DATASET_TRAIN = DATA_ROOT / 'data_train.csv'\n",
    "DATASET_TEST = DATA_ROOT / 'data_test.csv'\n",
    "DATASET_FEATURES = DATA_ROOT / 'features.csv'\n",
    "\n",
    "TRAIN_PART_PATH = DATA_ROOT / 'training_train_part.csv'\n",
    "TEST_PART_PATH = DATA_ROOT / 'training_test_part.csv'\n",
    "\n",
    "TRAIN_MERGE = DATA_ROOT / 'train_merge.csv'\n",
    "TEST_MERGE = DATA_ROOT / 'test_merge.csv'\n",
    "# output\n",
    "DATASET_SHORT_FEATURES = DATA_ROOT / 'short_features.csv'\n",
    "MODEL_FILE_PATH = MODELS_PATH / 'model.pkl'"
   ]
  },
  {
   "cell_type": "code",
   "execution_count": 9,
   "metadata": {},
   "outputs": [],
   "source": [
    "df_train = pd.read_csv(DATASET_TRAIN).drop(['Unnamed: 0'], axis=1)\n",
    "df_test = pd.read_csv(DATASET_TEST).drop(['Unnamed: 0'], axis=1)"
   ]
  },
  {
   "cell_type": "markdown",
   "metadata": {},
   "source": [
    "#### создадим df_features, после создания закоментим код для удобства"
   ]
  },
  {
   "cell_type": "code",
   "execution_count": 10,
   "metadata": {},
   "outputs": [],
   "source": [
    "# df_big = pd.read_csv(DATASET_FEATURES, chunksize=100000, iterator=True, sep='\\t')\n",
    "# df_list = []\n",
    "# all_users = pd.concat([df_train, df_test]).id.unique()\n",
    "# for dfb in df_big:\n",
    "#     merge = dfb['id'].isin(all_users)\n",
    "#     dfb_filter = dfb[merge]\n",
    "#     df_list.append(dfb_filter)\n",
    "# df_features = df_list[0]\n",
    "# for number in range(1, len(df_list)):\n",
    "#     df_features = pd.concat([df_features, df_list[number]], axis=0)"
   ]
  },
  {
   "cell_type": "code",
   "execution_count": 11,
   "metadata": {},
   "outputs": [],
   "source": [
    "# df_features.to_csv(DATASET_SHORT_FEATURES)"
   ]
  },
  {
   "cell_type": "markdown",
   "metadata": {},
   "source": [
    "**target** - целевая переменная, где 1 означает подключение услуги, 0 - абонент не подключил услугу соответственно.\n",
    "\n",
    "**buy_time** - время покупки, представлено в формате timestamp, для работы с этим столбцом понадобится функция datetime.fromtimestamp из модуля datetime.\n",
    "\n",
    "**id** - идентификатор абонента\n",
    "\n",
    "**vas_id** - подключаемая услуга"
   ]
  },
  {
   "cell_type": "markdown",
   "metadata": {},
   "source": [
    "**Задача состоит из 2-х подзадач:**\n",
    "1. Предсказание вероятности подключения услуги\n",
    "2. Формирование индивидуальных предложений и максимизация выручки"
   ]
  },
  {
   "cell_type": "code",
   "execution_count": 12,
   "metadata": {},
   "outputs": [
    {
     "data": {
      "text/html": [
       "<div>\n",
       "<style scoped>\n",
       "    .dataframe tbody tr th:only-of-type {\n",
       "        vertical-align: middle;\n",
       "    }\n",
       "\n",
       "    .dataframe tbody tr th {\n",
       "        vertical-align: top;\n",
       "    }\n",
       "\n",
       "    .dataframe thead th {\n",
       "        text-align: right;\n",
       "    }\n",
       "</style>\n",
       "<table border=\"1\" class=\"dataframe\">\n",
       "  <thead>\n",
       "    <tr style=\"text-align: right;\">\n",
       "      <th></th>\n",
       "      <th>id</th>\n",
       "      <th>buy_time</th>\n",
       "      <th>0</th>\n",
       "      <th>1</th>\n",
       "      <th>2</th>\n",
       "      <th>3</th>\n",
       "      <th>4</th>\n",
       "      <th>5</th>\n",
       "      <th>6</th>\n",
       "      <th>7</th>\n",
       "      <th>...</th>\n",
       "      <th>243</th>\n",
       "      <th>244</th>\n",
       "      <th>245</th>\n",
       "      <th>246</th>\n",
       "      <th>247</th>\n",
       "      <th>248</th>\n",
       "      <th>249</th>\n",
       "      <th>250</th>\n",
       "      <th>251</th>\n",
       "      <th>252</th>\n",
       "    </tr>\n",
       "  </thead>\n",
       "  <tbody>\n",
       "    <tr>\n",
       "      <th>0</th>\n",
       "      <td>2046132</td>\n",
       "      <td>1534712400</td>\n",
       "      <td>300.820029</td>\n",
       "      <td>1599.480888</td>\n",
       "      <td>286.879214</td>\n",
       "      <td>1585.013202</td>\n",
       "      <td>281.461754</td>\n",
       "      <td>1563.90821</td>\n",
       "      <td>-16.08618</td>\n",
       "      <td>654.013903</td>\n",
       "      <td>...</td>\n",
       "      <td>-977.373846</td>\n",
       "      <td>-613.770792</td>\n",
       "      <td>-25.996269</td>\n",
       "      <td>-35.630448</td>\n",
       "      <td>-295.747724</td>\n",
       "      <td>-17.832889</td>\n",
       "      <td>-0.694428</td>\n",
       "      <td>-4.175933</td>\n",
       "      <td>-0.45614</td>\n",
       "      <td>0.0</td>\n",
       "    </tr>\n",
       "    <tr>\n",
       "      <th>1</th>\n",
       "      <td>2050810</td>\n",
       "      <td>1540760400</td>\n",
       "      <td>-86.209971</td>\n",
       "      <td>91.820888</td>\n",
       "      <td>-84.480786</td>\n",
       "      <td>110.333202</td>\n",
       "      <td>-89.898246</td>\n",
       "      <td>89.22821</td>\n",
       "      <td>-16.08618</td>\n",
       "      <td>-65.076097</td>\n",
       "      <td>...</td>\n",
       "      <td>-977.373846</td>\n",
       "      <td>-613.770792</td>\n",
       "      <td>-23.996269</td>\n",
       "      <td>190.369552</td>\n",
       "      <td>-286.747724</td>\n",
       "      <td>-25.832889</td>\n",
       "      <td>-0.694428</td>\n",
       "      <td>-12.175933</td>\n",
       "      <td>-0.45614</td>\n",
       "      <td>0.0</td>\n",
       "    </tr>\n",
       "    <tr>\n",
       "      <th>2</th>\n",
       "      <td>2070757</td>\n",
       "      <td>1540760400</td>\n",
       "      <td>-96.799971</td>\n",
       "      <td>-408.179112</td>\n",
       "      <td>-110.740786</td>\n",
       "      <td>-460.786798</td>\n",
       "      <td>-114.038246</td>\n",
       "      <td>-479.77179</td>\n",
       "      <td>-16.08618</td>\n",
       "      <td>-65.076097</td>\n",
       "      <td>...</td>\n",
       "      <td>-925.373846</td>\n",
       "      <td>-561.770792</td>\n",
       "      <td>-21.996269</td>\n",
       "      <td>-37.630448</td>\n",
       "      <td>-151.747724</td>\n",
       "      <td>-24.832889</td>\n",
       "      <td>0.305572</td>\n",
       "      <td>-12.175933</td>\n",
       "      <td>-0.45614</td>\n",
       "      <td>1.0</td>\n",
       "    </tr>\n",
       "    <tr>\n",
       "      <th>3</th>\n",
       "      <td>2071522</td>\n",
       "      <td>1544994000</td>\n",
       "      <td>-94.939971</td>\n",
       "      <td>-363.699112</td>\n",
       "      <td>-108.880786</td>\n",
       "      <td>-411.226798</td>\n",
       "      <td>-114.298246</td>\n",
       "      <td>-432.33179</td>\n",
       "      <td>-16.08618</td>\n",
       "      <td>-65.076097</td>\n",
       "      <td>...</td>\n",
       "      <td>-977.373846</td>\n",
       "      <td>-613.770792</td>\n",
       "      <td>-25.996269</td>\n",
       "      <td>-37.630448</td>\n",
       "      <td>-306.747724</td>\n",
       "      <td>-25.832889</td>\n",
       "      <td>-0.694428</td>\n",
       "      <td>-12.175933</td>\n",
       "      <td>-0.45614</td>\n",
       "      <td>0.0</td>\n",
       "    </tr>\n",
       "    <tr>\n",
       "      <th>4</th>\n",
       "      <td>2075318</td>\n",
       "      <td>1533502800</td>\n",
       "      <td>-75.639971</td>\n",
       "      <td>669.690888</td>\n",
       "      <td>-89.580786</td>\n",
       "      <td>732.343202</td>\n",
       "      <td>-94.998246</td>\n",
       "      <td>736.65821</td>\n",
       "      <td>-16.08618</td>\n",
       "      <td>782.383903</td>\n",
       "      <td>...</td>\n",
       "      <td>-501.373846</td>\n",
       "      <td>-242.770792</td>\n",
       "      <td>-25.996269</td>\n",
       "      <td>-37.630448</td>\n",
       "      <td>-167.747724</td>\n",
       "      <td>-14.832889</td>\n",
       "      <td>2.305572</td>\n",
       "      <td>-4.175933</td>\n",
       "      <td>-0.45614</td>\n",
       "      <td>0.0</td>\n",
       "    </tr>\n",
       "  </tbody>\n",
       "</table>\n",
       "<p>5 rows × 255 columns</p>\n",
       "</div>"
      ],
      "text/plain": [
       "        id    buy_time           0            1           2            3  \\\n",
       "0  2046132  1534712400  300.820029  1599.480888  286.879214  1585.013202   \n",
       "1  2050810  1540760400  -86.209971    91.820888  -84.480786   110.333202   \n",
       "2  2070757  1540760400  -96.799971  -408.179112 -110.740786  -460.786798   \n",
       "3  2071522  1544994000  -94.939971  -363.699112 -108.880786  -411.226798   \n",
       "4  2075318  1533502800  -75.639971   669.690888  -89.580786   732.343202   \n",
       "\n",
       "            4           5         6           7  ...         243         244  \\\n",
       "0  281.461754  1563.90821 -16.08618  654.013903  ... -977.373846 -613.770792   \n",
       "1  -89.898246    89.22821 -16.08618  -65.076097  ... -977.373846 -613.770792   \n",
       "2 -114.038246  -479.77179 -16.08618  -65.076097  ... -925.373846 -561.770792   \n",
       "3 -114.298246  -432.33179 -16.08618  -65.076097  ... -977.373846 -613.770792   \n",
       "4  -94.998246   736.65821 -16.08618  782.383903  ... -501.373846 -242.770792   \n",
       "\n",
       "         245         246         247        248       249        250      251  \\\n",
       "0 -25.996269  -35.630448 -295.747724 -17.832889 -0.694428  -4.175933 -0.45614   \n",
       "1 -23.996269  190.369552 -286.747724 -25.832889 -0.694428 -12.175933 -0.45614   \n",
       "2 -21.996269  -37.630448 -151.747724 -24.832889  0.305572 -12.175933 -0.45614   \n",
       "3 -25.996269  -37.630448 -306.747724 -25.832889 -0.694428 -12.175933 -0.45614   \n",
       "4 -25.996269  -37.630448 -167.747724 -14.832889  2.305572  -4.175933 -0.45614   \n",
       "\n",
       "   252  \n",
       "0  0.0  \n",
       "1  0.0  \n",
       "2  1.0  \n",
       "3  0.0  \n",
       "4  0.0  \n",
       "\n",
       "[5 rows x 255 columns]"
      ]
     },
     "execution_count": 12,
     "metadata": {},
     "output_type": "execute_result"
    }
   ],
   "source": [
    "df_short = pd.read_csv(DATASET_SHORT_FEATURES).drop(['Unnamed: 0','Unnamed: 0.1'], axis=1)\n",
    "df_short.head()"
   ]
  },
  {
   "cell_type": "code",
   "execution_count": 13,
   "metadata": {},
   "outputs": [
    {
     "data": {
      "text/html": [
       "<div>\n",
       "<style scoped>\n",
       "    .dataframe tbody tr th:only-of-type {\n",
       "        vertical-align: middle;\n",
       "    }\n",
       "\n",
       "    .dataframe tbody tr th {\n",
       "        vertical-align: top;\n",
       "    }\n",
       "\n",
       "    .dataframe thead th {\n",
       "        text-align: right;\n",
       "    }\n",
       "</style>\n",
       "<table border=\"1\" class=\"dataframe\">\n",
       "  <thead>\n",
       "    <tr style=\"text-align: right;\">\n",
       "      <th></th>\n",
       "      <th>id</th>\n",
       "      <th>buy_time</th>\n",
       "      <th>0</th>\n",
       "      <th>1</th>\n",
       "      <th>2</th>\n",
       "      <th>3</th>\n",
       "      <th>4</th>\n",
       "      <th>5</th>\n",
       "      <th>6</th>\n",
       "      <th>7</th>\n",
       "      <th>...</th>\n",
       "      <th>243</th>\n",
       "      <th>244</th>\n",
       "      <th>245</th>\n",
       "      <th>246</th>\n",
       "      <th>247</th>\n",
       "      <th>248</th>\n",
       "      <th>249</th>\n",
       "      <th>250</th>\n",
       "      <th>251</th>\n",
       "      <th>252</th>\n",
       "    </tr>\n",
       "  </thead>\n",
       "  <tbody>\n",
       "    <tr>\n",
       "      <th>count</th>\n",
       "      <td>9.023890e+05</td>\n",
       "      <td>9.023890e+05</td>\n",
       "      <td>902389.000000</td>\n",
       "      <td>902389.000000</td>\n",
       "      <td>902389.000000</td>\n",
       "      <td>902389.000000</td>\n",
       "      <td>902389.000000</td>\n",
       "      <td>902389.000000</td>\n",
       "      <td>902389.000000</td>\n",
       "      <td>902389.000000</td>\n",
       "      <td>...</td>\n",
       "      <td>902389.000000</td>\n",
       "      <td>902389.000000</td>\n",
       "      <td>902389.000000</td>\n",
       "      <td>902389.000000</td>\n",
       "      <td>902389.000000</td>\n",
       "      <td>902389.000000</td>\n",
       "      <td>902389.000000</td>\n",
       "      <td>902389.000000</td>\n",
       "      <td>902389.000000</td>\n",
       "      <td>902389.000000</td>\n",
       "    </tr>\n",
       "    <tr>\n",
       "      <th>mean</th>\n",
       "      <td>2.181789e+06</td>\n",
       "      <td>1.539593e+09</td>\n",
       "      <td>0.045011</td>\n",
       "      <td>0.083067</td>\n",
       "      <td>-0.097768</td>\n",
       "      <td>0.054796</td>\n",
       "      <td>-0.168957</td>\n",
       "      <td>-0.037743</td>\n",
       "      <td>0.020268</td>\n",
       "      <td>0.094469</td>\n",
       "      <td>...</td>\n",
       "      <td>2.253638</td>\n",
       "      <td>1.475141</td>\n",
       "      <td>0.194557</td>\n",
       "      <td>0.012863</td>\n",
       "      <td>-1.705147</td>\n",
       "      <td>-0.073602</td>\n",
       "      <td>-0.024798</td>\n",
       "      <td>0.055467</td>\n",
       "      <td>-0.000681</td>\n",
       "      <td>0.257663</td>\n",
       "    </tr>\n",
       "    <tr>\n",
       "      <th>std</th>\n",
       "      <td>1.258521e+06</td>\n",
       "      <td>5.319642e+06</td>\n",
       "      <td>291.888648</td>\n",
       "      <td>482.726654</td>\n",
       "      <td>298.669329</td>\n",
       "      <td>546.362530</td>\n",
       "      <td>310.806921</td>\n",
       "      <td>602.972486</td>\n",
       "      <td>243.849124</td>\n",
       "      <td>381.755492</td>\n",
       "      <td>...</td>\n",
       "      <td>3210.895385</td>\n",
       "      <td>2244.960994</td>\n",
       "      <td>1323.028568</td>\n",
       "      <td>299.558020</td>\n",
       "      <td>1296.239554</td>\n",
       "      <td>260.509355</td>\n",
       "      <td>8.620514</td>\n",
       "      <td>199.718875</td>\n",
       "      <td>11.302048</td>\n",
       "      <td>2.071481</td>\n",
       "    </tr>\n",
       "    <tr>\n",
       "      <th>min</th>\n",
       "      <td>2.000000e+00</td>\n",
       "      <td>1.531084e+09</td>\n",
       "      <td>-1151.889971</td>\n",
       "      <td>-1594.119112</td>\n",
       "      <td>-2651.840786</td>\n",
       "      <td>-1634.436798</td>\n",
       "      <td>-2657.258246</td>\n",
       "      <td>-1655.541790</td>\n",
       "      <td>-541.506180</td>\n",
       "      <td>-802.356097</td>\n",
       "      <td>...</td>\n",
       "      <td>-977.373846</td>\n",
       "      <td>-613.770792</td>\n",
       "      <td>-25.996269</td>\n",
       "      <td>-37.630448</td>\n",
       "      <td>-306.747724</td>\n",
       "      <td>-25.832889</td>\n",
       "      <td>-0.694428</td>\n",
       "      <td>-12.175933</td>\n",
       "      <td>-0.456140</td>\n",
       "      <td>0.000000</td>\n",
       "    </tr>\n",
       "    <tr>\n",
       "      <th>25%</th>\n",
       "      <td>1.092406e+06</td>\n",
       "      <td>1.534712e+09</td>\n",
       "      <td>-96.799971</td>\n",
       "      <td>-209.479112</td>\n",
       "      <td>-110.740786</td>\n",
       "      <td>-243.156798</td>\n",
       "      <td>-116.158246</td>\n",
       "      <td>-260.451790</td>\n",
       "      <td>-16.086180</td>\n",
       "      <td>-65.076097</td>\n",
       "      <td>...</td>\n",
       "      <td>-977.373846</td>\n",
       "      <td>-613.770792</td>\n",
       "      <td>-25.996269</td>\n",
       "      <td>-37.630448</td>\n",
       "      <td>-305.747724</td>\n",
       "      <td>-25.832889</td>\n",
       "      <td>-0.694428</td>\n",
       "      <td>-12.175933</td>\n",
       "      <td>-0.456140</td>\n",
       "      <td>0.000000</td>\n",
       "    </tr>\n",
       "    <tr>\n",
       "      <th>50%</th>\n",
       "      <td>2.179373e+06</td>\n",
       "      <td>1.539551e+09</td>\n",
       "      <td>-84.969971</td>\n",
       "      <td>-60.729112</td>\n",
       "      <td>-85.320786</td>\n",
       "      <td>-79.426798</td>\n",
       "      <td>-87.868246</td>\n",
       "      <td>-93.771790</td>\n",
       "      <td>-16.086180</td>\n",
       "      <td>-65.076097</td>\n",
       "      <td>...</td>\n",
       "      <td>-959.373846</td>\n",
       "      <td>-613.770792</td>\n",
       "      <td>-25.996269</td>\n",
       "      <td>-37.630448</td>\n",
       "      <td>-239.747724</td>\n",
       "      <td>-23.832889</td>\n",
       "      <td>-0.694428</td>\n",
       "      <td>-12.175933</td>\n",
       "      <td>-0.456140</td>\n",
       "      <td>0.000000</td>\n",
       "    </tr>\n",
       "    <tr>\n",
       "      <th>75%</th>\n",
       "      <td>3.272609e+06</td>\n",
       "      <td>1.544994e+09</td>\n",
       "      <td>11.690029</td>\n",
       "      <td>118.100888</td>\n",
       "      <td>27.199214</td>\n",
       "      <td>126.073202</td>\n",
       "      <td>28.721754</td>\n",
       "      <td>119.538210</td>\n",
       "      <td>-16.086180</td>\n",
       "      <td>-59.146097</td>\n",
       "      <td>...</td>\n",
       "      <td>-485.373846</td>\n",
       "      <td>-407.770792</td>\n",
       "      <td>-24.996269</td>\n",
       "      <td>-33.630448</td>\n",
       "      <td>-77.747724</td>\n",
       "      <td>-10.832889</td>\n",
       "      <td>-0.694428</td>\n",
       "      <td>-9.175933</td>\n",
       "      <td>-0.456140</td>\n",
       "      <td>1.000000</td>\n",
       "    </tr>\n",
       "    <tr>\n",
       "      <th>max</th>\n",
       "      <td>4.362720e+06</td>\n",
       "      <td>1.548018e+09</td>\n",
       "      <td>211730.720029</td>\n",
       "      <td>212606.130888</td>\n",
       "      <td>211716.779214</td>\n",
       "      <td>213357.743202</td>\n",
       "      <td>212095.261754</td>\n",
       "      <td>213720.548210</td>\n",
       "      <td>211811.433820</td>\n",
       "      <td>212583.623903</td>\n",
       "      <td>...</td>\n",
       "      <td>240076.626154</td>\n",
       "      <td>145602.229208</td>\n",
       "      <td>980158.003731</td>\n",
       "      <td>47086.369552</td>\n",
       "      <td>185850.252276</td>\n",
       "      <td>138539.167111</td>\n",
       "      <td>3865.305572</td>\n",
       "      <td>138552.824067</td>\n",
       "      <td>9489.543860</td>\n",
       "      <td>1743.000000</td>\n",
       "    </tr>\n",
       "  </tbody>\n",
       "</table>\n",
       "<p>8 rows × 255 columns</p>\n",
       "</div>"
      ],
      "text/plain": [
       "                 id      buy_time              0              1  \\\n",
       "count  9.023890e+05  9.023890e+05  902389.000000  902389.000000   \n",
       "mean   2.181789e+06  1.539593e+09       0.045011       0.083067   \n",
       "std    1.258521e+06  5.319642e+06     291.888648     482.726654   \n",
       "min    2.000000e+00  1.531084e+09   -1151.889971   -1594.119112   \n",
       "25%    1.092406e+06  1.534712e+09     -96.799971    -209.479112   \n",
       "50%    2.179373e+06  1.539551e+09     -84.969971     -60.729112   \n",
       "75%    3.272609e+06  1.544994e+09      11.690029     118.100888   \n",
       "max    4.362720e+06  1.548018e+09  211730.720029  212606.130888   \n",
       "\n",
       "                   2              3              4              5  \\\n",
       "count  902389.000000  902389.000000  902389.000000  902389.000000   \n",
       "mean       -0.097768       0.054796      -0.168957      -0.037743   \n",
       "std       298.669329     546.362530     310.806921     602.972486   \n",
       "min     -2651.840786   -1634.436798   -2657.258246   -1655.541790   \n",
       "25%      -110.740786    -243.156798    -116.158246    -260.451790   \n",
       "50%       -85.320786     -79.426798     -87.868246     -93.771790   \n",
       "75%        27.199214     126.073202      28.721754     119.538210   \n",
       "max    211716.779214  213357.743202  212095.261754  213720.548210   \n",
       "\n",
       "                   6              7  ...            243            244  \\\n",
       "count  902389.000000  902389.000000  ...  902389.000000  902389.000000   \n",
       "mean        0.020268       0.094469  ...       2.253638       1.475141   \n",
       "std       243.849124     381.755492  ...    3210.895385    2244.960994   \n",
       "min      -541.506180    -802.356097  ...    -977.373846    -613.770792   \n",
       "25%       -16.086180     -65.076097  ...    -977.373846    -613.770792   \n",
       "50%       -16.086180     -65.076097  ...    -959.373846    -613.770792   \n",
       "75%       -16.086180     -59.146097  ...    -485.373846    -407.770792   \n",
       "max    211811.433820  212583.623903  ...  240076.626154  145602.229208   \n",
       "\n",
       "                 245            246            247            248  \\\n",
       "count  902389.000000  902389.000000  902389.000000  902389.000000   \n",
       "mean        0.194557       0.012863      -1.705147      -0.073602   \n",
       "std      1323.028568     299.558020    1296.239554     260.509355   \n",
       "min       -25.996269     -37.630448    -306.747724     -25.832889   \n",
       "25%       -25.996269     -37.630448    -305.747724     -25.832889   \n",
       "50%       -25.996269     -37.630448    -239.747724     -23.832889   \n",
       "75%       -24.996269     -33.630448     -77.747724     -10.832889   \n",
       "max    980158.003731   47086.369552  185850.252276  138539.167111   \n",
       "\n",
       "                 249            250            251            252  \n",
       "count  902389.000000  902389.000000  902389.000000  902389.000000  \n",
       "mean       -0.024798       0.055467      -0.000681       0.257663  \n",
       "std         8.620514     199.718875      11.302048       2.071481  \n",
       "min        -0.694428     -12.175933      -0.456140       0.000000  \n",
       "25%        -0.694428     -12.175933      -0.456140       0.000000  \n",
       "50%        -0.694428     -12.175933      -0.456140       0.000000  \n",
       "75%        -0.694428      -9.175933      -0.456140       1.000000  \n",
       "max      3865.305572  138552.824067    9489.543860    1743.000000  \n",
       "\n",
       "[8 rows x 255 columns]"
      ]
     },
     "execution_count": 13,
     "metadata": {},
     "output_type": "execute_result"
    }
   ],
   "source": [
    "df_short.describe()"
   ]
  },
  {
   "cell_type": "code",
   "execution_count": 14,
   "metadata": {},
   "outputs": [
    {
     "data": {
      "text/html": [
       "<div>\n",
       "<style scoped>\n",
       "    .dataframe tbody tr th:only-of-type {\n",
       "        vertical-align: middle;\n",
       "    }\n",
       "\n",
       "    .dataframe tbody tr th {\n",
       "        vertical-align: top;\n",
       "    }\n",
       "\n",
       "    .dataframe thead th {\n",
       "        text-align: right;\n",
       "    }\n",
       "</style>\n",
       "<table border=\"1\" class=\"dataframe\">\n",
       "  <thead>\n",
       "    <tr style=\"text-align: right;\">\n",
       "      <th></th>\n",
       "      <th>count</th>\n",
       "      <th>mean</th>\n",
       "      <th>std</th>\n",
       "      <th>min</th>\n",
       "      <th>25%</th>\n",
       "      <th>50%</th>\n",
       "      <th>75%</th>\n",
       "      <th>max</th>\n",
       "    </tr>\n",
       "  </thead>\n",
       "  <tbody>\n",
       "    <tr>\n",
       "      <th>75</th>\n",
       "      <td>902389.0</td>\n",
       "      <td>0.0</td>\n",
       "      <td>0.0</td>\n",
       "      <td>0.0</td>\n",
       "      <td>0.0</td>\n",
       "      <td>0.0</td>\n",
       "      <td>0.0</td>\n",
       "      <td>0.0</td>\n",
       "    </tr>\n",
       "    <tr>\n",
       "      <th>81</th>\n",
       "      <td>902389.0</td>\n",
       "      <td>0.0</td>\n",
       "      <td>0.0</td>\n",
       "      <td>0.0</td>\n",
       "      <td>0.0</td>\n",
       "      <td>0.0</td>\n",
       "      <td>0.0</td>\n",
       "      <td>0.0</td>\n",
       "    </tr>\n",
       "    <tr>\n",
       "      <th>85</th>\n",
       "      <td>902389.0</td>\n",
       "      <td>0.0</td>\n",
       "      <td>0.0</td>\n",
       "      <td>0.0</td>\n",
       "      <td>0.0</td>\n",
       "      <td>0.0</td>\n",
       "      <td>0.0</td>\n",
       "      <td>0.0</td>\n",
       "    </tr>\n",
       "    <tr>\n",
       "      <th>139</th>\n",
       "      <td>902389.0</td>\n",
       "      <td>0.0</td>\n",
       "      <td>0.0</td>\n",
       "      <td>0.0</td>\n",
       "      <td>0.0</td>\n",
       "      <td>0.0</td>\n",
       "      <td>0.0</td>\n",
       "      <td>0.0</td>\n",
       "    </tr>\n",
       "    <tr>\n",
       "      <th>203</th>\n",
       "      <td>902389.0</td>\n",
       "      <td>0.0</td>\n",
       "      <td>0.0</td>\n",
       "      <td>0.0</td>\n",
       "      <td>0.0</td>\n",
       "      <td>0.0</td>\n",
       "      <td>0.0</td>\n",
       "      <td>0.0</td>\n",
       "    </tr>\n",
       "  </tbody>\n",
       "</table>\n",
       "</div>"
      ],
      "text/plain": [
       "        count  mean  std  min  25%  50%  75%  max\n",
       "75   902389.0   0.0  0.0  0.0  0.0  0.0  0.0  0.0\n",
       "81   902389.0   0.0  0.0  0.0  0.0  0.0  0.0  0.0\n",
       "85   902389.0   0.0  0.0  0.0  0.0  0.0  0.0  0.0\n",
       "139  902389.0   0.0  0.0  0.0  0.0  0.0  0.0  0.0\n",
       "203  902389.0   0.0  0.0  0.0  0.0  0.0  0.0  0.0"
      ]
     },
     "execution_count": 14,
     "metadata": {},
     "output_type": "execute_result"
    }
   ],
   "source": [
    "df_pass = df_short.describe().T\n",
    "df_pass.loc[(df_pass['max']==0)&(df_pass['min']==0)]"
   ]
  },
  {
   "cell_type": "markdown",
   "metadata": {},
   "source": [
    "#### Избавимся от этих 5 нулевых признаков"
   ]
  },
  {
   "cell_type": "code",
   "execution_count": 15,
   "metadata": {},
   "outputs": [],
   "source": [
    "df_short.drop(['75', '81', '85', '139', '203'], axis=1, inplace=True)"
   ]
  },
  {
   "cell_type": "markdown",
   "metadata": {},
   "source": [
    "#### Преобразуем buy_time"
   ]
  },
  {
   "cell_type": "code",
   "execution_count": 16,
   "metadata": {},
   "outputs": [],
   "source": [
    "def buy_time_conversion(df):\n",
    "\n",
    "    df['buy_time'] = df['buy_time'].apply(lambda data: date.fromtimestamp(data))\n",
    "    \n",
    "    return df"
   ]
  },
  {
   "cell_type": "code",
   "execution_count": 17,
   "metadata": {},
   "outputs": [],
   "source": [
    "df_train = buy_time_conversion(df_train)\n",
    "df_test = buy_time_conversion(df_test)\n",
    "df_short = buy_time_conversion(df_short)"
   ]
  },
  {
   "cell_type": "markdown",
   "metadata": {},
   "source": [
    "### EDA"
   ]
  },
  {
   "cell_type": "markdown",
   "metadata": {},
   "source": [
    "#### Проверка на пропуски"
   ]
  },
  {
   "cell_type": "code",
   "execution_count": 18,
   "metadata": {},
   "outputs": [
    {
     "data": {
      "text/plain": [
       "False"
      ]
     },
     "execution_count": 18,
     "metadata": {},
     "output_type": "execute_result"
    }
   ],
   "source": [
    "df_train.isnull().values.any()"
   ]
  },
  {
   "cell_type": "code",
   "execution_count": 19,
   "metadata": {},
   "outputs": [
    {
     "data": {
      "text/plain": [
       "False"
      ]
     },
     "execution_count": 19,
     "metadata": {},
     "output_type": "execute_result"
    }
   ],
   "source": [
    "df_test.isnull().values.any()"
   ]
  },
  {
   "cell_type": "code",
   "execution_count": 20,
   "metadata": {},
   "outputs": [
    {
     "data": {
      "text/plain": [
       "False"
      ]
     },
     "execution_count": 20,
     "metadata": {},
     "output_type": "execute_result"
    }
   ],
   "source": [
    "df_short.isnull().values.any()"
   ]
  },
  {
   "cell_type": "markdown",
   "metadata": {},
   "source": [
    "Пропусков нет"
   ]
  },
  {
   "cell_type": "markdown",
   "metadata": {},
   "source": [
    "### Распределения"
   ]
  },
  {
   "cell_type": "code",
   "execution_count": 21,
   "metadata": {},
   "outputs": [
    {
     "data": {
      "text/plain": [
       "0.0    0.927631\n",
       "1.0    0.072369\n",
       "Name: target, dtype: float64"
      ]
     },
     "execution_count": 21,
     "metadata": {},
     "output_type": "execute_result"
    }
   ],
   "source": [
    "df_train['target'].value_counts(normalize=True)"
   ]
  },
  {
   "cell_type": "markdown",
   "metadata": {},
   "source": [
    "**Дисбаланс классов**"
   ]
  },
  {
   "cell_type": "code",
   "execution_count": null,
   "metadata": {},
   "outputs": [],
   "source": []
  },
  {
   "cell_type": "markdown",
   "metadata": {},
   "source": [
    "### Распределение признака vas_id"
   ]
  },
  {
   "cell_type": "code",
   "execution_count": 22,
   "metadata": {},
   "outputs": [
    {
     "data": {
      "image/png": "[encoded data removed]",
      "text/plain": [
       "<Figure size 864x576 with 4 Axes>"
      ]
     },
     "metadata": {
      "needs_background": "light"
     },
     "output_type": "display_data"
    }
   ],
   "source": [
    "df_train.hist(figsize=(12,8), bins=20, grid=False);"
   ]
  },
  {
   "cell_type": "code",
   "execution_count": 23,
   "metadata": {},
   "outputs": [
    {
     "data": {
      "text/plain": [
       "1.0    310175\n",
       "2.0    249505\n",
       "5.0     94085\n",
       "4.0     85756\n",
       "6.0     57878\n",
       "7.0     15432\n",
       "8.0     13350\n",
       "9.0      5472\n",
       "Name: vas_id, dtype: int64"
      ]
     },
     "execution_count": 23,
     "metadata": {},
     "output_type": "execute_result"
    }
   ],
   "source": [
    "df_train['vas_id'].value_counts()"
   ]
  },
  {
   "cell_type": "code",
   "execution_count": 24,
   "metadata": {},
   "outputs": [
    {
     "data": {
      "image/png": "[encoded data removed]",
      "text/plain": [
       "<Figure size 432x288 with 1 Axes>"
      ]
     },
     "metadata": {
      "needs_background": "light"
     },
     "output_type": "display_data"
    }
   ],
   "source": [
    "df_test['vas_id'].plot(kind='hist',bins=20);"
   ]
  },
  {
   "cell_type": "code",
   "execution_count": 25,
   "metadata": {},
   "outputs": [
    {
     "data": {
      "text/plain": [
       "2.0    31361\n",
       "5.0    13073\n",
       "6.0    12976\n",
       "1.0     8413\n",
       "4.0     3058\n",
       "7.0     1192\n",
       "8.0      619\n",
       "9.0      539\n",
       "Name: vas_id, dtype: int64"
      ]
     },
     "execution_count": 25,
     "metadata": {},
     "output_type": "execute_result"
    }
   ],
   "source": [
    "df_test['vas_id'].value_counts()"
   ]
  },
  {
   "cell_type": "markdown",
   "metadata": {},
   "source": [
    "#### Услуга под цифрой 3 отсутствует."
   ]
  },
  {
   "cell_type": "code",
   "execution_count": 26,
   "metadata": {},
   "outputs": [
    {
     "data": {
      "text/plain": [
       "(datetime.date(2018, 7, 9), datetime.date(2018, 12, 30))"
      ]
     },
     "execution_count": 26,
     "metadata": {},
     "output_type": "execute_result"
    }
   ],
   "source": [
    "df_train['buy_time'].min(),df_train['buy_time'].max()"
   ]
  },
  {
   "cell_type": "code",
   "execution_count": 27,
   "metadata": {},
   "outputs": [
    {
     "data": {
      "text/plain": [
       "(datetime.date(2019, 1, 6), datetime.date(2019, 1, 20))"
      ]
     },
     "execution_count": 27,
     "metadata": {},
     "output_type": "execute_result"
    }
   ],
   "source": [
    "df_test['buy_time'].min(),df_test['buy_time'].max()"
   ]
  },
  {
   "cell_type": "markdown",
   "metadata": {},
   "source": [
    "**train: 09.07.2018 - 31.12.2018**\n",
    "\n",
    "**test: 7.01.2019 - 21.01.2019**"
   ]
  },
  {
   "cell_type": "code",
   "execution_count": 28,
   "metadata": {},
   "outputs": [
    {
     "name": "stdout",
     "output_type": "stream",
     "text": [
      "Кол-во уникальных: 806613 Мин: 2 Макс: 4362694\n"
     ]
    }
   ],
   "source": [
    "print('Кол-во уникальных:', df_train['id'].nunique(), 'Мин:', np.min(df_train['id']), 'Макс:', np.max(df_train['id']))"
   ]
  },
  {
   "cell_type": "code",
   "execution_count": 29,
   "metadata": {},
   "outputs": [
    {
     "name": "stdout",
     "output_type": "stream",
     "text": [
      "Кол-во уникальных: 70152 Мин: 55 Макс: 4362720\n"
     ]
    }
   ],
   "source": [
    "print('Кол-во уникальных:', df_test['id'].nunique(), 'Мин:', np.min(df_test['id']), 'Макс:', np.max(df_test['id']))"
   ]
  },
  {
   "cell_type": "markdown",
   "metadata": {},
   "source": [
    "### Поиск дубликатов id"
   ]
  },
  {
   "cell_type": "code",
   "execution_count": 30,
   "metadata": {},
   "outputs": [
    {
     "data": {
      "text/plain": [
       "False    806613\n",
       "True      25040\n",
       "dtype: int64"
      ]
     },
     "execution_count": 30,
     "metadata": {},
     "output_type": "execute_result"
    }
   ],
   "source": [
    "df_train.duplicated(subset=['id']).value_counts()"
   ]
  },
  {
   "cell_type": "code",
   "execution_count": 31,
   "metadata": {},
   "outputs": [
    {
     "data": {
      "text/plain": [
       "False    70152\n",
       "True      1079\n",
       "dtype: int64"
      ]
     },
     "execution_count": 31,
     "metadata": {},
     "output_type": "execute_result"
    }
   ],
   "source": [
    "df_test.duplicated(subset=['id']).value_counts()"
   ]
  },
  {
   "cell_type": "code",
   "execution_count": 32,
   "metadata": {},
   "outputs": [
    {
     "data": {
      "text/plain": [
       "False    872577\n",
       "True      29812\n",
       "dtype: int64"
      ]
     },
     "execution_count": 32,
     "metadata": {},
     "output_type": "execute_result"
    }
   ],
   "source": [
    "df_short.duplicated(subset=['id']).value_counts()"
   ]
  },
  {
   "cell_type": "code",
   "execution_count": 33,
   "metadata": {},
   "outputs": [
    {
     "data": {
      "text/html": [
       "<div>\n",
       "<style scoped>\n",
       "    .dataframe tbody tr th:only-of-type {\n",
       "        vertical-align: middle;\n",
       "    }\n",
       "\n",
       "    .dataframe tbody tr th {\n",
       "        vertical-align: top;\n",
       "    }\n",
       "\n",
       "    .dataframe thead th {\n",
       "        text-align: right;\n",
       "    }\n",
       "</style>\n",
       "<table border=\"1\" class=\"dataframe\">\n",
       "  <thead>\n",
       "    <tr style=\"text-align: right;\">\n",
       "      <th></th>\n",
       "      <th>id</th>\n",
       "      <th>vas_id</th>\n",
       "      <th>buy_time</th>\n",
       "      <th>target</th>\n",
       "    </tr>\n",
       "  </thead>\n",
       "  <tbody>\n",
       "    <tr>\n",
       "      <th>14042</th>\n",
       "      <td>342</td>\n",
       "      <td>2.0</td>\n",
       "      <td>2018-11-18</td>\n",
       "      <td>1.0</td>\n",
       "    </tr>\n",
       "    <tr>\n",
       "      <th>14041</th>\n",
       "      <td>342</td>\n",
       "      <td>1.0</td>\n",
       "      <td>2018-11-04</td>\n",
       "      <td>0.0</td>\n",
       "    </tr>\n",
       "    <tr>\n",
       "      <th>19825</th>\n",
       "      <td>492</td>\n",
       "      <td>6.0</td>\n",
       "      <td>2018-12-16</td>\n",
       "      <td>1.0</td>\n",
       "    </tr>\n",
       "    <tr>\n",
       "      <th>19824</th>\n",
       "      <td>492</td>\n",
       "      <td>4.0</td>\n",
       "      <td>2018-10-08</td>\n",
       "      <td>0.0</td>\n",
       "    </tr>\n",
       "    <tr>\n",
       "      <th>22908</th>\n",
       "      <td>579</td>\n",
       "      <td>4.0</td>\n",
       "      <td>2018-11-18</td>\n",
       "      <td>1.0</td>\n",
       "    </tr>\n",
       "    <tr>\n",
       "      <th>...</th>\n",
       "      <td>...</td>\n",
       "      <td>...</td>\n",
       "      <td>...</td>\n",
       "      <td>...</td>\n",
       "    </tr>\n",
       "    <tr>\n",
       "      <th>751154</th>\n",
       "      <td>4339012</td>\n",
       "      <td>2.0</td>\n",
       "      <td>2018-11-18</td>\n",
       "      <td>1.0</td>\n",
       "    </tr>\n",
       "    <tr>\n",
       "      <th>248700</th>\n",
       "      <td>4347691</td>\n",
       "      <td>4.0</td>\n",
       "      <td>2018-11-25</td>\n",
       "      <td>0.0</td>\n",
       "    </tr>\n",
       "    <tr>\n",
       "      <th>248701</th>\n",
       "      <td>4347691</td>\n",
       "      <td>6.0</td>\n",
       "      <td>2018-11-18</td>\n",
       "      <td>1.0</td>\n",
       "    </tr>\n",
       "    <tr>\n",
       "      <th>366175</th>\n",
       "      <td>4350615</td>\n",
       "      <td>2.0</td>\n",
       "      <td>2018-12-09</td>\n",
       "      <td>1.0</td>\n",
       "    </tr>\n",
       "    <tr>\n",
       "      <th>366174</th>\n",
       "      <td>4350615</td>\n",
       "      <td>1.0</td>\n",
       "      <td>2018-07-23</td>\n",
       "      <td>0.0</td>\n",
       "    </tr>\n",
       "  </tbody>\n",
       "</table>\n",
       "<p>50042 rows × 4 columns</p>\n",
       "</div>"
      ],
      "text/plain": [
       "             id  vas_id    buy_time  target\n",
       "14042       342     2.0  2018-11-18     1.0\n",
       "14041       342     1.0  2018-11-04     0.0\n",
       "19825       492     6.0  2018-12-16     1.0\n",
       "19824       492     4.0  2018-10-08     0.0\n",
       "22908       579     4.0  2018-11-18     1.0\n",
       "...         ...     ...         ...     ...\n",
       "751154  4339012     2.0  2018-11-18     1.0\n",
       "248700  4347691     4.0  2018-11-25     0.0\n",
       "248701  4347691     6.0  2018-11-18     1.0\n",
       "366175  4350615     2.0  2018-12-09     1.0\n",
       "366174  4350615     1.0  2018-07-23     0.0\n",
       "\n",
       "[50042 rows x 4 columns]"
      ]
     },
     "execution_count": 33,
     "metadata": {},
     "output_type": "execute_result"
    }
   ],
   "source": [
    "ids = df_train[\"id\"]\n",
    "df_train[ids.isin(ids[ids.duplicated()])].sort_values('id')"
   ]
  },
  {
   "cell_type": "code",
   "execution_count": 34,
   "metadata": {},
   "outputs": [
    {
     "name": "stdout",
     "output_type": "stream",
     "text": [
      "ID уникален?  False\n",
      "Есть ли дубли в строках? 25040\n",
      "Сколько процент признаков могут принимать null-значениями? 0%\n"
     ]
    }
   ],
   "source": [
    "print(\"ID уникален? \", df_train['id'].is_unique)\n",
    "print(\"Есть ли дубли в строках?\", df_train['id'].duplicated().sum())\n",
    "print(\"Сколько процент признаков могут принимать null-значениями? %d%%\" % float((df_train['id'].isnull().sum() > 0).sum()/len(df_train['id'])*100))\n"
   ]
  },
  {
   "cell_type": "code",
   "execution_count": 35,
   "metadata": {},
   "outputs": [
    {
     "data": {
      "text/plain": [
       "3549398    2\n",
       "3353035    2\n",
       "2926704    2\n",
       "3221567    2\n",
       "1253215    2\n",
       "          ..\n",
       "2777413    1\n",
       "2781432    1\n",
       "2785623    1\n",
       "2599316    1\n",
       "3521152    1\n",
       "Name: id, Length: 872577, dtype: int64"
      ]
     },
     "execution_count": 35,
     "metadata": {},
     "output_type": "execute_result"
    }
   ],
   "source": [
    "df_short['id'].value_counts().sort_values(ascending=False)"
   ]
  },
  {
   "cell_type": "markdown",
   "metadata": {},
   "source": [
    "## Объединение merge_asof nearest"
   ]
  },
  {
   "cell_type": "code",
   "execution_count": 36,
   "metadata": {},
   "outputs": [],
   "source": [
    "df_train_merge = pd.merge_asof(df_train.sort_values(by=['id']), \n",
    "                       df_short.sort_values(by=['id']), \n",
    "                       on='id', \n",
    "                       by='buy_time', \n",
    "                       direction='nearest')"
   ]
  },
  {
   "cell_type": "code",
   "execution_count": 37,
   "metadata": {},
   "outputs": [],
   "source": [
    "df_test_merge = pd.merge_asof(df_test.sort_values(by=['id']), \n",
    "                       df_short.sort_values(by=['id']), \n",
    "                       on='id', \n",
    "                       by='buy_time', \n",
    "                       direction='nearest')"
   ]
  },
  {
   "cell_type": "code",
   "execution_count": 38,
   "metadata": {},
   "outputs": [],
   "source": [
    "def buy_time(df):\n",
    "    df_features = df.copy()\n",
    "    df_features['buy_time'] = \\\n",
    "            (pd.to_datetime(df_features['buy_time']) - pd.Timestamp('1970-01-01')) \\\n",
    "             // pd.Timedelta('1s')\n",
    "    return df_features"
   ]
  },
  {
   "cell_type": "code",
   "execution_count": 39,
   "metadata": {},
   "outputs": [
    {
     "data": {
      "text/html": [
       "<div>\n",
       "<style scoped>\n",
       "    .dataframe tbody tr th:only-of-type {\n",
       "        vertical-align: middle;\n",
       "    }\n",
       "\n",
       "    .dataframe tbody tr th {\n",
       "        vertical-align: top;\n",
       "    }\n",
       "\n",
       "    .dataframe thead th {\n",
       "        text-align: right;\n",
       "    }\n",
       "</style>\n",
       "<table border=\"1\" class=\"dataframe\">\n",
       "  <thead>\n",
       "    <tr style=\"text-align: right;\">\n",
       "      <th></th>\n",
       "      <th>id</th>\n",
       "      <th>vas_id</th>\n",
       "      <th>buy_time</th>\n",
       "      <th>target</th>\n",
       "      <th>0</th>\n",
       "      <th>1</th>\n",
       "      <th>2</th>\n",
       "      <th>3</th>\n",
       "      <th>4</th>\n",
       "      <th>5</th>\n",
       "      <th>...</th>\n",
       "      <th>243</th>\n",
       "      <th>244</th>\n",
       "      <th>245</th>\n",
       "      <th>246</th>\n",
       "      <th>247</th>\n",
       "      <th>248</th>\n",
       "      <th>249</th>\n",
       "      <th>250</th>\n",
       "      <th>251</th>\n",
       "      <th>252</th>\n",
       "    </tr>\n",
       "  </thead>\n",
       "  <tbody>\n",
       "    <tr>\n",
       "      <th>0</th>\n",
       "      <td>2</td>\n",
       "      <td>2.0</td>\n",
       "      <td>1545523200</td>\n",
       "      <td>0.0</td>\n",
       "      <td>-96.799971</td>\n",
       "      <td>229.530888</td>\n",
       "      <td>-110.740786</td>\n",
       "      <td>305.723202</td>\n",
       "      <td>-116.158246</td>\n",
       "      <td>284.61821</td>\n",
       "      <td>...</td>\n",
       "      <td>2300.626154</td>\n",
       "      <td>1492.229208</td>\n",
       "      <td>-21.996269</td>\n",
       "      <td>-35.630448</td>\n",
       "      <td>368.252276</td>\n",
       "      <td>11.167111</td>\n",
       "      <td>7.305572</td>\n",
       "      <td>-12.175933</td>\n",
       "      <td>-0.45614</td>\n",
       "      <td>0.0</td>\n",
       "    </tr>\n",
       "    <tr>\n",
       "      <th>1</th>\n",
       "      <td>4</td>\n",
       "      <td>1.0</td>\n",
       "      <td>1533513600</td>\n",
       "      <td>0.0</td>\n",
       "      <td>-42.559971</td>\n",
       "      <td>99.460888</td>\n",
       "      <td>-43.780786</td>\n",
       "      <td>72.293202</td>\n",
       "      <td>-49.198246</td>\n",
       "      <td>51.18821</td>\n",
       "      <td>...</td>\n",
       "      <td>-927.373846</td>\n",
       "      <td>-570.770792</td>\n",
       "      <td>-24.996269</td>\n",
       "      <td>-36.630448</td>\n",
       "      <td>-212.747724</td>\n",
       "      <td>-14.832889</td>\n",
       "      <td>-0.694428</td>\n",
       "      <td>-1.175933</td>\n",
       "      <td>-0.45614</td>\n",
       "      <td>1.0</td>\n",
       "    </tr>\n",
       "    <tr>\n",
       "      <th>2</th>\n",
       "      <td>15</td>\n",
       "      <td>1.0</td>\n",
       "      <td>1534118400</td>\n",
       "      <td>0.0</td>\n",
       "      <td>-96.799971</td>\n",
       "      <td>-336.159112</td>\n",
       "      <td>-110.740786</td>\n",
       "      <td>-329.456798</td>\n",
       "      <td>-116.158246</td>\n",
       "      <td>-350.56179</td>\n",
       "      <td>...</td>\n",
       "      <td>-977.373846</td>\n",
       "      <td>-613.770792</td>\n",
       "      <td>-25.996269</td>\n",
       "      <td>-37.630448</td>\n",
       "      <td>-306.747724</td>\n",
       "      <td>-25.832889</td>\n",
       "      <td>-0.694428</td>\n",
       "      <td>-12.175933</td>\n",
       "      <td>-0.45614</td>\n",
       "      <td>0.0</td>\n",
       "    </tr>\n",
       "    <tr>\n",
       "      <th>3</th>\n",
       "      <td>16</td>\n",
       "      <td>2.0</td>\n",
       "      <td>1540684800</td>\n",
       "      <td>0.0</td>\n",
       "      <td>155.310029</td>\n",
       "      <td>-92.509112</td>\n",
       "      <td>158.309214</td>\n",
       "      <td>-95.126798</td>\n",
       "      <td>152.891754</td>\n",
       "      <td>-116.23179</td>\n",
       "      <td>...</td>\n",
       "      <td>-977.373846</td>\n",
       "      <td>-613.770792</td>\n",
       "      <td>-25.996269</td>\n",
       "      <td>-37.630448</td>\n",
       "      <td>-291.747724</td>\n",
       "      <td>-25.832889</td>\n",
       "      <td>-0.694428</td>\n",
       "      <td>-12.175933</td>\n",
       "      <td>-0.45614</td>\n",
       "      <td>0.0</td>\n",
       "    </tr>\n",
       "    <tr>\n",
       "      <th>4</th>\n",
       "      <td>29</td>\n",
       "      <td>1.0</td>\n",
       "      <td>1533513600</td>\n",
       "      <td>0.0</td>\n",
       "      <td>-42.559971</td>\n",
       "      <td>99.460888</td>\n",
       "      <td>-43.780786</td>\n",
       "      <td>72.293202</td>\n",
       "      <td>-49.198246</td>\n",
       "      <td>51.18821</td>\n",
       "      <td>...</td>\n",
       "      <td>-927.373846</td>\n",
       "      <td>-570.770792</td>\n",
       "      <td>-24.996269</td>\n",
       "      <td>-36.630448</td>\n",
       "      <td>-212.747724</td>\n",
       "      <td>-14.832889</td>\n",
       "      <td>-0.694428</td>\n",
       "      <td>-1.175933</td>\n",
       "      <td>-0.45614</td>\n",
       "      <td>1.0</td>\n",
       "    </tr>\n",
       "    <tr>\n",
       "      <th>...</th>\n",
       "      <td>...</td>\n",
       "      <td>...</td>\n",
       "      <td>...</td>\n",
       "      <td>...</td>\n",
       "      <td>...</td>\n",
       "      <td>...</td>\n",
       "      <td>...</td>\n",
       "      <td>...</td>\n",
       "      <td>...</td>\n",
       "      <td>...</td>\n",
       "      <td>...</td>\n",
       "      <td>...</td>\n",
       "      <td>...</td>\n",
       "      <td>...</td>\n",
       "      <td>...</td>\n",
       "      <td>...</td>\n",
       "      <td>...</td>\n",
       "      <td>...</td>\n",
       "      <td>...</td>\n",
       "      <td>...</td>\n",
       "      <td>...</td>\n",
       "    </tr>\n",
       "    <tr>\n",
       "      <th>831648</th>\n",
       "      <td>4362634</td>\n",
       "      <td>1.0</td>\n",
       "      <td>1546128000</td>\n",
       "      <td>0.0</td>\n",
       "      <td>-93.749971</td>\n",
       "      <td>-66.149112</td>\n",
       "      <td>-105.190786</td>\n",
       "      <td>-107.776798</td>\n",
       "      <td>-110.608246</td>\n",
       "      <td>-128.88179</td>\n",
       "      <td>...</td>\n",
       "      <td>-974.373846</td>\n",
       "      <td>-610.770792</td>\n",
       "      <td>-25.996269</td>\n",
       "      <td>-37.630448</td>\n",
       "      <td>-306.747724</td>\n",
       "      <td>-25.832889</td>\n",
       "      <td>-0.694428</td>\n",
       "      <td>-12.175933</td>\n",
       "      <td>-0.45614</td>\n",
       "      <td>1.0</td>\n",
       "    </tr>\n",
       "    <tr>\n",
       "      <th>831649</th>\n",
       "      <td>4362640</td>\n",
       "      <td>2.0</td>\n",
       "      <td>1546128000</td>\n",
       "      <td>0.0</td>\n",
       "      <td>-93.749971</td>\n",
       "      <td>-66.149112</td>\n",
       "      <td>-105.190786</td>\n",
       "      <td>-107.776798</td>\n",
       "      <td>-110.608246</td>\n",
       "      <td>-128.88179</td>\n",
       "      <td>...</td>\n",
       "      <td>-974.373846</td>\n",
       "      <td>-610.770792</td>\n",
       "      <td>-25.996269</td>\n",
       "      <td>-37.630448</td>\n",
       "      <td>-306.747724</td>\n",
       "      <td>-25.832889</td>\n",
       "      <td>-0.694428</td>\n",
       "      <td>-12.175933</td>\n",
       "      <td>-0.45614</td>\n",
       "      <td>1.0</td>\n",
       "    </tr>\n",
       "    <tr>\n",
       "      <th>831650</th>\n",
       "      <td>4362647</td>\n",
       "      <td>6.0</td>\n",
       "      <td>1546128000</td>\n",
       "      <td>0.0</td>\n",
       "      <td>-93.749971</td>\n",
       "      <td>-66.149112</td>\n",
       "      <td>-105.190786</td>\n",
       "      <td>-107.776798</td>\n",
       "      <td>-110.608246</td>\n",
       "      <td>-128.88179</td>\n",
       "      <td>...</td>\n",
       "      <td>-974.373846</td>\n",
       "      <td>-610.770792</td>\n",
       "      <td>-25.996269</td>\n",
       "      <td>-37.630448</td>\n",
       "      <td>-306.747724</td>\n",
       "      <td>-25.832889</td>\n",
       "      <td>-0.694428</td>\n",
       "      <td>-12.175933</td>\n",
       "      <td>-0.45614</td>\n",
       "      <td>1.0</td>\n",
       "    </tr>\n",
       "    <tr>\n",
       "      <th>831651</th>\n",
       "      <td>4362684</td>\n",
       "      <td>5.0</td>\n",
       "      <td>1545523200</td>\n",
       "      <td>0.0</td>\n",
       "      <td>-34.169971</td>\n",
       "      <td>43.280888</td>\n",
       "      <td>-36.250786</td>\n",
       "      <td>15.233202</td>\n",
       "      <td>-41.668246</td>\n",
       "      <td>-5.87179</td>\n",
       "      <td>...</td>\n",
       "      <td>-365.373846</td>\n",
       "      <td>-29.770792</td>\n",
       "      <td>-23.996269</td>\n",
       "      <td>-37.630448</td>\n",
       "      <td>2719.252276</td>\n",
       "      <td>-20.832889</td>\n",
       "      <td>-0.694428</td>\n",
       "      <td>-12.175933</td>\n",
       "      <td>-0.45614</td>\n",
       "      <td>0.0</td>\n",
       "    </tr>\n",
       "    <tr>\n",
       "      <th>831652</th>\n",
       "      <td>4362694</td>\n",
       "      <td>2.0</td>\n",
       "      <td>1546128000</td>\n",
       "      <td>0.0</td>\n",
       "      <td>-90.699971</td>\n",
       "      <td>-262.139112</td>\n",
       "      <td>-104.640786</td>\n",
       "      <td>-261.796798</td>\n",
       "      <td>-110.058246</td>\n",
       "      <td>-282.90179</td>\n",
       "      <td>...</td>\n",
       "      <td>-964.373846</td>\n",
       "      <td>-611.770792</td>\n",
       "      <td>-21.996269</td>\n",
       "      <td>-37.630448</td>\n",
       "      <td>-63.747724</td>\n",
       "      <td>31.167111</td>\n",
       "      <td>-0.694428</td>\n",
       "      <td>-12.175933</td>\n",
       "      <td>-0.45614</td>\n",
       "      <td>1.0</td>\n",
       "    </tr>\n",
       "  </tbody>\n",
       "</table>\n",
       "<p>831653 rows × 252 columns</p>\n",
       "</div>"
      ],
      "text/plain": [
       "             id  vas_id    buy_time  target           0           1  \\\n",
       "0             2     2.0  1545523200     0.0  -96.799971  229.530888   \n",
       "1             4     1.0  1533513600     0.0  -42.559971   99.460888   \n",
       "2            15     1.0  1534118400     0.0  -96.799971 -336.159112   \n",
       "3            16     2.0  1540684800     0.0  155.310029  -92.509112   \n",
       "4            29     1.0  1533513600     0.0  -42.559971   99.460888   \n",
       "...         ...     ...         ...     ...         ...         ...   \n",
       "831648  4362634     1.0  1546128000     0.0  -93.749971  -66.149112   \n",
       "831649  4362640     2.0  1546128000     0.0  -93.749971  -66.149112   \n",
       "831650  4362647     6.0  1546128000     0.0  -93.749971  -66.149112   \n",
       "831651  4362684     5.0  1545523200     0.0  -34.169971   43.280888   \n",
       "831652  4362694     2.0  1546128000     0.0  -90.699971 -262.139112   \n",
       "\n",
       "                 2           3           4          5  ...          243  \\\n",
       "0      -110.740786  305.723202 -116.158246  284.61821  ...  2300.626154   \n",
       "1       -43.780786   72.293202  -49.198246   51.18821  ...  -927.373846   \n",
       "2      -110.740786 -329.456798 -116.158246 -350.56179  ...  -977.373846   \n",
       "3       158.309214  -95.126798  152.891754 -116.23179  ...  -977.373846   \n",
       "4       -43.780786   72.293202  -49.198246   51.18821  ...  -927.373846   \n",
       "...            ...         ...         ...        ...  ...          ...   \n",
       "831648 -105.190786 -107.776798 -110.608246 -128.88179  ...  -974.373846   \n",
       "831649 -105.190786 -107.776798 -110.608246 -128.88179  ...  -974.373846   \n",
       "831650 -105.190786 -107.776798 -110.608246 -128.88179  ...  -974.373846   \n",
       "831651  -36.250786   15.233202  -41.668246   -5.87179  ...  -365.373846   \n",
       "831652 -104.640786 -261.796798 -110.058246 -282.90179  ...  -964.373846   \n",
       "\n",
       "                244        245        246          247        248       249  \\\n",
       "0       1492.229208 -21.996269 -35.630448   368.252276  11.167111  7.305572   \n",
       "1       -570.770792 -24.996269 -36.630448  -212.747724 -14.832889 -0.694428   \n",
       "2       -613.770792 -25.996269 -37.630448  -306.747724 -25.832889 -0.694428   \n",
       "3       -613.770792 -25.996269 -37.630448  -291.747724 -25.832889 -0.694428   \n",
       "4       -570.770792 -24.996269 -36.630448  -212.747724 -14.832889 -0.694428   \n",
       "...             ...        ...        ...          ...        ...       ...   \n",
       "831648  -610.770792 -25.996269 -37.630448  -306.747724 -25.832889 -0.694428   \n",
       "831649  -610.770792 -25.996269 -37.630448  -306.747724 -25.832889 -0.694428   \n",
       "831650  -610.770792 -25.996269 -37.630448  -306.747724 -25.832889 -0.694428   \n",
       "831651   -29.770792 -23.996269 -37.630448  2719.252276 -20.832889 -0.694428   \n",
       "831652  -611.770792 -21.996269 -37.630448   -63.747724  31.167111 -0.694428   \n",
       "\n",
       "              250      251  252  \n",
       "0      -12.175933 -0.45614  0.0  \n",
       "1       -1.175933 -0.45614  1.0  \n",
       "2      -12.175933 -0.45614  0.0  \n",
       "3      -12.175933 -0.45614  0.0  \n",
       "4       -1.175933 -0.45614  1.0  \n",
       "...           ...      ...  ...  \n",
       "831648 -12.175933 -0.45614  1.0  \n",
       "831649 -12.175933 -0.45614  1.0  \n",
       "831650 -12.175933 -0.45614  1.0  \n",
       "831651 -12.175933 -0.45614  0.0  \n",
       "831652 -12.175933 -0.45614  1.0  \n",
       "\n",
       "[831653 rows x 252 columns]"
      ]
     },
     "execution_count": 39,
     "metadata": {},
     "output_type": "execute_result"
    }
   ],
   "source": [
    "df_train_merge=buy_time(df_train_merge)\n",
    "df_train_merge"
   ]
  },
  {
   "cell_type": "code",
   "execution_count": 40,
   "metadata": {},
   "outputs": [
    {
     "data": {
      "text/html": [
       "<div>\n",
       "<style scoped>\n",
       "    .dataframe tbody tr th:only-of-type {\n",
       "        vertical-align: middle;\n",
       "    }\n",
       "\n",
       "    .dataframe tbody tr th {\n",
       "        vertical-align: top;\n",
       "    }\n",
       "\n",
       "    .dataframe thead th {\n",
       "        text-align: right;\n",
       "    }\n",
       "</style>\n",
       "<table border=\"1\" class=\"dataframe\">\n",
       "  <thead>\n",
       "    <tr style=\"text-align: right;\">\n",
       "      <th></th>\n",
       "      <th>id</th>\n",
       "      <th>vas_id</th>\n",
       "      <th>buy_time</th>\n",
       "      <th>0</th>\n",
       "      <th>1</th>\n",
       "      <th>2</th>\n",
       "      <th>3</th>\n",
       "      <th>4</th>\n",
       "      <th>5</th>\n",
       "      <th>6</th>\n",
       "      <th>...</th>\n",
       "      <th>243</th>\n",
       "      <th>244</th>\n",
       "      <th>245</th>\n",
       "      <th>246</th>\n",
       "      <th>247</th>\n",
       "      <th>248</th>\n",
       "      <th>249</th>\n",
       "      <th>250</th>\n",
       "      <th>251</th>\n",
       "      <th>252</th>\n",
       "    </tr>\n",
       "  </thead>\n",
       "  <tbody>\n",
       "    <tr>\n",
       "      <th>0</th>\n",
       "      <td>55</td>\n",
       "      <td>2.0</td>\n",
       "      <td>1547337600</td>\n",
       "      <td>-65.299971</td>\n",
       "      <td>71.210888</td>\n",
       "      <td>-75.070786</td>\n",
       "      <td>35.273202</td>\n",
       "      <td>-80.488246</td>\n",
       "      <td>14.16821</td>\n",
       "      <td>-16.08618</td>\n",
       "      <td>...</td>\n",
       "      <td>-551.373846</td>\n",
       "      <td>-209.770792</td>\n",
       "      <td>-24.996269</td>\n",
       "      <td>-37.630448</td>\n",
       "      <td>-133.747724</td>\n",
       "      <td>-20.832889</td>\n",
       "      <td>-0.694428</td>\n",
       "      <td>-12.175933</td>\n",
       "      <td>-0.45614</td>\n",
       "      <td>1.0</td>\n",
       "    </tr>\n",
       "    <tr>\n",
       "      <th>1</th>\n",
       "      <td>64</td>\n",
       "      <td>4.0</td>\n",
       "      <td>1547942400</td>\n",
       "      <td>152.050029</td>\n",
       "      <td>257.220888</td>\n",
       "      <td>195.609214</td>\n",
       "      <td>267.113202</td>\n",
       "      <td>190.191754</td>\n",
       "      <td>246.00821</td>\n",
       "      <td>-16.08618</td>\n",
       "      <td>...</td>\n",
       "      <td>3185.626154</td>\n",
       "      <td>-613.770792</td>\n",
       "      <td>-21.996269</td>\n",
       "      <td>-37.630448</td>\n",
       "      <td>-139.747724</td>\n",
       "      <td>-24.832889</td>\n",
       "      <td>-0.694428</td>\n",
       "      <td>-12.175933</td>\n",
       "      <td>-0.45614</td>\n",
       "      <td>0.0</td>\n",
       "    </tr>\n",
       "    <tr>\n",
       "      <th>2</th>\n",
       "      <td>151</td>\n",
       "      <td>2.0</td>\n",
       "      <td>1547337600</td>\n",
       "      <td>-65.299971</td>\n",
       "      <td>71.210888</td>\n",
       "      <td>-75.070786</td>\n",
       "      <td>35.273202</td>\n",
       "      <td>-80.488246</td>\n",
       "      <td>14.16821</td>\n",
       "      <td>-16.08618</td>\n",
       "      <td>...</td>\n",
       "      <td>-551.373846</td>\n",
       "      <td>-209.770792</td>\n",
       "      <td>-24.996269</td>\n",
       "      <td>-37.630448</td>\n",
       "      <td>-133.747724</td>\n",
       "      <td>-20.832889</td>\n",
       "      <td>-0.694428</td>\n",
       "      <td>-12.175933</td>\n",
       "      <td>-0.45614</td>\n",
       "      <td>1.0</td>\n",
       "    </tr>\n",
       "    <tr>\n",
       "      <th>3</th>\n",
       "      <td>274</td>\n",
       "      <td>4.0</td>\n",
       "      <td>1547942400</td>\n",
       "      <td>152.050029</td>\n",
       "      <td>257.220888</td>\n",
       "      <td>195.609214</td>\n",
       "      <td>267.113202</td>\n",
       "      <td>190.191754</td>\n",
       "      <td>246.00821</td>\n",
       "      <td>-16.08618</td>\n",
       "      <td>...</td>\n",
       "      <td>3185.626154</td>\n",
       "      <td>-613.770792</td>\n",
       "      <td>-21.996269</td>\n",
       "      <td>-37.630448</td>\n",
       "      <td>-139.747724</td>\n",
       "      <td>-24.832889</td>\n",
       "      <td>-0.694428</td>\n",
       "      <td>-12.175933</td>\n",
       "      <td>-0.45614</td>\n",
       "      <td>0.0</td>\n",
       "    </tr>\n",
       "    <tr>\n",
       "      <th>4</th>\n",
       "      <td>274</td>\n",
       "      <td>2.0</td>\n",
       "      <td>1547337600</td>\n",
       "      <td>-65.299971</td>\n",
       "      <td>71.210888</td>\n",
       "      <td>-75.070786</td>\n",
       "      <td>35.273202</td>\n",
       "      <td>-80.488246</td>\n",
       "      <td>14.16821</td>\n",
       "      <td>-16.08618</td>\n",
       "      <td>...</td>\n",
       "      <td>-551.373846</td>\n",
       "      <td>-209.770792</td>\n",
       "      <td>-24.996269</td>\n",
       "      <td>-37.630448</td>\n",
       "      <td>-133.747724</td>\n",
       "      <td>-20.832889</td>\n",
       "      <td>-0.694428</td>\n",
       "      <td>-12.175933</td>\n",
       "      <td>-0.45614</td>\n",
       "      <td>1.0</td>\n",
       "    </tr>\n",
       "    <tr>\n",
       "      <th>...</th>\n",
       "      <td>...</td>\n",
       "      <td>...</td>\n",
       "      <td>...</td>\n",
       "      <td>...</td>\n",
       "      <td>...</td>\n",
       "      <td>...</td>\n",
       "      <td>...</td>\n",
       "      <td>...</td>\n",
       "      <td>...</td>\n",
       "      <td>...</td>\n",
       "      <td>...</td>\n",
       "      <td>...</td>\n",
       "      <td>...</td>\n",
       "      <td>...</td>\n",
       "      <td>...</td>\n",
       "      <td>...</td>\n",
       "      <td>...</td>\n",
       "      <td>...</td>\n",
       "      <td>...</td>\n",
       "      <td>...</td>\n",
       "      <td>...</td>\n",
       "    </tr>\n",
       "    <tr>\n",
       "      <th>71226</th>\n",
       "      <td>4362676</td>\n",
       "      <td>2.0</td>\n",
       "      <td>1547942400</td>\n",
       "      <td>-96.799971</td>\n",
       "      <td>177.650888</td>\n",
       "      <td>-110.740786</td>\n",
       "      <td>140.043202</td>\n",
       "      <td>-116.158246</td>\n",
       "      <td>118.93821</td>\n",
       "      <td>-16.08618</td>\n",
       "      <td>...</td>\n",
       "      <td>-968.373846</td>\n",
       "      <td>-611.770792</td>\n",
       "      <td>-11.996269</td>\n",
       "      <td>-31.630448</td>\n",
       "      <td>-162.747724</td>\n",
       "      <td>-24.832889</td>\n",
       "      <td>0.305572</td>\n",
       "      <td>-12.175933</td>\n",
       "      <td>-0.45614</td>\n",
       "      <td>1.0</td>\n",
       "    </tr>\n",
       "    <tr>\n",
       "      <th>71227</th>\n",
       "      <td>4362677</td>\n",
       "      <td>2.0</td>\n",
       "      <td>1547337600</td>\n",
       "      <td>18.620029</td>\n",
       "      <td>-84.169112</td>\n",
       "      <td>18.159214</td>\n",
       "      <td>-82.216798</td>\n",
       "      <td>12.741754</td>\n",
       "      <td>-103.32179</td>\n",
       "      <td>-16.08618</td>\n",
       "      <td>...</td>\n",
       "      <td>-977.373846</td>\n",
       "      <td>-613.770792</td>\n",
       "      <td>-25.996269</td>\n",
       "      <td>-37.630448</td>\n",
       "      <td>-306.747724</td>\n",
       "      <td>-25.832889</td>\n",
       "      <td>-0.694428</td>\n",
       "      <td>-12.175933</td>\n",
       "      <td>-0.45614</td>\n",
       "      <td>0.0</td>\n",
       "    </tr>\n",
       "    <tr>\n",
       "      <th>71228</th>\n",
       "      <td>4362697</td>\n",
       "      <td>5.0</td>\n",
       "      <td>1546732800</td>\n",
       "      <td>-56.299971</td>\n",
       "      <td>-54.149112</td>\n",
       "      <td>-66.070786</td>\n",
       "      <td>-102.586798</td>\n",
       "      <td>-71.488246</td>\n",
       "      <td>-123.69179</td>\n",
       "      <td>-16.08618</td>\n",
       "      <td>...</td>\n",
       "      <td>-887.373846</td>\n",
       "      <td>-607.770792</td>\n",
       "      <td>-25.996269</td>\n",
       "      <td>-35.630448</td>\n",
       "      <td>-239.747724</td>\n",
       "      <td>-25.832889</td>\n",
       "      <td>-0.694428</td>\n",
       "      <td>-12.175933</td>\n",
       "      <td>-0.45614</td>\n",
       "      <td>0.0</td>\n",
       "    </tr>\n",
       "    <tr>\n",
       "      <th>71229</th>\n",
       "      <td>4362712</td>\n",
       "      <td>5.0</td>\n",
       "      <td>1547337600</td>\n",
       "      <td>18.620029</td>\n",
       "      <td>-84.169112</td>\n",
       "      <td>18.159214</td>\n",
       "      <td>-82.216798</td>\n",
       "      <td>12.741754</td>\n",
       "      <td>-103.32179</td>\n",
       "      <td>-16.08618</td>\n",
       "      <td>...</td>\n",
       "      <td>-977.373846</td>\n",
       "      <td>-613.770792</td>\n",
       "      <td>-25.996269</td>\n",
       "      <td>-37.630448</td>\n",
       "      <td>-306.747724</td>\n",
       "      <td>-25.832889</td>\n",
       "      <td>-0.694428</td>\n",
       "      <td>-12.175933</td>\n",
       "      <td>-0.45614</td>\n",
       "      <td>0.0</td>\n",
       "    </tr>\n",
       "    <tr>\n",
       "      <th>71230</th>\n",
       "      <td>4362720</td>\n",
       "      <td>2.0</td>\n",
       "      <td>1546732800</td>\n",
       "      <td>-56.299971</td>\n",
       "      <td>-54.149112</td>\n",
       "      <td>-66.070786</td>\n",
       "      <td>-102.586798</td>\n",
       "      <td>-71.488246</td>\n",
       "      <td>-123.69179</td>\n",
       "      <td>-16.08618</td>\n",
       "      <td>...</td>\n",
       "      <td>-887.373846</td>\n",
       "      <td>-607.770792</td>\n",
       "      <td>-25.996269</td>\n",
       "      <td>-35.630448</td>\n",
       "      <td>-239.747724</td>\n",
       "      <td>-25.832889</td>\n",
       "      <td>-0.694428</td>\n",
       "      <td>-12.175933</td>\n",
       "      <td>-0.45614</td>\n",
       "      <td>0.0</td>\n",
       "    </tr>\n",
       "  </tbody>\n",
       "</table>\n",
       "<p>71231 rows × 251 columns</p>\n",
       "</div>"
      ],
      "text/plain": [
       "            id  vas_id    buy_time           0           1           2  \\\n",
       "0           55     2.0  1547337600  -65.299971   71.210888  -75.070786   \n",
       "1           64     4.0  1547942400  152.050029  257.220888  195.609214   \n",
       "2          151     2.0  1547337600  -65.299971   71.210888  -75.070786   \n",
       "3          274     4.0  1547942400  152.050029  257.220888  195.609214   \n",
       "4          274     2.0  1547337600  -65.299971   71.210888  -75.070786   \n",
       "...        ...     ...         ...         ...         ...         ...   \n",
       "71226  4362676     2.0  1547942400  -96.799971  177.650888 -110.740786   \n",
       "71227  4362677     2.0  1547337600   18.620029  -84.169112   18.159214   \n",
       "71228  4362697     5.0  1546732800  -56.299971  -54.149112  -66.070786   \n",
       "71229  4362712     5.0  1547337600   18.620029  -84.169112   18.159214   \n",
       "71230  4362720     2.0  1546732800  -56.299971  -54.149112  -66.070786   \n",
       "\n",
       "                3           4          5         6  ...          243  \\\n",
       "0       35.273202  -80.488246   14.16821 -16.08618  ...  -551.373846   \n",
       "1      267.113202  190.191754  246.00821 -16.08618  ...  3185.626154   \n",
       "2       35.273202  -80.488246   14.16821 -16.08618  ...  -551.373846   \n",
       "3      267.113202  190.191754  246.00821 -16.08618  ...  3185.626154   \n",
       "4       35.273202  -80.488246   14.16821 -16.08618  ...  -551.373846   \n",
       "...           ...         ...        ...       ...  ...          ...   \n",
       "71226  140.043202 -116.158246  118.93821 -16.08618  ...  -968.373846   \n",
       "71227  -82.216798   12.741754 -103.32179 -16.08618  ...  -977.373846   \n",
       "71228 -102.586798  -71.488246 -123.69179 -16.08618  ...  -887.373846   \n",
       "71229  -82.216798   12.741754 -103.32179 -16.08618  ...  -977.373846   \n",
       "71230 -102.586798  -71.488246 -123.69179 -16.08618  ...  -887.373846   \n",
       "\n",
       "              244        245        246         247        248       249  \\\n",
       "0     -209.770792 -24.996269 -37.630448 -133.747724 -20.832889 -0.694428   \n",
       "1     -613.770792 -21.996269 -37.630448 -139.747724 -24.832889 -0.694428   \n",
       "2     -209.770792 -24.996269 -37.630448 -133.747724 -20.832889 -0.694428   \n",
       "3     -613.770792 -21.996269 -37.630448 -139.747724 -24.832889 -0.694428   \n",
       "4     -209.770792 -24.996269 -37.630448 -133.747724 -20.832889 -0.694428   \n",
       "...           ...        ...        ...         ...        ...       ...   \n",
       "71226 -611.770792 -11.996269 -31.630448 -162.747724 -24.832889  0.305572   \n",
       "71227 -613.770792 -25.996269 -37.630448 -306.747724 -25.832889 -0.694428   \n",
       "71228 -607.770792 -25.996269 -35.630448 -239.747724 -25.832889 -0.694428   \n",
       "71229 -613.770792 -25.996269 -37.630448 -306.747724 -25.832889 -0.694428   \n",
       "71230 -607.770792 -25.996269 -35.630448 -239.747724 -25.832889 -0.694428   \n",
       "\n",
       "             250      251  252  \n",
       "0     -12.175933 -0.45614  1.0  \n",
       "1     -12.175933 -0.45614  0.0  \n",
       "2     -12.175933 -0.45614  1.0  \n",
       "3     -12.175933 -0.45614  0.0  \n",
       "4     -12.175933 -0.45614  1.0  \n",
       "...          ...      ...  ...  \n",
       "71226 -12.175933 -0.45614  1.0  \n",
       "71227 -12.175933 -0.45614  0.0  \n",
       "71228 -12.175933 -0.45614  0.0  \n",
       "71229 -12.175933 -0.45614  0.0  \n",
       "71230 -12.175933 -0.45614  0.0  \n",
       "\n",
       "[71231 rows x 251 columns]"
      ]
     },
     "execution_count": 40,
     "metadata": {},
     "output_type": "execute_result"
    }
   ],
   "source": [
    "df_test_merge=buy_time(df_test_merge)\n",
    "df_test_merge"
   ]
  },
  {
   "cell_type": "markdown",
   "metadata": {},
   "source": [
    "### Сохраним"
   ]
  },
  {
   "cell_type": "code",
   "execution_count": 41,
   "metadata": {},
   "outputs": [],
   "source": [
    "# df_test_merge.to_csv(TEST_MERGE, index=False, encoding='utf-8')\n",
    "# df_train_merge.to_csv(TRAIN_MERGE, index=False, encoding='utf-8')"
   ]
  },
  {
   "cell_type": "code",
   "execution_count": 42,
   "metadata": {},
   "outputs": [],
   "source": [
    "df_train_merge = pd.read_csv(TRAIN_MERGE, encoding='utf-8')"
   ]
  },
  {
   "cell_type": "markdown",
   "metadata": {},
   "source": [
    "## Split into train and test"
   ]
  },
  {
   "cell_type": "code",
   "execution_count": 43,
   "metadata": {},
   "outputs": [
    {
     "data": {
      "text/plain": [
       "0.0    0.927631\n",
       "1.0    0.072369\n",
       "Name: target, dtype: float64"
      ]
     },
     "metadata": {},
     "output_type": "display_data"
    },
    {
     "data": {
      "text/plain": [
       "0.0    0.92763\n",
       "1.0    0.07237\n",
       "Name: target, dtype: float64"
      ]
     },
     "metadata": {},
     "output_type": "display_data"
    }
   ],
   "source": [
    "X = df_train_merge.drop(['target'], axis=1)\n",
    "y = df_train_merge['target']\n",
    "\n",
    "X_train, X_test, y_train, y_test = train_test_split(X, y, \n",
    "                                                    shuffle=True,\n",
    "                                                    test_size=0.3,\n",
    "                                                    random_state=21,\n",
    "                                                    stratify=y)\n",
    "\n",
    "display(y_train.value_counts(normalize=True), y_test.value_counts(normalize=True))"
   ]
  },
  {
   "cell_type": "code",
   "execution_count": 44,
   "metadata": {},
   "outputs": [],
   "source": [
    "FEATURE_NAMES = X.columns.to_list()"
   ]
  },
  {
   "cell_type": "markdown",
   "metadata": {},
   "source": [
    "### Масштабрование данных<a class=\"anchor\" id=\"scaler\"></a>"
   ]
  },
  {
   "cell_type": "code",
   "execution_count": 45,
   "metadata": {},
   "outputs": [
    {
     "data": {
      "text/plain": [
       "18882"
      ]
     },
     "execution_count": 45,
     "metadata": {},
     "output_type": "execute_result"
    }
   ],
   "source": [
    "#Удалим ненужные файлы\n",
    "del df_train\n",
    "del df_test\n",
    "del df_train_merge\n",
    "del df_pass\n",
    "del df_short\n",
    "del df_test_merge\n",
    "gc.collect()  "
   ]
  },
  {
   "cell_type": "code",
   "execution_count": 46,
   "metadata": {},
   "outputs": [],
   "source": [
    "scaler = StandardScaler()\n",
    "\n",
    "X_train_norm = X_train.copy()\n",
    "X_test_norm = X_test.copy()\n",
    "\n",
    "X_train[FEATURE_NAMES] = scaler.fit_transform(X_train_norm)\n",
    "X_test[FEATURE_NAMES] = scaler.transform(X_test_norm)"
   ]
  },
  {
   "cell_type": "markdown",
   "metadata": {},
   "source": [
    "### Сохранение обучающего и тестового датасетов<a class=\"anchor\" id=\"train_test_saving\"></a> "
   ]
  },
  {
   "cell_type": "code",
   "execution_count": 47,
   "metadata": {},
   "outputs": [],
   "source": [
    "# train = pd.concat([X_train, y_train], axis=1)\n",
    "# test = pd.concat([X_test, y_test], axis=1)"
   ]
  },
  {
   "cell_type": "code",
   "execution_count": 48,
   "metadata": {},
   "outputs": [],
   "source": [
    "# train.to_csv(TRAIN_PART_PATH, index=False, encoding='utf-8')\n",
    "# test.to_csv(TEST_PART_PATH, index=False, encoding='utf-8')"
   ]
  },
  {
   "cell_type": "markdown",
   "metadata": {},
   "source": [
    "### Построим Baseline c балансировкой целевой переменной<a class=\"anchor\" id=\"target_balancing\"></a>"
   ]
  },
  {
   "cell_type": "code",
   "execution_count": 49,
   "metadata": {},
   "outputs": [],
   "source": [
    "def balance_df_by_target(df, target_name, method='over'):\n",
    "\n",
    "    assert method in ['over', 'under', 'tomek', 'smote'], 'Неверный метод сэмплирования'\n",
    "    \n",
    "    target_counts = df[target_name].value_counts()\n",
    "\n",
    "    major_class_name = target_counts.argmax()\n",
    "    minor_class_name = target_counts.argmin()\n",
    "\n",
    "    disbalance_coeff = int(target_counts[major_class_name] / target_counts[minor_class_name]) - 1\n",
    "    if method == 'over':\n",
    "        for i in range(disbalance_coeff):\n",
    "            sample = df[df[target_name] == minor_class_name].sample(target_counts[minor_class_name])\n",
    "            df = df.append(sample, ignore_index=True)\n",
    "            \n",
    "    elif method == 'under':\n",
    "        df_ = df.copy()\n",
    "        df = df_[df_[target_name] == minor_class_name]\n",
    "        tmp = df_[df_[target_name] == major_class_name]\n",
    "        df = df.append(tmp.iloc[\n",
    "            np.random.randint(0, tmp.shape[0], target_counts[minor_class_name])\n",
    "        ], ignore_index=True)\n",
    "\n",
    "    elif method == 'tomek':\n",
    "        from imblearn.under_sampling import TomekLinks\n",
    "        tl = TomekLinks()\n",
    "        X_tomek, y_tomek = tl.fit_resample(df.drop(columns=target_name), df[target_name])\n",
    "        df = pd.concat([X_tomek, y_tomek], axis=1)\n",
    "    \n",
    "    elif method == 'smote':\n",
    "        from imblearn.over_sampling import SMOTE\n",
    "        smote = SMOTE()\n",
    "        X_smote, y_smote = smote.fit_resample(df.drop(columns=target_name), df[target_name])\n",
    "        df = pd.concat([X_smote, y_smote], axis=1)\n",
    "\n",
    "    return df.sample(frac=1) "
   ]
  },
  {
   "cell_type": "code",
   "execution_count": 50,
   "metadata": {},
   "outputs": [
    {
     "name": "stdout",
     "output_type": "stream",
     "text": [
      "def balance_df_by_target(df, target_name, method='over'):\n",
      "\n",
      "    assert method in ['over', 'under', 'tomek', 'smote'], 'Неверный метод сэмплирования'\n",
      "    \n",
      "    target_counts = df[target_name].value_counts()\n",
      "\n",
      "    major_class_name = target_counts.argmax()\n",
      "    minor_class_name = target_counts.argmin()\n",
      "\n",
      "    disbalance_coeff = int(target_counts[major_class_name] / target_counts[minor_class_name]) - 1\n",
      "    if method == 'over':\n",
      "        for i in range(disbalance_coeff):\n",
      "            sample = df[df[target_name] == minor_class_name].sample(target_counts[minor_class_name])\n",
      "            df = df.append(sample, ignore_index=True)\n",
      "            \n",
      "    elif method == 'under':\n",
      "        df_ = df.copy()\n",
      "        df = df_[df_[target_name] == minor_class_name]\n",
      "        tmp = df_[df_[target_name] == major_class_name]\n",
      "        df = df.append(tmp.iloc[\n",
      "            np.random.randint(0, tmp.shape[0], target_counts[minor_class_name])\n",
      "        ], ignore_index=True)\n",
      "\n",
      "    elif method == 'tomek':\n",
      "        from imblearn.under_sampling import TomekLinks\n",
      "        tl = TomekLinks()\n",
      "        X_tomek, y_tomek = tl.fit_resample(df.drop(columns=target_name), df[target_name])\n",
      "        df = pd.concat([X_tomek, y_tomek], axis=1)\n",
      "    \n",
      "    elif method == 'smote':\n",
      "        from imblearn.over_sampling import SMOTE\n",
      "        smote = SMOTE()\n",
      "        X_smote, y_smote = smote.fit_resample(df.drop(columns=target_name), df[target_name])\n",
      "        df = pd.concat([X_smote, y_smote], axis=1)\n",
      "\n",
      "    return df.sample(frac=1) \n",
      "\n"
     ]
    }
   ],
   "source": [
    "import inspect\n",
    "print(inspect.getsource(balance_df_by_target))"
   ]
  },
  {
   "cell_type": "code",
   "execution_count": 51,
   "metadata": {},
   "outputs": [],
   "source": [
    "def init_models():\n",
    "    model_lr = LogisticRegression(random_state=21,n_jobs=-1)\n",
    "    model_knn = KNeighborsClassifier()\n",
    "    model_tree = DecisionTreeClassifier(random_state=21)\n",
    "    model_xgb = xgb.XGBClassifier(random_state=21,n_jobs=-1)\n",
    "    model_lgbm = lgbm.LGBMClassifier(random_state=21,n_jobs=-1)\n",
    "    model_catb = catb.CatBoostClassifier(silent=True, random_state=21)\n",
    "\n",
    "    models = {\n",
    "        'lr': model_lr,\n",
    "#         'knn': model_knn,\n",
    "#         'tree': model_tree,\n",
    "#         'xgb': model_xgb,\n",
    "        'lgbm': model_lgbm,\n",
    "        'cat': model_catb\n",
    "    }\n",
    "    return models"
   ]
  },
  {
   "cell_type": "code",
   "execution_count": 52,
   "metadata": {},
   "outputs": [],
   "source": [
    "def get_metrics(report):\n",
    "    f1_macro = report['macro avg']['f1-score']\n",
    "    f1_0 = report['0.0']['f1-score']\n",
    "    f1_1 = report['1.0']['f1-score']\n",
    "    return f1_macro, f1_0, f1_1"
   ]
  },
  {
   "cell_type": "code",
   "execution_count": 53,
   "metadata": {},
   "outputs": [],
   "source": [
    "def run_experiment(X_train, X_test, y_train, y_test, method='not'):\n",
    "    assert method in ['not', 'over', 'under', 'tomek', 'smote'], 'Неправильный метод сэмплирования'\n",
    "    \n",
    "    models = init_models()\n",
    "    \n",
    "    stata = pd.DataFrame()\n",
    "    for name, model in models.items():\n",
    "        model.fit(X_train, y_train)\n",
    "        pred_train = model.predict(X_train)\n",
    "        pred_test = model.predict(X_test)\n",
    "\n",
    "        report_train = classification_report(y_train, pred_train, output_dict=True)\n",
    "        report_test = classification_report(y_test, pred_test, output_dict=True)\n",
    "        f1_macro_train, f1_0_train, f1_1_train = get_metrics(report_train)\n",
    "        f1_macro_test, f1_0_test, f1_1_test = get_metrics(report_test)\n",
    "\n",
    "        stata = stata.append({\n",
    "            'model_name': name,\n",
    "            f'f1_macro_train_{method}': f1_macro_train,\n",
    "            f'f1_macro_test_{method}': f1_macro_test,\n",
    "            f'f1_0_train_{method}': f1_0_train,\n",
    "            f'f1_0_test_{method}': f1_0_test,\n",
    "            f'f1_1_train_{method}': f1_1_train,\n",
    "            f'f1_1_test_{method}': f1_1_test\n",
    "        }, ignore_index=True)\n",
    "    return stata, models"
   ]
  },
  {
   "cell_type": "markdown",
   "metadata": {},
   "source": [
    "**Ничего не делаем с данными**"
   ]
  },
  {
   "cell_type": "code",
   "execution_count": 54,
   "metadata": {},
   "outputs": [],
   "source": [
    "# %%time\n",
    "# stata_not_balanced, models_not_balanced = run_experiment(X_train, X_test, y_train, y_test, method='not')\n",
    "# stata_not_balanced"
   ]
  },
  {
   "cell_type": "markdown",
   "metadata": {},
   "source": [
    "**Oversampling**"
   ]
  },
  {
   "cell_type": "code",
   "execution_count": 55,
   "metadata": {},
   "outputs": [],
   "source": [
    "# df_for_balancing = pd.concat([X_train, y_train], axis=1)\n",
    "# df_balanced = balance_df_by_target(df_for_balancing, 'target', method='over')\n",
    "    \n",
    "# df_balanced['target'].value_counts()"
   ]
  },
  {
   "cell_type": "code",
   "execution_count": 56,
   "metadata": {},
   "outputs": [],
   "source": [
    "# X_train_balanced = df_balanced.drop(columns='target')\n",
    "# y_train_balanced = df_balanced['target']"
   ]
  },
  {
   "cell_type": "code",
   "execution_count": 57,
   "metadata": {},
   "outputs": [],
   "source": [
    "# %%time\n",
    "# stata_balanced_over, models_over = run_experiment(X_train_balanced, X_test, y_train_balanced, y_test, method='over')\n",
    "# stata_balanced_over"
   ]
  },
  {
   "cell_type": "markdown",
   "metadata": {},
   "source": [
    "**Undersampling**"
   ]
  },
  {
   "cell_type": "code",
   "execution_count": 58,
   "metadata": {},
   "outputs": [],
   "source": [
    "# df_for_balancing = pd.concat([X_train, y_train], axis=1)\n",
    "# df_balanced = balance_df_by_target(df_for_balancing, 'target', method='under')\n",
    "    \n",
    "# df_balanced['target'].value_counts()"
   ]
  },
  {
   "cell_type": "code",
   "execution_count": 59,
   "metadata": {},
   "outputs": [],
   "source": [
    "# X_train_balanced = df_balanced.drop(columns='target')\n",
    "# y_train_balanced = df_balanced['target']"
   ]
  },
  {
   "cell_type": "code",
   "execution_count": 60,
   "metadata": {},
   "outputs": [],
   "source": [
    "# %%time\n",
    "# stata_balanced_under, models_under = run_experiment(X_train_balanced, X_test, y_train_balanced, y_test, method='under')\n",
    "# stata_balanced_under"
   ]
  },
  {
   "cell_type": "markdown",
   "metadata": {},
   "source": [
    "**Oversampling (SMOTE)**"
   ]
  },
  {
   "cell_type": "code",
   "execution_count": 61,
   "metadata": {},
   "outputs": [],
   "source": [
    "# from imblearn.over_sampling import SMOTE\n",
    "\n",
    "# smote = SMOTE()\n",
    "# X_train_balanced, y_train_balanced = smote.fit_resample(X_train, y_train)\n",
    "\n",
    "# y_train_balanced.value_counts()"
   ]
  },
  {
   "cell_type": "code",
   "execution_count": 62,
   "metadata": {},
   "outputs": [],
   "source": [
    "# %%time\n",
    "# stata_balanced_smote, models_smote = run_experiment(X_train_balanced, X_test, y_train_balanced, y_test, method='smote')\n",
    "# stata_balanced_smote"
   ]
  },
  {
   "cell_type": "markdown",
   "metadata": {},
   "source": [
    "**Сводим результаты вместе**"
   ]
  },
  {
   "cell_type": "code",
   "execution_count": 63,
   "metadata": {},
   "outputs": [],
   "source": [
    "# stata_combined = stata_not_balanced.merge(stata_balanced_over, on='model_name') \\\n",
    "#     #.merge(stata_balanced_under, on='model_name') \\\n",
    "# #                                    .merge(stata_balanced_smote, on='model_name')\n",
    "                                  \n",
    "                                  \n",
    "# stata_combined.head()"
   ]
  },
  {
   "cell_type": "code",
   "execution_count": 64,
   "metadata": {},
   "outputs": [],
   "source": [
    "# stata_combined.sort_values('f1_1_test_over', ascending=False).iloc[0]"
   ]
  },
  {
   "cell_type": "code",
   "execution_count": 65,
   "metadata": {},
   "outputs": [],
   "source": [
    "# model = models_over['cat']"
   ]
  },
  {
   "cell_type": "code",
   "execution_count": 66,
   "metadata": {},
   "outputs": [],
   "source": [
    "# pred_train = model.predict(X_train_balanced)\n",
    "# pred_test = model.predict(X_test)\n",
    "\n",
    "# evaluate_preds(model, X_train_balanced, X_test, y_train_balanced, y_test)"
   ]
  },
  {
   "cell_type": "markdown",
   "metadata": {},
   "source": [
    "**Код закоментировал для удобства. По сводной таблице лучшие результаты Catboost и Over**"
   ]
  },
  {
   "cell_type": "code",
   "execution_count": 67,
   "metadata": {},
   "outputs": [],
   "source": [
    "TARGET_NAME = 'target'"
   ]
  },
  {
   "cell_type": "code",
   "execution_count": 68,
   "metadata": {},
   "outputs": [
    {
     "data": {
      "text/plain": [
       "0.0    540027\n",
       "1.0    505560\n",
       "Name: target, dtype: int64"
      ]
     },
     "execution_count": 68,
     "metadata": {},
     "output_type": "execute_result"
    }
   ],
   "source": [
    "df_for_balancing = pd.concat([X_train, y_train], axis=1)\n",
    "df_balanced = balance_df_by_target(df_for_balancing, TARGET_NAME, method='over')\n",
    "    \n",
    "df_balanced[TARGET_NAME].value_counts()"
   ]
  },
  {
   "cell_type": "code",
   "execution_count": 69,
   "metadata": {},
   "outputs": [],
   "source": [
    "X_train_balanced = df_balanced.drop(columns=TARGET_NAME)\n",
    "y_train_balanced = df_balanced[TARGET_NAME]"
   ]
  },
  {
   "cell_type": "code",
   "execution_count": 70,
   "metadata": {},
   "outputs": [],
   "source": [
    "frozen_params = {\n",
    "     'silent':True,\n",
    "     'random_state':21,\n",
    "     'eval_metric':'F1',\n",
    "     'early_stopping_rounds':20\n",
    "}"
   ]
  },
  {
   "cell_type": "markdown",
   "metadata": {},
   "source": [
    "### Модель, полученная с нормализованными признаками<a class=\"anchor\" id=\"model_from_prev_lesson\"></a>"
   ]
  },
  {
   "cell_type": "code",
   "execution_count": 71,
   "metadata": {},
   "outputs": [
    {
     "data": {
      "application/vnd.jupyter.widget-view+json": {
       "model_id": "00959732dc42431d99bdc22de0fb89ba",
       "version_major": 2,
       "version_minor": 0
      },
      "text/plain": [
       "MetricVisualizer(layout=Layout(align_self='stretch', height='500px'))"
      ]
     },
     "metadata": {},
     "output_type": "display_data"
    },
    {
     "name": "stdout",
     "output_type": "stream",
     "text": [
      "TRAIN\n",
      "\n",
      "              precision    recall  f1-score   support\n",
      "\n",
      "         0.0       0.95      0.99      0.97    540027\n",
      "         1.0       0.71      0.31      0.44     42130\n",
      "\n",
      "    accuracy                           0.94    582157\n",
      "   macro avg       0.83      0.65      0.70    582157\n",
      "weighted avg       0.93      0.94      0.93    582157\n",
      "\n",
      "TEST\n",
      "\n",
      "              precision    recall  f1-score   support\n",
      "\n",
      "         0.0       0.95      0.99      0.97    231440\n",
      "         1.0       0.66      0.29      0.40     18056\n",
      "\n",
      "    accuracy                           0.94    249496\n",
      "   macro avg       0.80      0.64      0.68    249496\n",
      "weighted avg       0.93      0.94      0.93    249496\n",
      "\n",
      "CONFUSION MATRIX\n",
      "\n",
      "col_0      0.0   1.0\n",
      "target              \n",
      "0.0     228797  2643\n",
      "1.0      12865  5191\n",
      "CPU times: user 2min 57s, sys: 3.18 s, total: 3min\n",
      "Wall time: 27.1 s\n"
     ]
    }
   ],
   "source": [
    "%%time\n",
    "\n",
    "model_catb_norm = catb.CatBoostClassifier(**frozen_params, iterations=300, max_depth=7)\n",
    "model_catb_norm.fit(X_train, y_train, plot=True, eval_set=(X_test, y_test))\n",
    "\n",
    "evaluate_preds(model_catb_norm, X_train, X_test, y_train, y_test)"
   ]
  },
  {
   "cell_type": "markdown",
   "metadata": {},
   "source": [
    "### Модель, полученная с OVER<a class=\"anchor\" id=\"model_from_prev_lesson\"></a>"
   ]
  },
  {
   "cell_type": "code",
   "execution_count": 72,
   "metadata": {},
   "outputs": [
    {
     "data": {
      "application/vnd.jupyter.widget-view+json": {
       "model_id": "278c80f61b05454ca4d0447940c4860d",
       "version_major": 2,
       "version_minor": 0
      },
      "text/plain": [
       "MetricVisualizer(layout=Layout(align_self='stretch', height='500px'))"
      ]
     },
     "metadata": {},
     "output_type": "display_data"
    },
    {
     "name": "stdout",
     "output_type": "stream",
     "text": [
      "TRAIN\n",
      "\n",
      "              precision    recall  f1-score   support\n",
      "\n",
      "         0.0       0.92      0.87      0.90    540027\n",
      "         1.0       0.87      0.92      0.90    505560\n",
      "\n",
      "    accuracy                           0.90   1045587\n",
      "   macro avg       0.90      0.90      0.90   1045587\n",
      "weighted avg       0.90      0.90      0.90   1045587\n",
      "\n",
      "TEST\n",
      "\n",
      "              precision    recall  f1-score   support\n",
      "\n",
      "         0.0       0.99      0.87      0.93    231440\n",
      "         1.0       0.35      0.89      0.51     18056\n",
      "\n",
      "    accuracy                           0.87    249496\n",
      "   macro avg       0.67      0.88      0.72    249496\n",
      "weighted avg       0.94      0.87      0.90    249496\n",
      "\n",
      "CONFUSION MATRIX\n",
      "\n",
      "col_0      0.0    1.0\n",
      "target               \n",
      "0.0     201980  29460\n",
      "1.0       1941  16115\n",
      "CPU times: user 9min 33s, sys: 2.79 s, total: 9min 36s\n",
      "Wall time: 1min 18s\n"
     ]
    }
   ],
   "source": [
    "%%time\n",
    "\n",
    "model_catb_over = catb.CatBoostClassifier(**frozen_params, iterations=300, max_depth=7)\n",
    "model_catb_over.fit(X_train_balanced, y_train_balanced, plot=True, eval_set=(X_test, y_test))\n",
    "\n",
    "evaluate_preds(model_catb_over, X_train_balanced, X_test, y_train_balanced, y_test)"
   ]
  },
  {
   "cell_type": "markdown",
   "metadata": {},
   "source": [
    "### Модель, полученная с гиперпораметром штраф за веса<a class=\"anchor\" id=\"model_from_prev_lesson\"></a>"
   ]
  },
  {
   "cell_type": "code",
   "execution_count": 73,
   "metadata": {},
   "outputs": [
    {
     "data": {
      "text/plain": [
       "12.818110610016616"
      ]
     },
     "execution_count": 73,
     "metadata": {},
     "output_type": "execute_result"
    }
   ],
   "source": [
    "disbalance = y_train.value_counts()[0] / y_train.value_counts()[1]\n",
    "disbalance"
   ]
  },
  {
   "cell_type": "code",
   "execution_count": 74,
   "metadata": {},
   "outputs": [],
   "source": [
    "frozen_params = {\n",
    "     'class_weights':[1, disbalance], \n",
    "     'silent':True,\n",
    "     'random_state':21,\n",
    "     'eval_metric':'F1',\n",
    "     'early_stopping_rounds':20\n",
    "}"
   ]
  },
  {
   "cell_type": "code",
   "execution_count": 75,
   "metadata": {},
   "outputs": [
    {
     "data": {
      "application/vnd.jupyter.widget-view+json": {
       "model_id": "56afd912ecef4127bc171e639a986d9a",
       "version_major": 2,
       "version_minor": 0
      },
      "text/plain": [
       "MetricVisualizer(layout=Layout(align_self='stretch', height='500px'))"
      ]
     },
     "metadata": {},
     "output_type": "display_data"
    },
    {
     "name": "stdout",
     "output_type": "stream",
     "text": [
      "TRAIN\n",
      "\n",
      "              precision    recall  f1-score   support\n",
      "\n",
      "         0.0       0.99      0.87      0.92    540027\n",
      "         1.0       0.35      0.91      0.50     42130\n",
      "\n",
      "    accuracy                           0.87    582157\n",
      "   macro avg       0.67      0.89      0.71    582157\n",
      "weighted avg       0.95      0.87      0.89    582157\n",
      "\n",
      "TEST\n",
      "\n",
      "              precision    recall  f1-score   support\n",
      "\n",
      "         0.0       0.99      0.87      0.92    231440\n",
      "         1.0       0.35      0.91      0.50     18056\n",
      "\n",
      "    accuracy                           0.87    249496\n",
      "   macro avg       0.67      0.89      0.71    249496\n",
      "weighted avg       0.95      0.87      0.89    249496\n",
      "\n",
      "CONFUSION MATRIX\n",
      "\n",
      "col_0      0.0    1.0\n",
      "target               \n",
      "0.0     200443  30997\n",
      "1.0       1645  16411\n",
      "CPU times: user 1min 2s, sys: 473 ms, total: 1min 3s\n",
      "Wall time: 9.9 s\n"
     ]
    }
   ],
   "source": [
    "%%time\n",
    "\n",
    "model_catb_weights = catb.CatBoostClassifier(**frozen_params, iterations=300, max_depth=7)\n",
    "model_catb_weights.fit(X_train, y_train, plot=True, eval_set=(X_test, y_test))\n",
    "\n",
    "evaluate_preds(model_catb_weights, X_train, X_test, y_train, y_test)"
   ]
  },
  {
   "cell_type": "markdown",
   "metadata": {},
   "source": [
    "### Сохранение финальной модели<a class=\"anchor\" id=\"final_model_saving\"></a>"
   ]
  },
  {
   "cell_type": "code",
   "execution_count": 76,
   "metadata": {},
   "outputs": [],
   "source": [
    "with open(MODEL_FILE_PATH, 'wb') as file:\n",
    "    pickle.dump(model_catb_weights, file)"
   ]
  },
  {
   "cell_type": "markdown",
   "metadata": {},
   "source": [
    "### Выбор порога вероятности для определения класса<a class=\"anchor\" id=\"threshold_calibration\"></a>"
   ]
  },
  {
   "cell_type": "code",
   "execution_count": 77,
   "metadata": {},
   "outputs": [
    {
     "data": {
      "image/png": "[encoded data removed]",
      "text/plain": [
       "<Figure size 1080x360 with 2 Axes>"
      ]
     },
     "metadata": {
      "needs_background": "light"
     },
     "output_type": "display_data"
    }
   ],
   "source": [
    "preds = model_catb_weights.predict_proba(X_test)\n",
    "show_proba_calibration_plots(preds[:, 1], y_test)"
   ]
  },
  {
   "cell_type": "code",
   "execution_count": 78,
   "metadata": {},
   "outputs": [
    {
     "data": {
      "text/plain": [
       "array([[0.97064229, 0.02935771],\n",
       "       [0.83692265, 0.16307735],\n",
       "       [0.88988172, 0.11011828],\n",
       "       ...,\n",
       "       [0.8380149 , 0.1619851 ],\n",
       "       [0.91699385, 0.08300615],\n",
       "       [0.98020399, 0.01979601]])"
      ]
     },
     "execution_count": 78,
     "metadata": {},
     "output_type": "execute_result"
    }
   ],
   "source": [
    "preds"
   ]
  },
  {
   "cell_type": "code",
   "execution_count": 79,
   "metadata": {},
   "outputs": [],
   "source": [
    "def plot_confusion_matrix(cm, classes,\n",
    "                          normalize=False,\n",
    "                          title='Confusion matrix',\n",
    "                          cmap=plt.cm.Blues):\n",
    "    \"\"\"\n",
    "    This function prints and plots the confusion matrix.\n",
    "    Normalization can be applied by setting `normalize=True`.\n",
    "    \"\"\"\n",
    "    plt.imshow(cm, interpolation='nearest', cmap=cmap)\n",
    "    plt.title(title)\n",
    "    plt.colorbar()\n",
    "    tick_marks = np.arange(len(classes))\n",
    "    plt.xticks(tick_marks, classes, rotation=45)\n",
    "    plt.yticks(tick_marks, classes)\n",
    "\n",
    "    if normalize:\n",
    "        cm = cm.astype('float') / cm.sum(axis=1)[:, np.newaxis]\n",
    "        print(\"Normalized confusion matrix\")\n",
    "    else:\n",
    "        print('Confusion matrix, without normalization')\n",
    "\n",
    "    print(cm)\n",
    "\n",
    "    thresh = cm.max() / 2.\n",
    "    for i, j in itertools.product(range(cm.shape[0]), range(cm.shape[1])):\n",
    "        plt.text(j, i, cm[i, j],\n",
    "                 horizontalalignment=\"center\",\n",
    "                 color=\"white\" if cm[i, j] > thresh else \"black\")\n",
    "\n",
    "    plt.tight_layout()\n",
    "    plt.ylabel('True label')\n",
    "    plt.xlabel('Predicted label')"
   ]
  },
  {
   "cell_type": "code",
   "execution_count": 80,
   "metadata": {},
   "outputs": [],
   "source": [
    "from sklearn.metrics import (f1_score, roc_auc_score, precision_score, classification_report,\n",
    "                             precision_recall_curve, confusion_matrix)"
   ]
  },
  {
   "cell_type": "code",
   "execution_count": 81,
   "metadata": {},
   "outputs": [],
   "source": [
    "precision, recall, thresholds = precision_recall_curve(y_test, preds[:, 1])"
   ]
  },
  {
   "cell_type": "code",
   "execution_count": 82,
   "metadata": {},
   "outputs": [
    {
     "data": {
      "text/plain": [
       "array([0.02079386, 0.02079471, 0.02079496, ..., 0.99084196, 0.99095167,\n",
       "       0.9915972 ])"
      ]
     },
     "execution_count": 82,
     "metadata": {},
     "output_type": "execute_result"
    }
   ],
   "source": [
    "thresholds"
   ]
  },
  {
   "cell_type": "markdown",
   "metadata": {},
   "source": [
    "**Выберем лучшую отсечку**"
   ]
  },
  {
   "cell_type": "code",
   "execution_count": 83,
   "metadata": {},
   "outputs": [
    {
     "name": "stdout",
     "output_type": "stream",
     "text": [
      "Best Threshold=0.80, F-Score=0.562 Precision=0.467, Recall=0.704\n"
     ]
    }
   ],
   "source": [
    "fscore = (2 * precision * recall) / (precision + recall)\n",
    "# locate the index of the largest f score\n",
    "ix = np.argmax(fscore)\n",
    "print(f'Best Threshold={thresholds[ix]:.2f}, F-Score={fscore[ix]:.3f}',\n",
    "      f'Precision={precision[ix]:.3f}, Recall={recall[ix]:.3f}')"
   ]
  },
  {
   "cell_type": "code",
   "execution_count": 84,
   "metadata": {},
   "outputs": [
    {
     "data": {
      "text/plain": [
       "0.7986988781481589"
      ]
     },
     "execution_count": 84,
     "metadata": {},
     "output_type": "execute_result"
    }
   ],
   "source": [
    "thresholds[ix]"
   ]
  },
  {
   "cell_type": "code",
   "execution_count": 85,
   "metadata": {},
   "outputs": [
    {
     "name": "stdout",
     "output_type": "stream",
     "text": [
      "              precision    recall  f1-score   support\n",
      "\n",
      "         0.0       0.98      0.94      0.96    231440\n",
      "         1.0       0.47      0.70      0.56     18056\n",
      "\n",
      "    accuracy                           0.92    249496\n",
      "   macro avg       0.72      0.82      0.76    249496\n",
      "weighted avg       0.94      0.92      0.93    249496\n",
      "\n"
     ]
    }
   ],
   "source": [
    "print(classification_report(y_test, preds[:, 1] >= thresholds[ix]))"
   ]
  },
  {
   "cell_type": "markdown",
   "metadata": {},
   "source": [
    "### Сохранение финальной модели<a class=\"anchor\" id=\"final_model_saving\"></a>"
   ]
  },
  {
   "cell_type": "code",
   "execution_count": 86,
   "metadata": {},
   "outputs": [],
   "source": [
    "with open(MODEL_FILE_PATH, 'wb') as file:\n",
    "    pickle.dump(model_catb_weights, file)"
   ]
  },
  {
   "cell_type": "markdown",
   "metadata": {},
   "source": [
    "### Формирование индивидуальных предсказаний абонентам"
   ]
  },
  {
   "cell_type": "code",
   "execution_count": 87,
   "metadata": {},
   "outputs": [],
   "source": [
    "test = pd.read_csv(TEST_MERGE)"
   ]
  },
  {
   "cell_type": "code",
   "execution_count": 88,
   "metadata": {},
   "outputs": [
    {
     "data": {
      "text/plain": [
       "array([0.02316182, 0.06143541, 0.02316182, ..., 0.06968416, 0.06019391,\n",
       "       0.03271236])"
      ]
     },
     "execution_count": 88,
     "metadata": {},
     "output_type": "execute_result"
    }
   ],
   "source": [
    "offer = pd.DataFrame(test)\n",
    "model_catb_weights.predict_proba(test)[:,1]"
   ]
  },
  {
   "cell_type": "code",
   "execution_count": 89,
   "metadata": {},
   "outputs": [
    {
     "data": {
      "text/html": [
       "<div>\n",
       "<style scoped>\n",
       "    .dataframe tbody tr th:only-of-type {\n",
       "        vertical-align: middle;\n",
       "    }\n",
       "\n",
       "    .dataframe tbody tr th {\n",
       "        vertical-align: top;\n",
       "    }\n",
       "\n",
       "    .dataframe thead th {\n",
       "        text-align: right;\n",
       "    }\n",
       "</style>\n",
       "<table border=\"1\" class=\"dataframe\">\n",
       "  <thead>\n",
       "    <tr style=\"text-align: right;\">\n",
       "      <th></th>\n",
       "      <th>id</th>\n",
       "      <th>1</th>\n",
       "      <th>2</th>\n",
       "      <th>4</th>\n",
       "      <th>5</th>\n",
       "      <th>6</th>\n",
       "      <th>7</th>\n",
       "      <th>8</th>\n",
       "      <th>9</th>\n",
       "      <th>max prob offer</th>\n",
       "      <th>vas_id offer</th>\n",
       "    </tr>\n",
       "  </thead>\n",
       "  <tbody>\n",
       "    <tr>\n",
       "      <th>0</th>\n",
       "      <td>55</td>\n",
       "      <td>0.012288</td>\n",
       "      <td>0.023162</td>\n",
       "      <td>0.135736</td>\n",
       "      <td>0.135736</td>\n",
       "      <td>0.135736</td>\n",
       "      <td>0.135736</td>\n",
       "      <td>0.135736</td>\n",
       "      <td>0.135736</td>\n",
       "      <td>0.135736</td>\n",
       "      <td>4</td>\n",
       "    </tr>\n",
       "    <tr>\n",
       "      <th>1</th>\n",
       "      <td>64</td>\n",
       "      <td>0.010974</td>\n",
       "      <td>0.027049</td>\n",
       "      <td>0.061435</td>\n",
       "      <td>0.061435</td>\n",
       "      <td>0.061435</td>\n",
       "      <td>0.061435</td>\n",
       "      <td>0.061435</td>\n",
       "      <td>0.061435</td>\n",
       "      <td>0.061435</td>\n",
       "      <td>4</td>\n",
       "    </tr>\n",
       "    <tr>\n",
       "      <th>2</th>\n",
       "      <td>151</td>\n",
       "      <td>0.012288</td>\n",
       "      <td>0.023162</td>\n",
       "      <td>0.135736</td>\n",
       "      <td>0.135736</td>\n",
       "      <td>0.135736</td>\n",
       "      <td>0.135736</td>\n",
       "      <td>0.135736</td>\n",
       "      <td>0.135736</td>\n",
       "      <td>0.135736</td>\n",
       "      <td>4</td>\n",
       "    </tr>\n",
       "    <tr>\n",
       "      <th>3</th>\n",
       "      <td>274</td>\n",
       "      <td>0.010974</td>\n",
       "      <td>0.027049</td>\n",
       "      <td>0.061435</td>\n",
       "      <td>0.061435</td>\n",
       "      <td>0.061435</td>\n",
       "      <td>0.061435</td>\n",
       "      <td>0.061435</td>\n",
       "      <td>0.061435</td>\n",
       "      <td>0.061435</td>\n",
       "      <td>4</td>\n",
       "    </tr>\n",
       "    <tr>\n",
       "      <th>4</th>\n",
       "      <td>274</td>\n",
       "      <td>0.012288</td>\n",
       "      <td>0.023162</td>\n",
       "      <td>0.135736</td>\n",
       "      <td>0.135736</td>\n",
       "      <td>0.135736</td>\n",
       "      <td>0.135736</td>\n",
       "      <td>0.135736</td>\n",
       "      <td>0.135736</td>\n",
       "      <td>0.135736</td>\n",
       "      <td>4</td>\n",
       "    </tr>\n",
       "    <tr>\n",
       "      <th>...</th>\n",
       "      <td>...</td>\n",
       "      <td>...</td>\n",
       "      <td>...</td>\n",
       "      <td>...</td>\n",
       "      <td>...</td>\n",
       "      <td>...</td>\n",
       "      <td>...</td>\n",
       "      <td>...</td>\n",
       "      <td>...</td>\n",
       "      <td>...</td>\n",
       "      <td>...</td>\n",
       "    </tr>\n",
       "    <tr>\n",
       "      <th>71226</th>\n",
       "      <td>4362676</td>\n",
       "      <td>0.011236</td>\n",
       "      <td>0.026987</td>\n",
       "      <td>0.142023</td>\n",
       "      <td>0.142023</td>\n",
       "      <td>0.142023</td>\n",
       "      <td>0.142023</td>\n",
       "      <td>0.142023</td>\n",
       "      <td>0.142023</td>\n",
       "      <td>0.142023</td>\n",
       "      <td>4</td>\n",
       "    </tr>\n",
       "    <tr>\n",
       "      <th>71227</th>\n",
       "      <td>4362677</td>\n",
       "      <td>0.018060</td>\n",
       "      <td>0.030617</td>\n",
       "      <td>0.060194</td>\n",
       "      <td>0.060194</td>\n",
       "      <td>0.060194</td>\n",
       "      <td>0.060194</td>\n",
       "      <td>0.060194</td>\n",
       "      <td>0.060194</td>\n",
       "      <td>0.060194</td>\n",
       "      <td>4</td>\n",
       "    </tr>\n",
       "    <tr>\n",
       "      <th>71228</th>\n",
       "      <td>4362697</td>\n",
       "      <td>0.018337</td>\n",
       "      <td>0.032712</td>\n",
       "      <td>0.069684</td>\n",
       "      <td>0.069684</td>\n",
       "      <td>0.069684</td>\n",
       "      <td>0.069684</td>\n",
       "      <td>0.069684</td>\n",
       "      <td>0.069684</td>\n",
       "      <td>0.069684</td>\n",
       "      <td>4</td>\n",
       "    </tr>\n",
       "    <tr>\n",
       "      <th>71229</th>\n",
       "      <td>4362712</td>\n",
       "      <td>0.018060</td>\n",
       "      <td>0.030617</td>\n",
       "      <td>0.060194</td>\n",
       "      <td>0.060194</td>\n",
       "      <td>0.060194</td>\n",
       "      <td>0.060194</td>\n",
       "      <td>0.060194</td>\n",
       "      <td>0.060194</td>\n",
       "      <td>0.060194</td>\n",
       "      <td>4</td>\n",
       "    </tr>\n",
       "    <tr>\n",
       "      <th>71230</th>\n",
       "      <td>4362720</td>\n",
       "      <td>0.018337</td>\n",
       "      <td>0.032712</td>\n",
       "      <td>0.069684</td>\n",
       "      <td>0.069684</td>\n",
       "      <td>0.069684</td>\n",
       "      <td>0.069684</td>\n",
       "      <td>0.069684</td>\n",
       "      <td>0.069684</td>\n",
       "      <td>0.069684</td>\n",
       "      <td>4</td>\n",
       "    </tr>\n",
       "  </tbody>\n",
       "</table>\n",
       "<p>71231 rows × 11 columns</p>\n",
       "</div>"
      ],
      "text/plain": [
       "            id         1         2         4         5         6         7  \\\n",
       "0           55  0.012288  0.023162  0.135736  0.135736  0.135736  0.135736   \n",
       "1           64  0.010974  0.027049  0.061435  0.061435  0.061435  0.061435   \n",
       "2          151  0.012288  0.023162  0.135736  0.135736  0.135736  0.135736   \n",
       "3          274  0.010974  0.027049  0.061435  0.061435  0.061435  0.061435   \n",
       "4          274  0.012288  0.023162  0.135736  0.135736  0.135736  0.135736   \n",
       "...        ...       ...       ...       ...       ...       ...       ...   \n",
       "71226  4362676  0.011236  0.026987  0.142023  0.142023  0.142023  0.142023   \n",
       "71227  4362677  0.018060  0.030617  0.060194  0.060194  0.060194  0.060194   \n",
       "71228  4362697  0.018337  0.032712  0.069684  0.069684  0.069684  0.069684   \n",
       "71229  4362712  0.018060  0.030617  0.060194  0.060194  0.060194  0.060194   \n",
       "71230  4362720  0.018337  0.032712  0.069684  0.069684  0.069684  0.069684   \n",
       "\n",
       "              8         9  max prob offer  vas_id offer  \n",
       "0      0.135736  0.135736        0.135736             4  \n",
       "1      0.061435  0.061435        0.061435             4  \n",
       "2      0.135736  0.135736        0.135736             4  \n",
       "3      0.061435  0.061435        0.061435             4  \n",
       "4      0.135736  0.135736        0.135736             4  \n",
       "...         ...       ...             ...           ...  \n",
       "71226  0.142023  0.142023        0.142023             4  \n",
       "71227  0.060194  0.060194        0.060194             4  \n",
       "71228  0.069684  0.069684        0.069684             4  \n",
       "71229  0.060194  0.060194        0.060194             4  \n",
       "71230  0.069684  0.069684        0.069684             4  \n",
       "\n",
       "[71231 rows x 11 columns]"
      ]
     },
     "execution_count": 89,
     "metadata": {},
     "output_type": "execute_result"
    }
   ],
   "source": [
    "# создаём датафрейм с айлишниками абонентов\n",
    "offer_predict = pd.DataFrame(test['id'].copy())\n",
    "\n",
    "# проходим цилом по номерам подключаемых услуг\n",
    "for i in [1, 2, 4, 5, 6, 7, 8, 9]:\n",
    "    # создаём датафрейм с услугой\n",
    "    offer = pd.DataFrame(test)\n",
    "    offer['vas_id'] = i\n",
    "    # предиктим вероятность подключения услуги\n",
    "    offer_predict[i] = model_catb_weights.predict_proba(offer)[:,1]\n",
    "offer_predict['max prob offer'] = offer_predict.iloc[:, 1:-1].max(axis = 1)\n",
    "offer_predict['vas_id offer'] = offer_predict.iloc[:, 1:-1].idxmax(axis = 1)\n",
    "offer_predict\n"
   ]
  },
  {
   "cell_type": "markdown",
   "metadata": {},
   "source": [
    "### Посмотрим распределение услуг, рекомендуемых к подключению"
   ]
  },
  {
   "cell_type": "code",
   "execution_count": 90,
   "metadata": {},
   "outputs": [
    {
     "data": {
      "image/png": "[encoded data removed]",
      "text/plain": [
       "<Figure size 432x288 with 1 Axes>"
      ]
     },
     "metadata": {
      "needs_background": "light"
     },
     "output_type": "display_data"
    }
   ],
   "source": [
    "plt.hist(offer_predict['max prob offer'], bins=50);"
   ]
  },
  {
   "cell_type": "markdown",
   "metadata": {},
   "source": [
    "#### Выбираем порог взависимости от предоставленных ресурсов"
   ]
  },
  {
   "cell_type": "code",
   "execution_count": null,
   "metadata": {},
   "outputs": [],
   "source": []
  }
 ],
 "metadata": {
  "kernelspec": {
   "display_name": "Python 3",
   "language": "python",
   "name": "python3"
  },
  "language_info": {
   "codemirror_mode": {
    "name": "ipython",
    "version": 3
   },
   "file_extension": ".py",
   "mimetype": "text/x-python",
   "name": "python",
   "nbconvert_exporter": "python",
   "pygments_lexer": "ipython3",
   "version": "3.8.5"
  }
 },
 "nbformat": 4,
 "nbformat_minor": 4
}
